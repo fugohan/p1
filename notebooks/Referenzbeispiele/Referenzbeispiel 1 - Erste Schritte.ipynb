{
 "cells": [
  {
   "cell_type": "markdown",
   "metadata": {
    "deletable": false,
    "editable": false,
    "run_control": {
     "frozen": true
    }
   },
   "source": [
    "# Referenzbeispiel 1\n",
    "# Erste Schritte\n",
    "\n",
    "In der ersten Übungseinheit lernen Sie GNU/Linux kennen und entwickeln ein erstes, einfaches\n",
    "C-Programm. In diesem Programm sind zuerst konstante Zeichenketten auszugeben, wie dies im\n",
    "Programm “Hallo Welt!” gezeigt wird, und danach arithmetische Ausdrücke auszuwerten und\n",
    "das Ergebnis auszugeben. Der Stoff für die erste Übungseinheit umfasst die Kapitel 1 bis 10 im\n",
    "Buch “Programmieren in C”.\n",
    "\n",
    "## 1 Textausgabe\n",
    "\n",
    "Wie in Vorlesung 3.1 beschrieben, gibt das folgende Programm konstante Zeichenketten aus."
   ]
  },
  {
   "cell_type": "code",
   "execution_count": null,
   "metadata": {},
   "outputs": [],
   "source": [
    "/* Hier am Server kann Quelltxt in Zellen durch einen Klick in die Zelle und \n",
    "    die Tastenkombination [Shift]+[Enter] ausgeführt werden */\n",
    "#include <stdio.h>\n",
    "int main ()\n",
    "{\n",
    "    printf(\"********************************\\n\");\n",
    "    printf(\"*        Programmieren 1       *\\n\");\n",
    "    printf(\"*                              *\\n\");\n",
    "    printf(\"*      Vorname, Nachname       *\\n\");\n",
    "    printf(\"*        Matrikelnummer        *\\n\");\n",
    "    printf(\"********************************\\n\");\n",
    "    \n",
    "    return 0;\n",
    "}\n",
    "/* Setzen Sie nun Ihren eigenen Vor- und Nachnamen, \n",
    "    sowie Ihre Matrikelnummer ein und kompilieren Sie neu ([Shift] + [Enter]) */"
   ]
  },
  {
   "cell_type": "markdown",
   "metadata": {
    "deletable": false,
    "editable": false,
    "run_control": {
     "frozen": true
    }
   },
   "source": [
    "## 2 Kompilieren und Ausführen\n",
    "\n",
    "Hier am Server wird das Kompilieren und Ausführen durch die Tastenkombination [Shift] + [Enter] automatisch vom Server übernommen. Auf einem Linux Rechner müssen Sie das Programm allerdings selbst kompilieren und danach ausführen.   \n",
    "Dies geschieht mit dem folgenden Befehl:   \n",
    "`gcc -o banner Banner.c`\n",
    "Danach befindet sich eine ausführbare Datei **banner** im aktuellen Verzeichnis.\n",
    "\n",
    "### Fehler und Warnungen des Compilers\n",
    "Sollte der Compiler Fehler oder Warnungen ausgeben, so arbeiten Sie die\n",
    "Fehler immer der Reihe nach vom ersten bis zum letzten Fehler ab! Dieses Vorgehen ist deshalb\n",
    "wichtig, da in den meisten Fällen ein Fehler im folgenden Verlauf weitere Fehler erzeugt.\n",
    "\n",
    "Das folgende Beispiel soll dies verdeutlichen:"
   ]
  },
  {
   "cell_type": "code",
   "execution_count": null,
   "metadata": {},
   "outputs": [],
   "source": [
    "#include <stdio.h>\n",
    "int main ()\n",
    "{\n",
    "    printf(\"********************************\\n\");\n",
    "    printf(\"*        Programmieren 1       *\\n); /* In dieser Zeile wurde ein Anführungszeichen vergessen */\n",
    "    printf(\"*                              *\\n\");\n",
    "    printf(\"*      Vorname, Nachname       *\\n\");\n",
    "    printf(\"*        Matrikelnummer        *\\n\");\n",
    "    printf(\"********************************\\n\");\n",
    "    \n",
    "    return 0;\n",
    "}"
   ]
  },
  {
   "cell_type": "markdown",
   "metadata": {
    "deletable": false,
    "editable": false,
    "run_control": {
     "frozen": true
    }
   },
   "source": [
    "Der erste Fehler sagt Ihnen genau wo der Fehler liegt und alle nachfolgenden Fehler verschwinden nach Beheben des ersten Fehlers und das Programm kann ausgeführt werden.\n",
    "\n",
    "## 3 Auswertung von Formeln\n",
    "\n",
    "Im folgenden Beispiel wird der Umfang und Flächeninhalt eines Rechtecks berechnet:"
   ]
  },
  {
   "cell_type": "code",
   "execution_count": null,
   "metadata": {},
   "outputs": [],
   "source": [
    "#include <stdio.h>\n",
    "\n",
    "int main ()\n",
    "{\n",
    "    /* Definition der Variablen */\n",
    "    double hoehe;\n",
    "    double breite;\n",
    "    double flaeche;\n",
    "    double umfang;\n",
    "    /* hier stehen die Aufrufe von printf(), siehe oben */\n",
    "    /* Wertzuweisungen */\n",
    "    hoehe = 7.5;\n",
    "    breite = 13.2;\n",
    "    /* Berechnungen */\n",
    "    flaeche = hoehe * breite;\n",
    "    umfang = 2 * hoehe + 2 * breite;\n",
    "    /* Ausgabe */\n",
    "    printf(\"Hoehe   = %g\\n\", hoehe);\n",
    "    printf(\"Breite  = %g\\n\", breite);\n",
    "    printf(\"Flaeche = %g\\n\", flaeche);\n",
    "    printf(\"Umfang  = %g\\n\", umfang);\n",
    "    \n",
    "    return 0;\n",
    "}"
   ]
  },
  {
   "cell_type": "markdown",
   "metadata": {
    "deletable": false,
    "editable": false,
    "run_control": {
     "frozen": true
    }
   },
   "source": [
    "## Fragen zum Selbststudium\n",
    "\n",
    "* Was für eine Art von Befehl ist die Zeile `#include <stdio.h>` und was tut er?\n",
    "* Was passiert wenn man im vorherigen Beispiel die Typen der Variablen von `double` zu `int` ändert?"
   ]
  },
  {
   "cell_type": "code",
   "execution_count": null,
   "metadata": {},
   "outputs": [],
   "source": []
  }
 ],
 "metadata": {
  "kernelspec": {
   "display_name": "C",
   "language": "c",
   "name": "c"
  },
  "language_info": {
   "file_extension": ".c",
   "mimetype": "text/x-csrc",
   "name": "text/x-csrc"
  }
 },
 "nbformat": 4,
 "nbformat_minor": 2
}
