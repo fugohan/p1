{
 "cells": [
  {
   "cell_type": "markdown",
   "metadata": {
    "deletable": false,
    "editable": false,
    "run_control": {
     "frozen": true
    }
   },
   "source": [
    "# Vorlesung 4.1\n",
    "# Grafische Darstellungsmittel\n",
    "\n",
    "---\n",
    " **Hinweis:**\n",
    " Diese interaktiven Webseiten beschreiben parallel zu den Vorlesungsfolien das jeweilige Stoffgebiet. Zellen mit C Quelltext können mittels der Tastenkombination \\[Shift\\] + \\[Enter\\] kompiliert und ausgeführt werden. Es wird Ihnen empfohlen, Änderungen in diversen Zellen vorzunehmen um ein Gefühl für die Sprache C zu entwickeln.\n",
    " \n",
    "---\n",
    "\n",
    "## Arten von Darstellungsmitteln\n",
    "\n",
    "* **Struktogramm**: Darstellung von Programmen mittels Strukturblöcken\n",
    "* **Datenflussdiagramm**: Beschreibt den Datenfluss und die Verwendung von Daten in einem Programm\n",
    "* **Programmablaufplan**: Darstellung von Programmen mittels Operationen und Ablauf\n",
    "\n",
    "### Struktogramm\n",
    "\n",
    "In einem Struktogramm werden Strukturblöcke durch Steuerkonstrukte verbunden um den Ablauf eines Programmes zu beschreiben. Die wichtigsten Steuerkonstrukte sind:\n",
    "\n",
    "* **Sequenz**: aufeinanderfolgende Strukturblöcke\n",
    "* **Selektion**: abhängig von einer Bedingung werden nur bestimmte Strukturblöcke ausgeführt\n",
    "* **Iteration**: Strukturblöcke werden in einer **Schleife** mehrmals hintereinander ausgeführt\n",
    "\n",
    "### Sequenz\n",
    "\n",
    "Ein Programm welches nur aufeinanderfolgende Befehle ausführt kann mit einer einzigen Sequenz beschrieben werden. Beachten Sie, dass in Strukturblöcken auch Beschreibungen des Ausgeführten stehen können und nicht zwangsläufig nur C Befehle.\n",
    "\n",
    "<img src=\"./images/sequenz.png\" width=\"500\">"
   ]
  },
  {
   "cell_type": "code",
   "execution_count": null,
   "metadata": {},
   "outputs": [],
   "source": [
    "/* Das entsprechende C Programm */\n",
    "#include <stdio.h>\n",
    "\n",
    "int main(){\n",
    "    printf(\"A\\n\");\n",
    "    printf(\"B\\n\");\n",
    "    printf(\"C\\n\");\n",
    "    printf(\"D\\n\");\n",
    "    \n",
    "    return 0;\n",
    "}"
   ]
  },
  {
   "cell_type": "markdown",
   "metadata": {
    "deletable": false,
    "editable": false,
    "run_control": {
     "frozen": true
    }
   },
   "source": [
    "### Selektion\n",
    "\n",
    "In Abhängigkeit von einer Bedingung werden zwei verschiedene Strukturblöcke ausgeführt. In der Sprache C gibt es mehrere Möglichkeiten eine Selektion durchzuführen. Die verschiedenen Möglichkeiten werden in Vorlesung 4.2 näher erläutert.\n",
    "\n",
    "<img src=\"./images/selektion.png\" width=\"500\">"
   ]
  },
  {
   "cell_type": "code",
   "execution_count": null,
   "metadata": {},
   "outputs": [],
   "source": [
    "/* Ein beispielhaftes C Programm */\n",
    "#include <stdio.h>\n",
    "\n",
    "int main(){\n",
    "    /* versuchen Sie a zu verändern um das Ergebnis der if Anweisung zu ändern */\n",
    "    long a = 1;\n",
    "    long b = 0;\n",
    "    \n",
    "    /* Die if Anweisung betsteht aus:\n",
    "        if(Bedingung){\n",
    "            Quelltext\n",
    "        }\n",
    "        Der Quelltext in den {} wird ausgeführt wenn die Bedingung\n",
    "        in den () true ergibt. Falls nicht, wird stattdessen der else Block ausgeführt */\n",
    "    if(a > b){\n",
    "        printf(\"a\\n\");\n",
    "    } else {\n",
    "        printf(\"b\\n\");\n",
    "    }\n",
    "    \n",
    "    return 0;\n",
    "}"
   ]
  },
  {
   "cell_type": "markdown",
   "metadata": {
    "deletable": false,
    "editable": false,
    "run_control": {
     "frozen": true
    }
   },
   "source": [
    "### Iteration\n",
    "\n",
    "Iterationen werden verwendet um Anweisungen wiederholt auszuführen. Dadurch wird mehrfaches Schreiben von sehr ähnlichem Code verhindert. In der Sprache C ist dies durch Schleifen realisiert, welche so lange durchlaufen, bis die Schleifenbedingung nicht mehr erfüllt ist. Schleifen in C werden in Vorlesung 4.3 genau erklärt. Es werden zwei Arten von Schleifen unterschieden:\n",
    "\n",
    "<img src=\"./images/iteration.png\" width=\"500\">\n",
    "\n",
    "Eine nachprüfende Schleife wird **immer** zumindest einmal ausgeführt, während eine vorprüfende Schleife kein einziges Mal durchlaufen wird wenn die Schleifenbedingung schon zu Anfang falsch ist."
   ]
  },
  {
   "cell_type": "code",
   "execution_count": null,
   "metadata": {},
   "outputs": [],
   "source": [
    "/* Ein Beispiel für eine vorprüfende Schleife in der Sprache C ist die while Schleife.\n",
    "    Hier werden alle Zweierpotenzen kleiner als 1000 ausgegeben */\n",
    "#include <stdio.h>\n",
    "\n",
    "int main(){\n",
    "    long potenz = 1;\n",
    "    \n",
    "    /* Die while Schleife:\n",
    "        while(Bedingung){\n",
    "            Quelltext\n",
    "        }\n",
    "        Der Quelltext in den {} wird so oft hintereinander ausgeführt\n",
    "        bis die Bedingung false ergibt */\n",
    "    while(potenz < 1000){\n",
    "        printf(\"%ld\\n\", potenz);\n",
    "        potenz = potenz * 2;\n",
    "    }\n",
    "    \n",
    "    return 0;\n",
    "}"
   ]
  },
  {
   "cell_type": "code",
   "execution_count": null,
   "metadata": {},
   "outputs": [],
   "source": []
  }
 ],
 "metadata": {
  "kernelspec": {
   "display_name": "C",
   "language": "c",
   "name": "c"
  },
  "language_info": {
   "file_extension": ".c",
   "mimetype": "text/x-csrc",
   "name": "text/x-csrc"
  }
 },
 "nbformat": 4,
 "nbformat_minor": 2
}
