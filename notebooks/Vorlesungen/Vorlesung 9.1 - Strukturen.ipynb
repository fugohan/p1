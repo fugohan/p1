{
 "cells": [
  {
   "cell_type": "markdown",
   "metadata": {
    "deletable": false,
    "editable": false,
    "run_control": {
     "frozen": true
    }
   },
   "source": [
    "# Vorlesung 9.1\n",
    "# Strukturen\n",
    "\n",
    "---\n",
    " **Hinweis:**\n",
    " Diese interaktiven Webseiten beschreiben parallel zu den Vorlesungsfolien das jeweilige Stoffgebiet. Zellen mit C Quelltext können mittels der Tastenkombination \\[Shift\\] + \\[Enter\\] kompiliert und ausgeführt werden. Es wird Ihnen empfohlen, Änderungen in diversen Zellen vorzunehmen um ein Gefühl für die Sprache C zu entwickeln.\n",
    " \n",
    "---\n",
    "\n",
    "## Strukturen\n",
    "\n",
    "Um Daten unterschiedlicher Typen zusammenzufassen, werden in C **Strukturen** (*structs*) verwendet. Um zum Beispiel Koordinaten in 2D zu speichern, kann eine Struktur definiert werden, die eine zweidimensionale Koordinate beschreibt:\n",
    "\n",
    "```\n",
    "struct Coord_s {\n",
    "    double x;\n",
    "    double y;\n",
    "};\n",
    "```\n",
    "\n",
    "### `struct`\n",
    "\n",
    "Dieses Schlüsselwort wird verwendet um anzugeben, dass das folgende eine Struktur ist. Die Variablen einer Struktur werden im Speicher hintereinander angelegt (eventuell mit Lücken). Daher ist eine Struktur ein einzelner Block im Speicher.\n",
    "\n",
    "### `Coord_s`\n",
    "\n",
    "Ein beliebiger Name für die Struktur. Üblicherweise wird an den Namen ein `_s` angehängt um klar zu machen, dass es sich um eine Struktur handelt. Das ist zwar nicht zwingend erforderlich, sollte aber immer gemacht werden! In modernen Programmierstilen werden Strukturen/Typen häufig mit großem Anfangsbuchstaben geschrieben um deutlich zu machen, dass es sich um einen Typ und nicht eine Variable handelt (Variablen werden demnach immer klein geschrieben).\n",
    "\n",
    "### Variablen von Strukturen\n",
    "\n",
    "Diese Struktur kann nun als neuer Datentyp für Variablen verwendet werden:\n",
    "```\n",
    "struct Coord_s coordinate;\n",
    "```\n",
    "Nun ist `coordinate` vom Typ `struct Coord_s`. Das Schlüsselwort `struct` muss hier immer verwendet werden!\n",
    "\n",
    "### Verwendung der Variablen in Strukturen\n",
    "\n",
    "Um auf die Variablen in einer Struktur zuzugreifen, wird der Operator `.` verwendet. Das folgende Beispiel zeigt die Definition einer Struktur, einer Variable vom Typ dieser Struktur und den Datenzugriff:"
   ]
  },
  {
   "cell_type": "code",
   "execution_count": null,
   "metadata": {},
   "outputs": [],
   "source": [
    "#include <stdio.h>\n",
    "\n",
    "/* Strukturen werden normalerweise, wie Funktionsdeklarationen,\n",
    "    in einer Header-Datei (.h) definiert */\n",
    "struct Coord_s {\n",
    "    double x;\n",
    "    double y;\n",
    "};\n",
    "\n",
    "int main() {\n",
    "    struct Coord_s coordinate;\n",
    "    \n",
    "    /* Die Werte in coordinate setzen */\n",
    "    coordinate.x = 12;\n",
    "    coordinate.y = 3.1415;\n",
    "    \n",
    "    printf(\"Coordinate: (%lf, %lf)\\n\", coordinate.x, coordinate.y);\n",
    "    \n",
    "    return 0;\n",
    "}"
   ]
  },
  {
   "cell_type": "markdown",
   "metadata": {
    "deletable": false,
    "editable": false,
    "run_control": {
     "frozen": true
    }
   },
   "source": [
    "### Initialisierung von Strukturen\n",
    "\n",
    "Ähnlich wie Felder, können Strukturen auch mit Listen `{...}` initialisiert werden. Dabei werden die Werte in der Reihenfolge geschrieben, in der sie in der Struktur definiert sind. Hier muss unbedingt auf den richtigen Typ der Variablen geachtet werden! Wenn die Werte einer Struktur nicht initialisiert werden, haben sie einen zufälligen Wert. Wenn Werte teilweise gesetzt werden, haben alle nicht initialisierten Variablen den Wert `0`."
   ]
  },
  {
   "cell_type": "code",
   "execution_count": null,
   "metadata": {},
   "outputs": [],
   "source": [
    "#include <stdio.h>\n",
    "\n",
    "struct Coord_s {\n",
    "    double x;\n",
    "    double y;\n",
    "    double z;\n",
    "};\n",
    "\n",
    "int main() {\n",
    "    struct Coord_s coord0 = {0}; /* x wird explizit mit 0, y und z werden implizit mit 0 initialisert */\n",
    "    struct Coord_s coordA = {1}; /* x wird explizit mit 1, y und z werden implizit mit 0 initialisert */\n",
    "    struct Coord_s coordB = {1,1,1}; /* x,y,z werden explizit mit 1 initialisert */\n",
    "    struct Coord_s coordC; /* x,y,z sind haben irgendwelche Werte */\n",
    "\n",
    "    printf(\"coord0: (%f,  %f, %f)\\n\", coord0.x, coord0.y, coord0.z);\n",
    "    printf(\"coordA: (%f,  %f, %f)\\n\", coordA.x, coordA.y, coordA.z);\n",
    "    printf(\"coordB: (%f,  %f, %f)\\n\", coordB.x, coordB.y, coordB.z);\n",
    "    /* Bei der Verwendung nicht initialisierter Variablen, gibt der Compiler eine Warnung */\n",
    "    printf(\"coordC: (%f,  %f, %f)\\n\", coordC.x, coordC.y, coordC.z);\n",
    "    \n",
    "    return 0;\n",
    "}"
   ]
  },
  {
   "cell_type": "markdown",
   "metadata": {
    "deletable": false,
    "editable": false,
    "run_control": {
     "frozen": true
    }
   },
   "source": [
    "### Verschachtelte Strukturen\n",
    "\n",
    "Eine Struktur kann auch eine andere Struktur enthalten. Dafür muss die Struktur nur zuvor definiert worden sein."
   ]
  },
  {
   "cell_type": "code",
   "execution_count": null,
   "metadata": {},
   "outputs": [],
   "source": [
    "/* Struktur, die zwei Ecken eines Rechtecks in 2D speichert */\n",
    "#include <stdio.h>\n",
    "\n",
    "struct Coord_s {\n",
    "    double x;\n",
    "    double y;\n",
    "};\n",
    "\n",
    "struct Rectangle_s {\n",
    "    struct Coord_s min;\n",
    "    struct Coord_s max;\n",
    "};\n",
    "\n",
    "int main() {\n",
    "    /* Zwei Variablen vom Typ struct Coord_s */\n",
    "    struct Coord_s min = { 0, 1 };\n",
    "    struct Coord_s max = { 1, 4 };\n",
    "    \n",
    "    /* Nun eine Variable vom Typ Rectangle_s */\n",
    "    struct Rectangle_s rechteck = {min, max};\n",
    "    \n",
    "    /* Der . Operator kann auch verkettet werden */\n",
    "    printf(\"Rechteck:\\n\");\n",
    "    printf(\"min: (%lf, %lf)\\n\", rechteck.min.x, rechteck.min.y);\n",
    "    printf(\"max: (%lf, %lf)\\n\", rechteck.max.x, rechteck.max.y);\n",
    "\n",
    "    return 0;\n",
    "}"
   ]
  },
  {
   "cell_type": "markdown",
   "metadata": {
    "deletable": false,
    "editable": false,
    "run_control": {
     "frozen": true
    }
   },
   "source": [
    "Die Teile verschachtelte Strukturen können auch mittels verschaltelter Initialisierunglisten gesetzt werden:"
   ]
  },
  {
   "cell_type": "code",
   "execution_count": null,
   "metadata": {},
   "outputs": [],
   "source": [
    "/* Initialisierung verschachtelter Strukturen */\n",
    "#include <stdio.h>\n",
    "\n",
    "struct Coord_s {\n",
    "    double x;\n",
    "    double y;\n",
    "};\n",
    "\n",
    "struct Rectangle_s {\n",
    "    struct Coord_s min;\n",
    "    struct Coord_s max;\n",
    "};\n",
    "\n",
    "int main() {    \n",
    "    /* rechteck kann auch direkt initialisiert werden */\n",
    "    struct Rectangle_s rechteck = \n",
    "    {\n",
    "        { 0, 1 },\n",
    "        { 1, 4 }\n",
    "    };\n",
    "    \n",
    "    /* Der . Operator kann auch verkettet werden */\n",
    "    printf(\"Rechteck:\\n\");\n",
    "    printf(\"min: (%lf, %lf)\\n\", rechteck.min.x, rechteck.min.y);\n",
    "    printf(\"max: (%lf, %lf)\\n\", rechteck.max.x, rechteck.max.y);\n",
    "\n",
    "    return 0;\n",
    "}"
   ]
  },
  {
   "cell_type": "markdown",
   "metadata": {
    "deletable": false,
    "editable": false,
    "run_control": {
     "frozen": true
    }
   },
   "source": [
    "### Zeiger auf Strukturen\n",
    "\n",
    "Natürlich können Zeiger auch verwendet werden um auf Strukturen zu zeigen. Der Zugriff auf Variablen der Struktur ist dann allerdings umständlich, da er mittels `(*zeiger).komponente` erfolgen muss. Die runden Klammern sind nötig um die Priorität der Operatoren `*` und `.` zu überstimmen (siehe Vorlesung 3.2). `*zeiger.komponente` würde implizit eine Ausführung von `*(zeiger.komponente)` bedeuten.\n",
    "\n",
    "Einfacher ist dieser Zugriff mittels des `->` Operators, der den Zeiger dereferenziert und auf die Komponente zugreift. Daher wird aus `(*zeiger).komponente` das einfacher lesbare `zeiger->komponente`:"
   ]
  },
  {
   "cell_type": "code",
   "execution_count": null,
   "metadata": {},
   "outputs": [],
   "source": [
    "/* Zeiger auf eine Struktur */\n",
    "#include <stdio.h>\n",
    "\n",
    "struct Coord_s {\n",
    "    double x;\n",
    "    double y;\n",
    "};\n",
    "\n",
    "int main() {\n",
    "    struct Coord_s coordinate = { 12, 3.1415 };\n",
    "    \n",
    "    struct Coord_s *pointer = &coordinate;\n",
    "    \n",
    "    /* Zugriff auf ein Element */\n",
    "    /* . hat ein höhere Priorität als *, daher muss eine Klammer geschrieben werden.\n",
    "        (zu Prioriät siehe Vorlesung 3.2) */\n",
    "    printf(\"x: %f\\n\", (*pointer).x );\n",
    "    \n",
    "    /* Eine einfachere Schreibweise bietet der -> Operator.\n",
    "        Er löst den Zeiger auf und greift dann auf das Objekt y zu */\n",
    "    printf(\"y: %f\\n\", pointer->y);\n",
    "    \n",
    "    return 0;\n",
    "}"
   ]
  },
  {
   "cell_type": "markdown",
   "metadata": {
    "deletable": false,
    "editable": false,
    "run_control": {
     "frozen": true
    }
   },
   "source": [
    "### Verwendung von Strukturen\n",
    "\n",
    "Da Strukturen oft große Datenmengen enthalten, ist es ratsam hauptsächlich Zeiger zu verwenden um sie z.B. an Funktionen zu übergeben. Daher werden sie nicht unnötig kopiert (siehe Vorlesung 6.1). Da Strukturen auch komplexer zu setzen und zu lesen sind, bieten sich kleine Helferfunktionen an um den Umgang zu erleichtern:"
   ]
  },
  {
   "cell_type": "code",
   "execution_count": null,
   "metadata": {},
   "outputs": [],
   "source": [
    "/* Helferfunktionen für die Benutzung von Strukturen */\n",
    "#include <stdio.h>\n",
    "\n",
    "struct Coord_s {\n",
    "    double x;\n",
    "    double y;\n",
    "};\n",
    "\n",
    "struct Rectangle_s {\n",
    "    struct Coord_s min;\n",
    "    struct Coord_s max;\n",
    "};\n",
    "\n",
    "/* Helferfunktion um ein Rechteck zu setzen */\n",
    "void setRectangle(struct Rectangle_s *rechteck, \n",
    "                  double min_x, double min_y, \n",
    "                  double max_x, double max_y) {\n",
    "    {\n",
    "        struct Coord_s temp = {min_x, min_y};\n",
    "        rechteck->min = temp;\n",
    "    }\n",
    "    {\n",
    "        struct Coord_s temp = {max_x, max_y};\n",
    "        rechteck->max = temp;\n",
    "    }\n",
    "}\n",
    "\n",
    "/* Helferfunktion für die Ausgabe */\n",
    "void printRectangle(struct Rectangle_s *rechteck) {\n",
    "    printf(\"Rechteck:\\n\");\n",
    "    printf(\"min: (%lf, %lf)\\n\", rechteck->min.x, rechteck->min.y);\n",
    "    printf(\"max: (%lf, %lf)\\n\", rechteck->max.x, rechteck->max.y);\n",
    "}\n",
    "\n",
    "int main() {    \n",
    "    struct Rectangle_s rechteck;\n",
    "    \n",
    "    /* Nun können Variablen vom Typ struct Rectangle_s leicht gesetzt werden.\n",
    "        Strukturen sollten nur als Zeiger an Funktionen übergeben werden,\n",
    "        damit unnötiges Kopieren verhindert wird */\n",
    "    setRectangle(&rechteck, 0, 1, 1, 4);\n",
    "    \n",
    "    /* Einfache Ausgabe */\n",
    "    printRectangle(&rechteck);\n",
    "\n",
    "    return 0;\n",
    "}"
   ]
  },
  {
   "cell_type": "markdown",
   "metadata": {
    "deletable": false,
    "editable": false,
    "run_control": {
     "frozen": true
    }
   },
   "source": [
    "### Felder von Strukturen\n",
    "\n",
    "So wie andere Datentypen, können auch Strukturen in Feldern gespeichert werden. Der Zugriff erfolgt dann, wie gewohnt, über `[]`:"
   ]
  },
  {
   "cell_type": "code",
   "execution_count": null,
   "metadata": {},
   "outputs": [],
   "source": [
    "/* Beispiel für ein Adressbuch mittels einer Struktur */\n",
    "#include <stdio.h>\n",
    "\n",
    "/* Für Zeichenketten muss eine fixe Länge angegeben werden */\n",
    "#define ADRESSE_NAME_LEN 30\n",
    "#define ADRESSE_ORT_LEN 20\n",
    "#define ADRESSE_STRASSE_LEN 50\n",
    "#define ADRESSBUCH_LEN 10\n",
    "\n",
    "struct Adresse_s\n",
    "{\n",
    "    char name[ADRESSE_NAME_LEN];\n",
    "    long plz;\n",
    "    char ort[ADRESSE_ORT_LEN];\n",
    "    char strasse[ADRESSE_STRASSE_LEN];\n",
    "    long nummer;\n",
    "};\n",
    "\n",
    "int main() {\n",
    "    /* Achtung: Die restlichen Einträge werden, wie immer, mit 0 befüllt! */\n",
    "    struct Adresse_s kleinesAdressBuch[ADRESSBUCH_LEN] = \n",
    "    {\n",
    "        {\"Joseph Haydn\", 2471, \"Rohrau\", \"Hauptstrasse\", 25},\n",
    "        { \"Franz Schubert\", 1090, \"Wien\", \"Nussdorferstr\", 54}\n",
    "    };\n",
    "    \n",
    "    /* Der Zugriff erfolgt ganz gewöhnlich über [] */\n",
    "    printf(\"Haydn's Hausnummer: %ld\\n\", kleinesAdressBuch[0].nummer);\n",
    "    printf(\"Speicherplatz pro Eintrag: %ld Bytes\\n\" , sizeof(struct Adresse_s));\n",
    "    printf(\"Speicherplatz gesamtes Adressbuch: %ld Bytes\\n\" , sizeof(struct Adresse_s[ADRESSBUCH_LEN]));\n",
    "    \n",
    "    return 0;\n",
    "}"
   ]
  },
  {
   "cell_type": "markdown",
   "metadata": {
    "deletable": false,
    "editable": false,
    "run_control": {
     "frozen": true
    }
   },
   "source": [
    "Im obigen Beispiel wird für jede Variable der Struktur `struct Adresse_s` viel Speicherplatz benötigt, egal wie lange die tatsächlich gespeicherten Zeichenketten sind (oder wie viele tatsächliche Einträge das Adressbuch enthält). Hier würde man üblicherweise Zeiger auf dynamischen Speicher verwenden, damit nur der tatsächlich benötigte Speicher belegt wird. Wie das funktioniert ist Stoff von Programmieren 2."
   ]
  },
  {
   "cell_type": "markdown",
   "metadata": {
    "deletable": false,
    "editable": false,
    "run_control": {
     "frozen": true
    }
   },
   "source": [
    "### Definition neuer Typennamen\n",
    "\n",
    "In allen Beispielen musste bisher immer `struct` vor den Namen der Struktur geschrieben werden. Das ist umständlich und kann mit dem Ausdruck `typedef` umgangen werden. Da eine `typedef` Anweisung nur einen neuen Namen für einen Typ setzt und keine neue Variable im Speicher anlegt, verbraucht sie auch keinen Speicherplatz. Daher muss mit `typedef` nicht gespart werden um die Leserlichkeit des Programms zu erhöhen. Die Anweisung kann wie folgt verwendet werden:"
   ]
  },
  {
   "cell_type": "code",
   "execution_count": null,
   "metadata": {},
   "outputs": [],
   "source": [
    "#include <stdio.h>\n",
    "\n",
    "struct Coord_s {\n",
    "    double x;\n",
    "    double y;\n",
    "};\n",
    "\n",
    "int main() {\n",
    "    {\n",
    "        /* Sowohl Standardtypen, wie Strukturen können\n",
    "            mittels typedef einen weiteren Namen bekommen.\n",
    "            Die alte Bezeichnung bleibt dabei erhalten. */\n",
    "        typedef float Gleitkomma; /* Gleitkomma kann jetzt anstatt float verwendet werden */\n",
    "        typedef char *String; /* Nun wird String automatisch durch char * ersetzt */\n",
    "\n",
    "        char test[20] = \"Hallo, Welt!\";\n",
    "        String hallo = test;\n",
    "    \n",
    "        Gleitkomma zahl = 3.1415926;\n",
    "\n",
    "        printf(\"%s\\n\", hallo);\n",
    "        printf(\"%f\\n\", zahl);\n",
    "    }\n",
    "    {\n",
    "        /* Genau so können auch Strukturen neue Namen bekommen.\n",
    "            Typennamen werden klassischerweise oft mit _t am Ende geschrieben,\n",
    "            um sie gegenüber Strukturen hervorzuheben. */\n",
    "        typedef struct Coord_s Coord_t;\n",
    "\n",
    "        /*  Nun muss nicht immer struct geschrieben werden. */\n",
    "        Coord_t coordinate = { 0, 1 };\n",
    "\n",
    "        printf(\"y: %f\\n\", coordinate.y);\n",
    "    }\n",
    "    \n",
    "    return 0;\n",
    "}"
   ]
  },
  {
   "cell_type": "markdown",
   "metadata": {
    "deletable": false,
    "editable": false,
    "run_control": {
     "frozen": true
    }
   },
   "source": [
    "Es ist ebenso möglich einen (oder mehrere) Typname(n) gleich bei der Definition der Struktur mitzudefinieren:"
   ]
  },
  {
   "cell_type": "code",
   "execution_count": null,
   "metadata": {},
   "outputs": [],
   "source": [
    "/* Neuer Typname bei Definition der Struktur */\n",
    "\n",
    "#include \"stdio.h\"\n",
    "\n",
    "/* typedef kann auch gleich bei der Definition verwendet werden\n",
    "    um Aufwand zu sparen */\n",
    "typedef struct Coord_s {\n",
    "    double x;\n",
    "    double y;\n",
    "} Coord_t, Coord2D_t;\n",
    "\n",
    "int main() {\n",
    "    Coord_t coordinate = { 0, 1 };\n",
    "    Coord2D_t coord2D = {1, 0};\n",
    "    printf(\"coordinate : %f, %f\\n\", coordinate.x, coordinate.y);\n",
    "    printf(\"coord2D:     %f, %f\\n\", coord2D.x, coord2D.y);\n",
    "    return 0;\n",
    "}"
   ]
  },
  {
   "cell_type": "code",
   "execution_count": null,
   "metadata": {},
   "outputs": [],
   "source": []
  }
 ],
 "metadata": {
  "kernelspec": {
   "display_name": "C",
   "language": "c",
   "name": "c"
  },
  "language_info": {
   "file_extension": ".c",
   "mimetype": "text/x-csrc",
   "name": "text/x-csrc"
  }
 },
 "nbformat": 4,
 "nbformat_minor": 2
}
