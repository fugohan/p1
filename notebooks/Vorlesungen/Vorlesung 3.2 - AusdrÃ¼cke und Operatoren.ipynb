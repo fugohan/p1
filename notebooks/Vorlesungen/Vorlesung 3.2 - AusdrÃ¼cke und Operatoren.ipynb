{
 "cells": [
  {
   "cell_type": "markdown",
   "metadata": {
    "deletable": false,
    "editable": false,
    "run_control": {
     "frozen": true
    }
   },
   "source": [
    " # Vorlesung 3.2\n",
    " \n",
    " # Ausdrücke und Operatoren\n",
    "\n",
    "---\n",
    " **Hinweis:**\n",
    " Diese interaktiven Webseiten beschreiben parallel zu den Vorlesungsfolien das jeweilige Stoffgebiet. Zellen mit C Quelltext können mittels der Tastenkombination \\[Shift\\] + \\[Enter\\] kompiliert und ausgeführt werden. Es wird Ihnen empfohlen, Änderungen in diversen Zellen vorzunehmen um ein Gefühl für die Sprache C zu entwickeln.\n",
    " \n",
    "---\n",
    " \n",
    "\n",
    " \n",
    " ## Ausdrücke\n",
    "\n",
    " C \"denkt\" in Ausdrücken. Die Auswertung eines Ausdruckes ergibt einen Wert. Das Ende eines Ausdruckes ist oft mit einem `;` gekennzeichnet. In einem Ausdruck können Funktionen, Variablen und Operatoren verwendet werden."
   ]
  },
  {
   "cell_type": "code",
   "execution_count": null,
   "metadata": {},
   "outputs": [],
   "source": [
    "/* Der folgende Ausdruck definiert eine Variable mit dem Namen a und weist ihr den Wert 0 zu */\n",
    "long a = 0;\n",
    "/* Der einfachste Ausdruck ermittelt den Wert einer Variablen und macht nichts damit */\n",
    "a;\n",
    "/* Der folgende Ausdruck addiert a mit 1 und macht nichts mit dem Ergebnis */\n",
    "a + 1;\n",
    "/* Der folgende Ausdruck addiert a mit 1 und weist das Ergebnis wieder a zu */\n",
    "a = a + 1;"
   ]
  },
  {
   "cell_type": "markdown",
   "metadata": {
    "deletable": false,
    "editable": false,
    "run_control": {
     "frozen": true
    }
   },
   "source": [
    "## Operatoren\n",
    "\n",
    "Operatoren nehmen einen oder mehrere Werte (Operanden) und führen damit eine Operation durch. Es wird zwischen **unären** und **binären** Operatoren unterschieden:\n",
    "* Unäre Operatoren: Verwenden nur einen Operanden, der links oder rechts neben dem Operator geschrieben wird.\n",
    "  * Beispiele: !a, a++, --a\n",
    "* Binäre Operatoren: Verwenden zwei Operanden, die vor und nach dem Operator geschrieben werden.\n",
    "  * Beispiele: a+b, a-b, a*b, a/b"
   ]
  },
  {
   "cell_type": "code",
   "execution_count": null,
   "metadata": {},
   "outputs": [],
   "source": [
    "/* Von scanf kennen wir schon einen unären Operator:\n",
    "    & nimmt die folgende Variable und gibt die Speicheradresse zurück */\n",
    "long a = 48;\n",
    "printf(\"Variable a: %ld\\n\", a);\n",
    "printf(\"Speicheradresse von a: %p\\n\", (void *)&a);\n",
    "/* Mathematische Operatoren sind binäre Operatoren: */\n",
    "printf(\"Addition: a + 2 = %ld\\n\", a+2);"
   ]
  },
  {
   "cell_type": "markdown",
   "metadata": {
    "deletable": false,
    "editable": false,
    "run_control": {
     "frozen": true
    }
   },
   "source": [
    "### Reihenfolge der Auswertung\n",
    "\n",
    "Die Reihenfolge der Auswertung von mehreren Operatoren in einem Ausdruck ist durch die Priorität und die Assoziativität gegeben.\n",
    "\n",
    "### Priorität\n",
    "\n",
    "Verschiedene Operatoren haben verschiedene Prioritäten in der Auswertung:"
   ]
  },
  {
   "cell_type": "code",
   "execution_count": null,
   "metadata": {},
   "outputs": [],
   "source": [
    "/* * wird vor + ausgeführt */\n",
    "long ergebnis = 1 + 2 * 3;\n",
    "printf(\"%ld\", ergebnis);"
   ]
  },
  {
   "cell_type": "markdown",
   "metadata": {
    "deletable": false,
    "editable": false,
    "run_control": {
     "frozen": true
    }
   },
   "source": [
    "### Assoziativität\n",
    "\n",
    "Bei gleichwertigen Operatoren entscheided die Assoziativität über die Reihenfolge. `+` ist **linksassoziativ**, weil der Operator von **links** nach rechts ausgewertet wird. `=` ist **rechtsassoziativ** weil er von rechts nach links ausgewertet wird:"
   ]
  },
  {
   "cell_type": "code",
   "execution_count": null,
   "metadata": {},
   "outputs": [],
   "source": [
    "/* + von links nach rechts */\n",
    "long a = 1;\n",
    "long b = 2;\n",
    "long c = 3;\n",
    "printf(\"1 - 2 + 3 = %ld\\n\", a - b + c);\n",
    "/* mit Klammern kann die andere Reihenfolge erzwungen werden */\n",
    "printf(\"1 - (2 + 3) = %ld\\n\", a - (b + c));\n",
    "\n",
    "/* = ist rechtsassoziativ */\n",
    "a = b = c;\n",
    "/* alle variablen sind jetzt gleich c weil\n",
    "    a = (b = c) gilt */\n",
    "printf(\"a=%ld, b=%ld, c=%ld\", a, b, c);"
   ]
  },
  {
   "cell_type": "markdown",
   "metadata": {
    "deletable": false,
    "editable": false,
    "run_control": {
     "frozen": true
    }
   },
   "source": [
    "#### ACHTUNG!\n",
    "\n",
    "Bei gleichwertigen Operatoren, werden zwar diese Operationen nach der Assoziativität ausgeführt, allerdings können Operanden in unterschiedlicher Reihenfolge ausgewertet werden.\n",
    "\n",
    "Welche dieser Multiplikationen zuerst ausgeführt wird ist NICHT definiert: (1 \\* 2) + (3 \\* 4) + (5 \\* 6)\n",
    "\n",
    "So kann der Compiler entscheiden, dass es sinnvoller ist zuerst (3 \\* 4) auszuwerten."
   ]
  },
  {
   "cell_type": "markdown",
   "metadata": {
    "deletable": false,
    "editable": false,
    "run_control": {
     "frozen": true
    }
   },
   "source": [
    "### Operatoren in C\n",
    "\n",
    "Auszugsweise sind hier die wichtigsten Operatoren in C aufgelistet.  \n",
    "**ACHTUNG**: Die folgenden Listen sind **NICHT** vollständig aber führen die Operatoren an, die für diese Vorlesung von Bedeutung sind. Eine vollständige Liste finden Sie im Buch zur Vorlesung oder [hier](https://de.wikibooks.org/wiki/C-Programmierung:_Ausdr%C3%BCcke_und_Operatoren).\n",
    "\n",
    "### Arithmetische Operatoren\n",
    "\n",
    "| Bezeichnung | Operator | Priorität | Assoziativität |\n",
    "| ----------- | -------- | --------- | -------------- |\n",
    "| Zuweisung   | a = b    | 16        |  rechts        |\n",
    "| Addition    | a + b    | 6         |  links         |\n",
    "| Subtraktion | a - b    | 6         |  links         |\n",
    "| Unäres Minus| -a       | 3         |  rechts        |\n",
    "| Multiplikation| a * b  | 5         |  links         |\n",
    "| Division    | a / b    | 5         |  links         |\n",
    "| Divisionsrest | a % b  | 5         |  links         |\n",
    "| Postfix Inkrement| a++ | 2         |  links         |\n",
    "| Präfix Inkrement | ++a | 3         |  rechts        |\n",
    "| Postfix Dekrement| a-- | 2         |  links         |\n",
    "| Präfix Dekrement | --a | 3         |  rechts        |"
   ]
  },
  {
   "cell_type": "code",
   "execution_count": null,
   "metadata": {},
   "outputs": [],
   "source": [
    "/* die Zuweisung findet als letzte statt\n",
    "    Klammern sind ein einziger Operand und werden daher ausgewertet bevor / ausgeführt werden kann */\n",
    "long a = 1 + 2 * 3 / (4 - 5);\n",
    "printf(\"%ld\\n\", a);\n",
    "printf(\"%ld\\n\", ++a); /* prefix inkrement erhöht den wert um eins und gibt das ergebnis zurück */\n",
    "printf(\"%ld\\n\", a++); /* postfix inkrement gibt den wert zurück und erhöht dann um eins */\n",
    "printf(\"%ld\\n\", a); /* a ist nun eins höher durch das vorherige postfix inkrement */"
   ]
  },
  {
   "cell_type": "code",
   "execution_count": null,
   "metadata": {},
   "outputs": [],
   "source": [
    "/* Probleme mit Assoziativität und Inkrement/Dekrement\n",
    "    ACHTUNG: Der compiler kann sich aussuchen welcher Term zuerst ausgewertet wird!\n",
    "            Daher NIEMALS mehrere Inkrement/Dekrement Operatoren in einem Ausdruck! */\n",
    "long a = 2;\n",
    "long b = a++ - a++; /* wir wissen das Ergebnis nicht weil wir die Reihenfolge nicht wissen! */\n",
    "printf(\"%ld\", b); /* Könnte sowohl 1 als auch -1 sein */"
   ]
  },
  {
   "cell_type": "markdown",
   "metadata": {
    "deletable": false,
    "editable": false,
    "run_control": {
     "frozen": true
    }
   },
   "source": [
    "### Kombinierte Zuweisungen\n",
    "\n",
    "Vor einer Zuweisung kann der derzeitige Wert auch verwendet werden.  \n",
    "**ACHTUNG** Durch die niedrige Priorität werden alle anderen arithmetischen Operatoren vorher ausgeführt!\n",
    "\n",
    "| Bezeichnung | Operator | Priorität | Assoziativität | Äquivalent |\n",
    "| ----------- | -------- | --------- | -------------- | ---------- |\n",
    "| Addition Zuweisung | a += b + c | 16       | rechts         | a = a + b + c |\n",
    "| Subtraktion Zuweisung | a -= b + c | 16    | rechts         | a = a - (b + c) |\n",
    "| Multiplikation Zuweisung | a *= b + c | 16 | rechts         | a = a * (b + c) |\n",
    "| Division Zuweisung | a /= b + c | 16       | rechts         | a = a / (b + c) |\n",
    "| Divisionsrest Zuweisung | a %= b + c | 16  | rechts         | a = a % (b + c) |"
   ]
  },
  {
   "cell_type": "code",
   "execution_count": null,
   "metadata": {},
   "outputs": [],
   "source": [
    "/* Operatoren rechts der kombinierten Zuweisung werden immer zuerst ausgeführt */\n",
    "long a = 4;\n",
    "a *= 1 + 2; /* a * (1 + 2) */\n",
    "printf(\"%ld\", a);"
   ]
  },
  {
   "cell_type": "markdown",
   "metadata": {
    "deletable": false,
    "editable": false,
    "run_control": {
     "frozen": true
    }
   },
   "source": [
    "### Logische Operatoren\n",
    "\n",
    "In C gibt es keinen eigenen Datentyp für Wahrheitswerte. Stattdessen wird ein Typ für ganze Zahlen (char, short, int, long) verwendet. `0` bedeutet falsch und jeder andere Wert bedeutet wahr. Die folgenden Operatoren geben einen Wahrheitswert zurück:\n",
    "\n",
    "| Bezeichnung | Operator | Priorität | Assoziativität |\n",
    "| ----------- | -------- | --------- | -------------- |\n",
    "| Kleiner     | a < b    | 9         | links          |\n",
    "| Kleiner gleich | a <= b | 9        | links          |\n",
    "| Größer gleich | a >= b | 9         | links          |\n",
    "| Größer      | a > b    | 9         | links          |\n",
    "| Gleich      | a == b   | 10        | links          |\n",
    "| Ungleich    | a != b   | 10        | links          |\n",
    "| Logisches Nicht | !a   | 3         | rechts         |\n",
    "| Logisches Und | a && b | 14        | links          |\n",
    "| Logisches Oder | a &#124;&#124; b | 15     | links          |\n"
   ]
  },
  {
   "cell_type": "code",
   "execution_count": null,
   "metadata": {},
   "outputs": [],
   "source": [
    "/* Der Operator < ist linksassoziativ, das heisst er wird von links nach rechts ausgewertet */\n",
    "long a = 1 < 5 < 2;\n",
    "long b = 1 < (5 < 2);\n",
    "printf(\"1 < 5 < 2: %ld\\n\", a);\n",
    "printf(\"1 < (5 < 2): %ld\\n\", b);"
   ]
  },
  {
   "cell_type": "code",
   "execution_count": null,
   "metadata": {},
   "outputs": [],
   "source": [
    "/* Der folgende Ausdruck liefert nicht das aus der Mathematik gewohnte Ergebnis\n",
    "    weil er linksassoziativ ausgewertet wird */\n",
    "long c = 30;\n",
    "long d = 10 <= 30 <= 20; /* Das liefert 1, obwohl 30 nicht kleiner ist als 20 */\n",
    "printf(\"10 <= 30 <= 20: %ld\\n\", d);\n",
    "/* Korrekt ist */\n",
    "d = (10 <= c) && (c <= 20); /* Hier müssen beide Ergebnisse logisch verknüpft werden */\n",
    "printf(\"(10 <= c) && (c <= 20): %ld\\n\", d);"
   ]
  },
  {
   "cell_type": "code",
   "execution_count": null,
   "metadata": {},
   "outputs": [],
   "source": [
    "//%cflags:-Wno-unused-value\n",
    "\n",
    "long a = 0;\n",
    "/* ACHTUNG: Bei == auf Tippfehler achten!\n",
    "    a == 2; ist ein korrekter Ausdruck, ändert a aber nicht! */\n",
    "a == 5; /* Dieser Ausdruck wird ausgewertet aber nie verwendet */\n",
    "printf(\"a: %ld\\n\", a);\n",
    "a = 10; /* Hier wird a der Wert 10 zugewiesen */\n",
    "printf(\"a: %ld\\n\", a);"
   ]
  },
  {
   "cell_type": "code",
   "execution_count": null,
   "metadata": {},
   "outputs": [],
   "source": [
    "/* Die Operanden von || und && werden von links nach rechts ausgewertet\n",
    "    Der rechte Operand wird nur ausgewertet wenn es notwendig ist */\n",
    "long a = 5;\n",
    "/* Die Operation (a = 0) wird nie durchgeführt weil (a<0) schon 0 zurückgibt. \n",
    "    Und da 0 && x immer 0 ist, muss x nicht weiter ausgewertet werden. */\n",
    "long b = (a < 0) && (a = 0);\n",
    "printf(\"Für a > 0:\\n\");\n",
    "printf(\"(a < 0) && (a = 0): %ld\\n\", b);\n",
    "printf(\"a: %ld\\n\", a);\n",
    "/* Der zweite Ausdruck wird immer ausgeführt wenn a < 0 wahr ist */\n",
    "a = -5;\n",
    "b = (a < 0) && (a = 0);\n",
    "printf(\"Für a < 0:\\n\");\n",
    "printf(\"(a < 0) && (a = 0): %ld\\n\", b);\n",
    "printf(\"a: %ld\\n\", a);\n",
    "/* Selbes gilt für den Operator || wenn der linke Operand 1 ist, da (1 || x) immer 1 ergibt */"
   ]
  },
  {
   "cell_type": "code",
   "execution_count": null,
   "metadata": {},
   "outputs": [],
   "source": [
    "/* Logische Ausdrücke können negiert werden */\n",
    "/* Verändern Sie die Werte a, b, c und\n",
    "    vergewissern Sie sich dass die Ausdrücke immer das gleiche Ergebnis produzieren */\n",
    "long a = 1;\n",
    "long b = 0;\n",
    "long c = 1;\n",
    "/* Durch logisches Umordnen kann statt logischem Und ein logisches Oder verwendet werden.\n",
    "    Das logische Nicht wird hierfür zu jedem Wert in der Klammer geschrieben\n",
    "    und die logischen Und auf logische Oder geändert */\n",
    "\n",
    "long ergebnis1 = !(a && b && c);\n",
    "long ergebnis2 = !a || !b || !c;\n",
    "printf(\"Die Ergebnisse sind gleich: %ld == %ld\\n\", ergebnis1, ergebnis2);"
   ]
  },
  {
   "cell_type": "code",
   "execution_count": null,
   "metadata": {},
   "outputs": [],
   "source": [
    "/* Aber Vorsicht: && hat höhere Priorität als || */\n",
    "long a = 0;\n",
    "long b = 1;\n",
    "long c = 1;\n",
    "\n",
    "long ergebnis1 = !(a && b || c);\n",
    "long ergebnis2 = !a || !b && !c;\n",
    "printf(\"Die Ergebnisse sind NICHT gleich: %ld != %ld\\n\", ergebnis1, ergebnis2);\n",
    "{\n",
    "    /* Die Priorität muss explizit angegeben werden, damit die Reihenfolge der Auswertung gleich ist wie vorher */\n",
    "    long ergebnis3 = (!a || !b) && !c;\n",
    "    printf(\"Die Ergebnisse sind gleich: %ld == %ld\\n\", ergebnis1, ergebnis3);\n",
    "}"
   ]
  },
  {
   "cell_type": "markdown",
   "metadata": {
    "deletable": false,
    "editable": false,
    "run_control": {
     "frozen": true
    }
   },
   "source": [
    "### Andere Operatoren\n",
    "\n",
    "Hier ist eine Liste anderer Operatoren, die für die Vorlesung wichtig sind. Manche von ihnen werden erst in späteren Vorlesungen behandelt.\n",
    "\n",
    "| Bezeichnung | Operator | Priorität | Assoziativität |\n",
    "| ----------- | -------- | --------- | -------------- |\n",
    "| Komma       | a, b     | 17        | links          |\n",
    "| Element Zugriff | a\\[b\\] | 2       | links          |\n",
    "| Adresse von | &a       | 3         | rechts         |\n",
    "| Dereferenzierung | *a  | 3         | rechts         |\n",
    "| Ternäre Bedingung | a?b:c | 16     | rechts         |"
   ]
  },
  {
   "cell_type": "code",
   "execution_count": null,
   "metadata": {},
   "outputs": [],
   "source": [
    "/* Der Komma Operator separiert mehrere Ausdrücke von einander und gibt den Wert des letzten Ausdrucks zurück.\n",
    "    Er kann, wie hier, verwendet werden um mehrere long Variablen in einer Zeile zu definieren.\n",
    "    Solch einzeilige Definitionen sind allerdings für Anfänger schwerer zu lesen, daher empfehlen\n",
    "    wir es NICHT diese zu verwenden, sondern jede Variable in einer eigenen Zeile zu definieren. */\n",
    "long a = 0, b = 0;\n",
    "\n",
    "/* Zwei Ausdrücke:\n",
    "    a = 3;\n",
    "    2;\n",
    "    a wird auf 3 gesetzt und der Rückgabewert ist 2 */\n",
    "printf(\"Rückgabewert: %ld\\n\", (a = 3, 2) );\n",
    "\n",
    "/* Durch die Klammer sind es nun zwei andere Ausdrücke:\n",
    "    3;\n",
    "    2;\n",
    "    b wird auf 2 gesetzt weil (3, 2) den rechten Ausdruck, also 2 zurück gibt.\n",
    "    Beachten Sie die ausgegebene Warnung während des Kompilierens! */\n",
    "printf(\"Rückgabewert: %ld\\n\", b = (3, 2) ); \n",
    "\n",
    "printf(\"a: %ld\\n\", a);\n",
    "printf(\"b: %ld\\n\", b);"
   ]
  },
  {
   "cell_type": "code",
   "execution_count": null,
   "metadata": {},
   "outputs": [],
   "source": [
    "/* Der ternäre Operator besteht aus einer Bedingung und zwei Ausdrücken:\n",
    "    (Bedingung)?Ausdruck1:Ausdruck2 \n",
    "    Wenn a != 0 wird b zurückgegeben, andernfalls c */\n",
    "long a = 0; /* Ändern Sie diesen Wert auf 1 um das ergebnis zu ändern */\n",
    "/*\n",
    "    Der folgende Ausdruck ist äquivalent zu:\n",
    "    long ergebnis;\n",
    "    if(a > 0){\n",
    "        ergebnis = 5;\n",
    "    } else {\n",
    "        ergebnis = 10;\n",
    "    }\n",
    "*/\n",
    "long ergebnis = (a > 0)?5:10;\n",
    "\n",
    "printf(\"ergebnis: %ld\\n\", ergebnis);"
   ]
  },
  {
   "cell_type": "code",
   "execution_count": null,
   "metadata": {},
   "outputs": [],
   "source": [
    "/* Der Operator [] wird verwendet um auf Elemente einer Liste zuzugreifen.\n",
    "    name ist eine Zeichenkette, also eine Liste aus 8 Zeichen */\n",
    "char name[8] = \"Arthur\";\n",
    "long element = 5;\n",
    "printf(\"Das Element an Stelle %ld ist: %c\\n\", element, name[5]);\n",
    "/* ACHTUNG: Indizes beginnen mit der Stelle 0 */\n",
    "printf(\"Das erste Element ist an der Stelle 0: %c\", name[0]);"
   ]
  },
  {
   "cell_type": "code",
   "execution_count": null,
   "metadata": {},
   "outputs": [],
   "source": []
  }
 ],
 "metadata": {
  "kernelspec": {
   "display_name": "C",
   "language": "c",
   "name": "c"
  },
  "language_info": {
   "file_extension": ".c",
   "mimetype": "text/x-csrc",
   "name": "text/x-csrc"
  }
 },
 "nbformat": 4,
 "nbformat_minor": 4
}
