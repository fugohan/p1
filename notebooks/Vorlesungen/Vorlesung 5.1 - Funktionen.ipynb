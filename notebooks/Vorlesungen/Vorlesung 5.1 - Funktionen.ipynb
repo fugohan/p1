{
 "cells": [
  {
   "cell_type": "markdown",
   "metadata": {
    "deletable": false,
    "editable": false,
    "run_control": {
     "frozen": true
    }
   },
   "source": [
    "# Vorlesung 5.1\n",
    "# Funktionen\n",
    "\n",
    "---\n",
    " **Hinweis:**\n",
    " Diese interaktiven Webseiten beschreiben parallel zu den Vorlesungsfolien das jeweilige Stoffgebiet. Zellen mit C Quelltext können mittels der Tastenkombination \\[Shift\\] + \\[Enter\\] kompiliert und ausgeführt werden. Es wird Ihnen empfohlen, Änderungen in diversen Zellen vorzunehmen um ein Gefühl für die Sprache C zu entwickeln.\n",
    " \n",
    "---\n",
    "\n",
    "## Funktionen in C\n",
    "\n",
    "Funktionen in der Sprache C sind Funktionen der Mathematik sehr ähnlich. Wie eine mathematische Funktion, bekommt eine Funktion in C einen oder mehrere Übergabewerte und liefert einen Wert zurück.\n",
    "\n",
    "Wenn ein Ausdruck also mehrmals ausgewertet werden soll, kann er in einer Funktion verpackt werden und diese Funktion mehrmals aufgerufen werden. So muss der Ausdruck nur ein einziges Mal geschrieben werden, kann allerdings mehrfach verwendet werden. Zudem helfen Funktionen dabei ein Programm zu strukturieren indem in sich abgeschlossene Teilaufgaben ausschließlich in den zugehörigen Funktionen durchgeführt werden. Dennoch gibt es auch hier ein paar Besonderheiten, die zu beachten sind, wie z.B. den Gültigkeitszeitraum bzw. Sichtbarkeitsbereich von Variablen, siehe unten.\n",
    "\n",
    "Ein einfaches Beispiel:\n",
    "Die mathematische Funktion `f(x) = a + x + x^2` soll für `x = 2, 5, 10, 12` ausgewertet werden:"
   ]
  },
  {
   "cell_type": "code",
   "execution_count": null,
   "metadata": {},
   "outputs": [],
   "source": [
    "/* Beispiel ohne Funktion */\n",
    "#include <stdio.h>\n",
    "\n",
    "int main() {\n",
    "    /* a bleibt immer gleich */\n",
    "    double a = 10;\n",
    "    \n",
    "    double x1 = 2;\n",
    "    double x2 = 5;\n",
    "    double x3 = 10;\n",
    "    double x4 = 12;\n",
    "    \n",
    "    /* Die folgenden Ausdrücke sind 4 Mal fast gleich */\n",
    "    double f1 = a + x1 + x1 * x1;\n",
    "    double f2 = a + x2 + x2 * x2;\n",
    "    double f3 = a + x3 + x3 * x3;\n",
    "    double f4 = a + x4 + x4 * x4;\n",
    "\n",
    "    printf(\"Ergebnisse: %f, %f, %f, %f\\n\", f1, f2, f3, f4);\n",
    "    \n",
    "    return 0;\n",
    "}"
   ]
  },
  {
   "cell_type": "code",
   "execution_count": null,
   "metadata": {},
   "outputs": [],
   "source": [
    "/* Das gleiche Beispiel mit einer Funktion */\n",
    "#include <stdio.h>\n",
    "\n",
    "/* Nun sind die notwendigen Ausdrücke in einer einzigen Funktion abgebildet */\n",
    "double funktion(double a, double x) {\n",
    "    return a + x + x * x;\n",
    "}\n",
    "\n",
    "int main() {\n",
    "    double a = 10;\n",
    "    \n",
    "    /* Hier wird nun immer die gleiche Funktion aufgerufen\n",
    "        Dies hat auch den Vorteil, dass die Funktion nur an einer Stelle geändert werden muss. \n",
    "        Wenn nun stattdessen f(x) = a * x ausgewertet werden soll, \n",
    "        muss nur der Ausdruck in der Funktion geändert werden */\n",
    "    double f1 = funktion(a, 2);\n",
    "    double f2 = funktion(a, 5);\n",
    "    double f3 = funktion(a, 10);\n",
    "    double f4 = funktion(a, 12);\n",
    "    \n",
    "    printf(\"Ergebnisse: %f, %f, %f, %f\\n\", f1, f2, f3, f4);\n",
    "    \n",
    "    return 0;\n",
    "}"
   ]
  },
  {
   "cell_type": "markdown",
   "metadata": {
    "deletable": false,
    "editable": false,
    "run_control": {
     "frozen": true
    }
   },
   "source": [
    "## Definition einer Funktion\n",
    "\n",
    "Um eine Funktion in einem C Programm ausführen zu können, muss sie **definiert** sein. Die Definition einer Funktion besteht aus dem Datentyp des Rückgabewertes, dem Funktionsnamen, der Parameterliste und dem Funktionsrumpf:\n",
    "\n",
    "```C\n",
    "Typ Funktionsname (Parameterliste) {\n",
    "    Funktionsrumpf\n",
    "}\n",
    "```\n",
    "\n",
    "### Typ\n",
    "Dies gibt an, welchen Typ die Variable, die von der Funktion zurückgegeben wird, haben muss. Im obigen Beispiel ist es `double`.\n",
    "\n",
    "### Funktionsname\n",
    "Dies ist der eindeutige Name der Funktion, der alle Zeichen enthalten darf, die auch ein Variablenname enthalten darf.\n",
    "\n",
    "### Parameterliste\n",
    "Einer Funktion können beliebig viele Parameter übergeben werden, welche durch Beistriche getrennt werden. Parameter sind Variablen, deren Wert **kopiert** wird und dann in der Funktion zur Verfügung steht. Um eine Funktion verwenden zu können, MUSS unbedingt die richtige Anzahl an Parametern übergeben werden. Die Typen der übergebenen Parameter müssen gleich sein wie in der Funktionsdefinition.\n",
    "\n",
    "### Funktionsrumpf\n",
    "Der C Quelltext, der ausgeführt wird wenn die Funktion aufgerufen wird. Der Funktionsrumpf **MUSS** ein `return` enthalten, in welchem eine Variable des Typs `Typ` der Funktionsdefinition zurückgegeben wird (außer es handelt sich um den Typ `void`, siehe unten). Wird der Befehl `return` erreicht, kehrt die Programmausführung zum Aufruf der Funktion zurück und gibt den Wert von `return Wert` zurück. Der Quelltext nach dem `return` wird NICHT ausgeführt. Daher steht `return` meistens am Ende einer Funktion."
   ]
  },
  {
   "cell_type": "code",
   "execution_count": null,
   "metadata": {},
   "outputs": [],
   "source": [
    "/* Einfaches Beispiel einer Funktion */\n",
    "#include <stdio.h>\n",
    "\n",
    "/* Eine Variable vom Typ long muss zurückgegeben werden.\n",
    "    a und b sind Variablen, die in der Funktion verwendet werden können.\n",
    "    Sie werden beim Funktionsaufruf übergeben. */\n",
    "long Summe(long a, long b) {\n",
    "    long ergebnis = a + b;\n",
    "    /* In einer Funktion sind nur Variablen definiert, die als Parameter übergeben wurden.\n",
    "        Der folgende Ausdruck wäre daher falsch, weil zahl1 und zahl2 hier nicht existieren. */\n",
    "    /* ergebnis = zahl1 + zahl2 */\n",
    "    \n",
    "    /* Da der Typ der Funktion long ist, muss eine long Variable zurückgegeben werden */\n",
    "    return ergebnis;\n",
    "}\n",
    "\n",
    "int main() {\n",
    "    long zahl1 = 5;\n",
    "    long zahl2 = 8;\n",
    "    \n",
    "    long zahl3 = Summe(zahl1, zahl2);\n",
    "    printf(\"Ergebnis: %ld\\n\", zahl3);\n",
    "    \n",
    "    return 0;\n",
    "}"
   ]
  },
  {
   "cell_type": "markdown",
   "metadata": {
    "deletable": false,
    "editable": false,
    "run_control": {
     "frozen": true
    }
   },
   "source": [
    "### Der Typ `void`\n",
    "Wenn eine Funktion keinen Wert zurückgeben soll, weil er nicht benötigt wird, ist ihr Typ `void`. Dadurch muss kein `return` mehr im Funktionsrumpf geschrieben werden."
   ]
  },
  {
   "cell_type": "code",
   "execution_count": null,
   "metadata": {},
   "outputs": [],
   "source": [
    "/* Beispiel einer void Funktion */\n",
    "#include <stdio.h>\n",
    "\n",
    "/* Eine void Funktion hat keinen Rückgabewert. */\n",
    "void Summe(long a, long b) {\n",
    "    long ergebnis = a + b;\n",
    "    \n",
    "    printf(\"Ergebnis: %ld\\n\", ergebnis);\n",
    "    \n",
    "    /* return kann immer noch verwendet werden, um die Funktion frühzeitig zu beenden.\n",
    "        Bei void wird aber einfach nichts übergeben. */\n",
    "    return; /* Wenn diese Zeile eintfernt wird, wird das printf darunter ausgeführt */\n",
    "    printf(\"Ich stehe nach einem return!\\n\");\n",
    "}\n",
    "\n",
    "int main() {\n",
    "    long zahl1 = 5;\n",
    "    long zahl2 = 8;\n",
    "    \n",
    "    /* Der Rückgabewert wird nicht gespeichert, da er void ist */\n",
    "    Summe(zahl1, zahl2);\n",
    "    \n",
    "    return 0;\n",
    "}"
   ]
  },
  {
   "cell_type": "markdown",
   "metadata": {
    "deletable": false,
    "editable": false,
    "run_control": {
     "frozen": true
    }
   },
   "source": [
    "## Deklaration einer Funktion\n",
    "\n",
    "Eine Funktion kann **deklariert** werden, um dem Compiler zu sagen, wie er mit der Funktion umgehen soll, obwohl er nicht genau weiß, welche Befehle in der Funktion ausgeführt werden. An einer(**und nur einer**) Stelle im Code muss die Funktion allerdings definiert sein. Die Deklaration sieht wie folgt aus:\n",
    "\n",
    "```C\n",
    "Typ Funktionsname(Parameterliste);\n",
    "```\n",
    "\n",
    "### Typ\n",
    "Der Rückgabewert der Funktion, wie in der Funktionsdefinition.\n",
    "\n",
    "### Funktionsname\n",
    "Gleich wie in der Definition.\n",
    "\n",
    "### Parameterliste\n",
    "Hier müssen keine Variablennamen angegeben werden, sondern nur die Typen der zu übergebenden Variablen.\n",
    "\n",
    "Mit diesen Informationen weiß der Compiler genau, wie er mit der Funktion umgehen muss, obwohl er noch nicht genau weiß, welcher Code in ihr ausgeführt wird. Dies ist notwendig wenn eine Funktion in einem anderen Modul definiert ist und verwendet werden soll. Die dazugehörige Deklaration ist dann in der Header Datei enthalten.    \n",
    "Zum Beispiel ist die **Deklaration** von `printf` in `stdio.h` enthalten. Die **Definition** ist vom Betriebssystem vorgegeben und wird am Ende des Kompilierens *gelinkt* (siehe Vorlesung 2.1)."
   ]
  },
  {
   "cell_type": "code",
   "execution_count": null,
   "metadata": {},
   "outputs": [],
   "source": [
    "/* Beispiel für getrennte Deklaration und Definition */\n",
    "#include <stdio.h>\n",
    "\n",
    "/* Deklaration */\n",
    "void Summe(long, long);\n",
    "\n",
    "int main() {\n",
    "    long zahl1 = 5;\n",
    "    long zahl2 = 8;\n",
    "    \n",
    "    /* Hier weiß der Compiler immer noch nicht welcher Code in Summe ausgeführt wird. \n",
    "        Er weiß aber welche Typen benötigt werden. */\n",
    "    Summe(zahl1, zahl2);\n",
    "    \n",
    "    return 0;\n",
    "}\n",
    "\n",
    "/* Die Funktion MUSS aber irgendwo definiert sein. Falls nicht, meldet der Linker einen Fehler.\n",
    "    Versuchen Sie die Definition auszukommentieren um den Fehler zu sehen. */\n",
    "void Summe(long a, long b) {\n",
    "    long ergebnis = a + b;\n",
    "    printf(\"Ergebnis: %ld\\n\", ergebnis);   \n",
    "}"
   ]
  },
  {
   "cell_type": "markdown",
   "metadata": {
    "deletable": false,
    "editable": false,
    "run_control": {
     "frozen": true
    }
   },
   "source": [
    "## Die Funktion `main`\n",
    "\n",
    "Spätestens jetzt sollten Sie bemerkt haben, dass `int main()` eine Funktionsdefinition ist. Diese Funktion wird vom Betriebssystem aufgerufen, wenn das Programm ausgeführt wird. In diesem Fall werden keine Parameter übergeben und die Funktion `main()` liefert einen `int` Wert zurück. Dieser Rückgabewert signalisiert üblicherweise, ob ein Fehler im Hauptprogramm aufgetreten ist. Die genaue Bedeutung ist in Vorlesung 2.2 erläutert."
   ]
  },
  {
   "cell_type": "markdown",
   "metadata": {
    "deletable": false,
    "editable": false,
    "run_control": {
     "frozen": true
    }
   },
   "source": [
    "## Ablauf eines Funktionsaufrufes\n",
    "\n",
    "Die Parameter einer Funktion sind **Kopien** der Werte, die beim Aufruf der Funktion übergeben werden. Daher können die ursprünglichen Werte auch nicht verändert werden. Diese Art des Übergebens von Werten wird *call by value* genannt, da nur der Wert (*value*) einer Variable übergeben wird. Die Übergabe der ursprünglichen Variable, so dass sie verändert werden kann, wird *call by reference* genannt, da hier eine Referenz auf die ursprüngliche Variable übergeben wird. In C werden Parameter immer als **Kopien** übergeben."
   ]
  },
  {
   "cell_type": "code",
   "execution_count": null,
   "metadata": {},
   "outputs": [],
   "source": [
    "/* Call by Value Beispiel */\n",
    "#include <stdio.h>\n",
    "\n",
    "long Inkrement(long a) {\n",
    "    /* Die lokale Variable a (Kopie von x) wird um eins erhöht */\n",
    "    a = a + 1;\n",
    "    return a;\n",
    "}\n",
    "\n",
    "int main() {\n",
    "    long x = 1, y;\n",
    "    \n",
    "    /* x bleibt unverändert */\n",
    "    y = Inkrement(x);\n",
    "        \n",
    "    printf(\"x: %ld\\n\", x);\n",
    "    printf(\"y: %ld\\n\", y);\n",
    "\n",
    "    return 0;\n",
    "}"
   ]
  },
  {
   "cell_type": "markdown",
   "metadata": {
    "deletable": false,
    "editable": false,
    "run_control": {
     "frozen": true
    }
   },
   "source": [
    "## Typumwandlung\n",
    "\n",
    "Nachdem Übergabeparameter nur Kopien sind, können die übergebenen Typen umgewandelt werden, wenn sie nicht übereinstimmen. **ACHTUNG**: Dies sollte vermieder werden, da Typumwandlungen zu einem Verlust von Genauigkeit führen können!"
   ]
  },
  {
   "cell_type": "code",
   "execution_count": null,
   "metadata": {},
   "outputs": [],
   "source": [
    "/* Beispiel für implizite Typenkonvertierung */\n",
    "#include <stdio.h>\n",
    "\n",
    "/* 3.) Parameter werden auf long konvertiert 1.2-->1, 3.9-->3  */\n",
    "double Summe(long x, long y) {\n",
    "    long ergebnis;\n",
    "    ergebnis = x + y;\n",
    "    \n",
    "    /* 4.) Ergebnis wird auf double konvertiert*/\n",
    "    return ergebnis;  \n",
    "}\n",
    "\n",
    "int main() {\n",
    "    /* 1.) sum ist vom Typ long */\n",
    "    long sum;\n",
    "    \n",
    "    /* 2.) Übergabeparameter sind vom Typ double */\n",
    "    sum = Summe(1.2, 3.9);\n",
    "    /* 5.) Konvertierung des Rückgabewertes auf long um ihn in sum zu speichern */\n",
    "    \n",
    "    /* Hier wird vermutlich ein unerwartetes Ergebnis ausgegeben */\n",
    "    printf(\"%ld\\n\", sum);\n",
    "    \n",
    "    return 0;\n",
    "}"
   ]
  },
  {
   "cell_type": "markdown",
   "metadata": {
    "deletable": false,
    "editable": false,
    "run_control": {
     "frozen": true
    }
   },
   "source": [
    "## Statische und externe Funktionen\n",
    "\n",
    "In C kann die Sichtbarkeit von Funktionen angegeben werden. Hierbei gibt es zwei Möglichkeiten:\n",
    "* `extern`: Die Funktion ist im gesamten Programm sichtbar und kann überall verwendet werden.\n",
    "* `static`: Die Funktion ist nur im Modul (in der .c Datei) sichtbar, in dem sie definiert wurde.\n",
    "\n",
    "Alle Funktionen in C sind standardmäßig als `extern` definiert, außer sie wurden explizit als `static` definiert."
   ]
  },
  {
   "cell_type": "code",
   "execution_count": null,
   "metadata": {},
   "outputs": [],
   "source": [
    "/* Statische Funktion in C */\n",
    "#include <stdio.h>\n",
    "\n",
    "/* Deklaration */\n",
    "static void Summe(long, long);\n",
    "\n",
    "int main() {\n",
    "    long zahl1 = 5;\n",
    "    long zahl2 = 8;\n",
    "    \n",
    "    Summe(zahl1, zahl2);\n",
    "    \n",
    "    return 0;\n",
    "}\n",
    "\n",
    "/* Hier müsste nicht noch einmal static stehen,\n",
    "    allerdings ist es zu empfehlen da es klarer ist */\n",
    "static void Summe(long a, long b) {\n",
    "    long ergebnis = a + b;\n",
    "    printf(\"Ergebnis: %ld\\n\", ergebnis);   \n",
    "}"
   ]
  },
  {
   "cell_type": "code",
   "execution_count": null,
   "metadata": {},
   "outputs": [],
   "source": []
  }
 ],
 "metadata": {
  "kernelspec": {
   "display_name": "C",
   "language": "c",
   "name": "c"
  },
  "language_info": {
   "file_extension": ".c",
   "mimetype": "text/x-csrc",
   "name": "text/x-csrc"
  }
 },
 "nbformat": 4,
 "nbformat_minor": 2
}
