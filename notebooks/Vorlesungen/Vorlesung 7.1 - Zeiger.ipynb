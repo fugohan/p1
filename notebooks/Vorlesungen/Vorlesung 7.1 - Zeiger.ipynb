{
 "cells": [
  {
   "cell_type": "markdown",
   "metadata": {
    "deletable": false,
    "editable": false,
    "run_control": {
     "frozen": true
    }
   },
   "source": [
    "# Vorlesung 7.1\n",
    "# Zeiger\n",
    "\n",
    "---\n",
    " **Hinweis:**\n",
    " Diese interaktiven Webseiten beschreiben parallel zu den Vorlesungsfolien das jeweilige Stoffgebiet. Zellen mit C Quelltext können mittels der Tastenkombination \\[Shift\\] + \\[Enter\\] kompiliert und ausgeführt werden. Es wird Ihnen empfohlen, Änderungen in diversen Zellen vorzunehmen um ein Gefühl für die Sprache C zu entwickeln.\n",
    " \n",
    "---\n",
    "\n",
    "## Speicheradressen von Variablen\n",
    "\n",
    "Ein Zeiger (*pointer*) enthält die Adresse im Speicher, an der eine Variable gespeichert ist. Ein Zeiger auf die Variable `long a` enthält also die Speicheradresse der Variable. Diese Adresse muss nicht in jedem Durchlauf des Programmes gleich sein, da das Betriebssystem irgendeine freie Adresse vergibt."
   ]
  },
  {
   "cell_type": "code",
   "execution_count": null,
   "metadata": {},
   "outputs": [],
   "source": [
    "/* Ausgabe der Speicheradresse (des Zeigers) einer Variable */\n",
    "long a = 5;\n",
    "printf(\"Wert von a: %ld\\n\", a);\n",
    "printf(\"Adresse von a: %p\\n\", &a);\n",
    "/* Die Adresse wird hier automatisch als Hexadezimalzahl ausgegeben */"
   ]
  },
  {
   "cell_type": "markdown",
   "metadata": {
    "deletable": false,
    "editable": false,
    "run_control": {
     "frozen": true
    }
   },
   "source": [
    "### Typ eines Zeigers\n",
    "\n",
    "Wenn Zeiger gespeichert werden sollen, muss ein Typ für die Variable angegeben werden, in der sie gespeichert werden. Dieser Typ ist immer *ein Zeiger auf den Typ auf den der Zeiger zeigt*, was mit einem zusätzlichen `*` angegeben wird:\n",
    "```C\n",
    "long a; // Variable vom Typ long\n",
    "long *b; // Variable vom Typ long* == Zeiger auf long\n",
    "```\n",
    "\n",
    "Auch Zeigervariablen brauchen natürlich Speicherplatz. Auf 32 Bit Systemen sind es immer 32 Bit, auf 64 Bit Systemen immer 64 Bit, egal auf welchen Typ der Zeiger zeigt. "
   ]
  },
  {
   "cell_type": "code",
   "execution_count": null,
   "metadata": {},
   "outputs": [],
   "source": [
    "/* Zeiger können auch in einer anderen Variable gespeichert werden.\n",
    "    Der Typ dieser Variable ist \"ein Zeiger auf den Typ auf den sie zeigt\" */\n",
    "\n",
    "/* Die Variable hat den Typ long */\n",
    "long a = 42;\n",
    "/* Eine andere mit Typ double */\n",
    "double b = 3.1415;\n",
    "\n",
    "/* Der Zeiger hat den Typ long*\n",
    "    Ein Zeiger auf eine Variable hat immer den gleichen Typ mit einem zusätzlichen *    */\n",
    "long *aPointer = &a;\n",
    "/* Double Zeiger */\n",
    "double *bPointer = &b;\n",
    "printf(\"aPointer: %p\\n\", aPointer);\n",
    "printf(\"bPointer: %p\\n\", bPointer);"
   ]
  },
  {
   "cell_type": "markdown",
   "metadata": {
    "deletable": false,
    "editable": false,
    "run_control": {
     "frozen": true
    }
   },
   "source": [
    "### Die Operatoren `&` und `*`\n",
    "\n",
    "Wie oben gezeigt, wird `&` verwendet um die Speicheradresse einer Variable zu erhalten. Analog kann mit `*` \n",
    "von einem Zeiger auf das Objekt zugegriffen werden, auf das er zeigt. Das Umgekehrte kann mit `*` erzielt werden: Aus einem Zeiger wird wieder das Objekt, auf das er zeigt. Dies wird **dereferenzieren** genannt, also wird der Zeiger durch `*` **dereferenziert**.\n",
    "\n",
    "Die Operatoren `&` und `*` kehren einander um. `&` kann man auf jede Variable anwenden, `*` allerdings nur auf Zeiger.\n",
    "\n",
    "`*&a` ist äquivalent zu `a`  \n",
    "`&*pa` ist äquivalent zu `pa`\n",
    "\n",
    "![Zeiger-Dereferenzieren](images/pointer-2.png)"
   ]
  },
  {
   "cell_type": "code",
   "execution_count": null,
   "metadata": {},
   "outputs": [],
   "source": [
    "/* Zeiger dereferenzieren */\n",
    "\n",
    "long a = 42;\n",
    "long b = 17;\n",
    "long *p = &a; /* Zeiger auf a */\n",
    "\n",
    "/* p wird dereferenziert und damit der Wert von a ausgegeben */\n",
    "printf(\"Wert von a: %ld\\n\", *p);\n",
    "\n",
    "/* Auch wenn a verwendet wird, kann es noch ausgegeben werden,\n",
    "    weil p ja nicht selbst den Wert enthält, sondern nur auf a zeigt */\n",
    "a = 1234;\n",
    "printf(\"Wert von a: %ld\\n\", *p);\n",
    "\n",
    "/* Jetzt zeigt p auf die Variable b */\n",
    "p = &b;                          \n",
    "printf(\"Wert von b: %ld\\n\", *p);\n",
    "\n",
    "/* b kann auch direkt über den Zeiger verändert werden */\n",
    "*p = 26;\n",
    "printf(\"Wert von b: %ld\\n\", b);"
   ]
  },
  {
   "cell_type": "markdown",
   "metadata": {
    "deletable": false,
    "editable": false,
    "run_control": {
     "frozen": true
    }
   },
   "source": [
    "**ACHTUNG**: Das zusätzliche `*` im Typ assoziiert nach rechts (siehe Vorlesung 3.2)! Das bedeutet, dass es immer zum Namen des Pointers geschrieben werden sollte:\n",
    "```C\n",
    "long *a, b; // a ist vom Typ long*, b vom Typ long !!!!!\n",
    "/* Richtig wäre */\n",
    "long *a;\n",
    "long b;\n",
    "```\n",
    "`*` wird hier beim Namen geschrieben, weil der Ausdruck `long *a` in C eigentlich bedeutet:    \n",
    "**&#42;a ist vom Typ long**(also `a` dereferenziert ist vom Typ `long`, der Compiler setzt den Typen von a dann automatisch als `long*`)     \n",
    "und NICHT:    \n",
    "a ist vom Typ long&#42;\n",
    "\n",
    "Prinzipiell sollte pro Zeile IMMER nur eine Variable definiert werden, damit keine Verwirrungen auftreten! Dies ist vor allem nützlich weil Variablen bei ihrer Definition sowieso IMMER initialisiert werden sollten!"
   ]
  },
  {
   "cell_type": "markdown",
   "metadata": {
    "deletable": false,
    "editable": false,
    "run_control": {
     "frozen": true
    }
   },
   "source": [
    "## Der Null Zeiger\n",
    "\n",
    "Es ist besonders wichtig darauf zu achten, dass Zeiger IMMER auf eine **gültige Speicheradresse** zeigen. Daher sollten sie IMMER sofort initialisiert werden. Sonst enthalten sie einen Zufallswert, was zu Fehlern führt, die schwer zu finden sind. Für die Fehler, die auftreten können siehe *Vorlesung 6.1, Zugriff auf Elemente über die Feldgröße hinaus*.\n",
    "\n",
    "Wenn anfangs noch nicht klar ist, wohin der Zeiger zeigen soll, kann ihm `NULL` oder `0` zugewiesen werden. An dieser Speicheradresse darf nie geschrieben werden und daher kann das Programm eine sinnvolle Fehlermeldung geben. Wenn allerdings ein anderer Wert gesetzt ist, kann dort vielleicht geschrieben werden, was zu schwer zu findenden Problemen führt (siehe *Vorlesung 6.1*)."
   ]
  },
  {
   "cell_type": "code",
   "execution_count": null,
   "metadata": {},
   "outputs": [],
   "source": [
    "double *p = NULL;\n",
    "*p = 3.1415;"
   ]
  },
  {
   "cell_type": "markdown",
   "metadata": {
    "deletable": false,
    "editable": false,
    "run_control": {
     "frozen": true
    }
   },
   "source": [
    "## Die Dualität von Zeigern und Feldern\n",
    "\n",
    "Zeiger und Felder sind zwei vollkommen unterschiedliche Datentypen:\n",
    "* Zeiger: Speichert die Adresse einer Variable\n",
    "* Feld: Verbunddatentyp, der mehrere Objekte hintereinander im Speicher beschreibt. (Siehe *Vorlesung 6.1*)\n",
    "\n",
    "Die Definition eines Feldes sieht wie folgt aus:\n",
    "```C\n",
    "long feld[10];\n",
    "```\n",
    "\n",
    "`feld` ist also ein Feld mit 10 `long` Werten. Im Speicher sind damit 10 `long` Werte angelegt. Ein Zeiger belegt im Speicher allerdings nur den Platz für eine Adresse, egal auf welchen Typ er zeigt oder wie viele Elemente eines Feldes dort gespeichert sind.\n",
    "\n",
    "Der Ausdruck `feld` kann aber (mit Ausnahmen) genau wie ein konstanter Zeiger auf das erste Element des Feldes verwendet werden:"
   ]
  },
  {
   "cell_type": "code",
   "execution_count": null,
   "metadata": {},
   "outputs": [],
   "source": [
    "long feld[10] = {0};\n",
    "\n",
    "printf(\"feld:     %p\\n\", feld);\n",
    "printf(\"&feld[0]: %p\\n\", &feld[0]);"
   ]
  },
  {
   "cell_type": "markdown",
   "metadata": {
    "deletable": false,
    "editable": false,
    "run_control": {
     "frozen": true
    }
   },
   "source": [
    "Diese Schreibweise kann allerdings verwirrend sein, weil Zeiger und Felder vollkommen unterschiedliche Datentypen sind. Daher sollte für Felder immer eine Schreibweise gewählt werden, die klar macht, dass es ein Feld ist. Zeiger sollten immer so behandelt werden, dass für den Leser klar ist, dass es sich um ein Feld handelt.\n",
    "\n",
    "| Feldschreibweise | Zeigerschreibweise | |\n",
    "| ------------- | ----------- | -- |\n",
    "| `feld[n]`       | `*(ptr + n)`  | Element n |\n",
    "| `&feld[n]`      | `ptr + n`     | Adresse von Element n |\n",
    "\n",
    "Der Unterschied zwischen diesen Schreibweisen wird in folgendem Beispiel gezeigt:"
   ]
  },
  {
   "cell_type": "code",
   "execution_count": null,
   "metadata": {},
   "outputs": [],
   "source": [
    "/* Schreibweise für Felder */\n",
    "long feld[10]; /* Feld hat den Typen long[] */\n",
    "\n",
    "/* Zugriff auf das 4. Element */\n",
    "feld[3] = 42; /* [n] greift auf den Index n eines Feldes zu */\n",
    "\n",
    "/* Speicheradresse des 6. Elementes */\n",
    "printf(\"%p\\n\", &feld[5]);"
   ]
  },
  {
   "cell_type": "code",
   "execution_count": null,
   "metadata": {},
   "outputs": [],
   "source": [
    "/* Schreibweise für Zeiger */\n",
    "long feld[10]; /* feld hat den Typen long[], ist also ein Feld */\n",
    "\n",
    "/* pointer ist vom Typ long*, also ein Zeiger. \n",
    "    Beachten Sie die Feldschreibweise für die Adresse des Feldes! */\n",
    "long *pointer = &feld[0];\n",
    "\n",
    "/* Zugriff auf das 4. Element via pointer.\n",
    "    Hier wird der Zeiger 3 Elemente weiter geschoben.\n",
    "    Danach wird er dereferenziert um auf das gezeigte Element zuzugreifen */\n",
    "*(pointer + 3) = 42;\n",
    "\n",
    "/* Speicheradresse des 6. Elementes */\n",
    "printf(\"%p\\n\", pointer + 5);"
   ]
  },
  {
   "cell_type": "markdown",
   "metadata": {
    "deletable": false,
    "editable": false,
    "run_control": {
     "frozen": true
    }
   },
   "source": [
    "## Call By Value / Call By Reference\n",
    "\n",
    "**Funktionsparameter werden in C immer als Kopie (*Call by Value, Pass by Value*) übergeben**. Diese Kopien sind nur lokal in der Funktion sichtbar. Verändert die aufgerufene Funktion diese Kopie, bleibt die ursprüngliche Variable **unverändert**.\n",
    "\n",
    "Damit können Werte zweier Variablen nicht einfach getauscht werden:"
   ]
  },
  {
   "cell_type": "code",
   "execution_count": null,
   "metadata": {},
   "outputs": [],
   "source": [
    "#include <stdio.h>\n",
    "\n",
    "void swapBad(long a, long b)\n",
    "{\n",
    "    /* begin of swap() */\n",
    "    long h;\n",
    "    h = a;\n",
    "    a = b;\n",
    "    b = h;\n",
    "    /* end of swap() */\n",
    "}\n",
    "\n",
    "int main()\n",
    "{\n",
    "    long x=2;\n",
    "    long y=5;    \n",
    "    printf(\"Before: x=%ld y=%ld\\n\",x,y);\n",
    "\n",
    "    /* before swap() */\n",
    "    swapBad(x,y);\n",
    "    /* after swap() */\n",
    " \n",
    "    printf(\"After:  x=%ld y=%ld\\n\",x,y);\n",
    "}"
   ]
  },
  {
   "cell_type": "markdown",
   "metadata": {
    "deletable": false,
    "editable": false,
    "run_control": {
     "frozen": true
    }
   },
   "source": [
    "Hier wurden nur die Kopien der beiden Variablen vertauscht und daher die Originale nicht verändert.\n",
    "Der Ablauf der Funktion `swapBad` ist im folgenden Bild dargestellt:\n",
    "![Bad Swap](images/pointer-3.png)\n",
    "\n",
    "Um die Variablen tatsächlich zu tauschen, muss eine **Referenz** auf die ursprünglichen Variablen übergeben werden. Das ist mit Zeigern möglich. Die Zeiger werden an die Funktion übergeben und ihre Werte natürlich auch kopiert. Damit sind die Adressen der Variablen `x` und `y` aber in der Funktion verfügbar:"
   ]
  },
  {
   "cell_type": "code",
   "execution_count": null,
   "metadata": {},
   "outputs": [],
   "source": [
    "#include <stdio.h>\n",
    "\n",
    "/* Tausche den Wert von *pa und *pb */\n",
    "void swap(long *pa, long *pb)\n",
    "{\n",
    "    /* begin of swap() */\n",
    "    long h;\n",
    "    /* Auf die Werte wird jetzt immer über die Zeiger zugegriffen */\n",
    "    h = *pa;\n",
    "    *pa = *pb;\n",
    "    *pb = h;\n",
    "    /* end of swap() */\n",
    "}\n",
    "\n",
    "int main()\n",
    "{\n",
    "    long x=2;\n",
    "    long y=5;\n",
    "    printf(\"Before: x=%ld y=%ld\\n\",x,y);\n",
    "    \n",
    "    /* before swap() */\n",
    "    /* Hier werden jetzt die Adressen von x und y übergeben */\n",
    "    swap(&x,&y);\n",
    "    /* after swap() */\n",
    "    \n",
    "    printf(\"After:  x=%ld y=%ld\\n\",x,y);\n",
    "}"
   ]
  },
  {
   "cell_type": "markdown",
   "metadata": {
    "deletable": false,
    "editable": false,
    "run_control": {
     "frozen": true
    }
   },
   "source": [
    "Nun ist der Ablauf der Funktion ein ganz Anderer:\n",
    "\n",
    "![PointerSwap](images/pointer-4.png)\n",
    "\n",
    "Durch das Übergeben von Zeigern, spricht man nun von einem *Call by Reference*, weil **Referenzen** auf `x` und `y` übergeben werden.\n",
    "\n",
    "**Achtung**: Die Zeiger selbst werden wie üblich per *Call by value* übergeben, also kopiert!\n",
    "\n",
    "### Mehrere Rückgabewerte\n",
    "\n",
    "Funktionen in C können immer nur einen Rückgabewert liefern. Wenn aber mehrere Variablen gesetzt werden sollen, kann man (wie im obigen Beispiel) Zeiger verwenden:"
   ]
  },
  {
   "cell_type": "code",
   "execution_count": null,
   "metadata": {},
   "outputs": [],
   "source": [
    "/* Mehrere Werte in einer Funktion setzen */\n",
    "#include <stdio.h>\n",
    "\n",
    "void calcRect(double a, double b, double *umfang, double *flaeche)\n",
    "{\n",
    "    *umfang = 2.0 * (a + b);\n",
    "    *flaeche = a * b;\n",
    "}\n",
    "\n",
    "int main()\n",
    "{\n",
    "    double l = 3;\n",
    "    double b = 2;\n",
    "    /* Setze irgendwelche falschen Werte */\n",
    "    double u = -1.0;\n",
    "    double A = -1.0;\n",
    "\n",
    "    calcRect(l, b, &u, &A);\n",
    "    printf(\"Rechteck mit Flächeninhalt %f und Umfang %f\\n\",u,A);\n",
    "}"
   ]
  },
  {
   "cell_type": "markdown",
   "metadata": {
    "deletable": false,
    "editable": false,
    "run_control": {
     "frozen": true
    }
   },
   "source": [
    "## Zeigerarithmetik\n",
    "\n",
    "Wie im obigen Beispiel schon gezeigt wurde, können Zeiger mit mathematischen Operatoren **verschoben** werden. Wenn auf einen Zeiger addiert wird, wird er automatisch um die Größe des Typs auf den er zeigt erhöht. Dadurch kann eine Addition direkt verwendet werden um auf Elemente eines Feldes zuzugreifen, ohne genau zu wissen wie groß der Speicherverbrauch des Typen ist, auf den der Zeiger zeigt."
   ]
  },
  {
   "cell_type": "code",
   "execution_count": null,
   "metadata": {},
   "outputs": [],
   "source": [
    "/* Felder verschiedener Typen und deren Speicheradressen */\n",
    "{\n",
    "    char feld[10]; /* char belegt 1 Byte im Speicher */\n",
    "    char *pointer = &feld[0];\n",
    "\n",
    "    printf(\"char: 1 Byte\\n\");\n",
    "    printf(\"pointer:   %ld\\n\", (long)pointer);\n",
    "    printf(\"pointer+1: %ld\\n\", (long)(pointer + 1));\n",
    "    printf(\"Differenz: %ld Byte\\n\\n\", (long)(pointer + 1) - (long)(pointer));\n",
    "}\n",
    "\n",
    "{\n",
    "    long feld[10]; /* long belegt 8 Byte im Speicher(hier am Server) */\n",
    "    long *pointer = &feld[0];\n",
    "\n",
    "    printf(\"long: 8 Byte\\n\");\n",
    "    printf(\"pointer:   %ld\\n\", (long)pointer);\n",
    "    printf(\"pointer+1: %ld\\n\", (long)(pointer + 1));\n",
    "    printf(\"Differenz: %ld Byte\\n\", (long)(pointer + 1) - (long)pointer);\n",
    "}"
   ]
  },
  {
   "cell_type": "markdown",
   "metadata": {
    "deletable": false,
    "editable": false,
    "run_control": {
     "frozen": true
    }
   },
   "source": [
    "In diesen Beispielen wurde die Speicheradresse zum besseren Verständnis mit `(long)` in Ganzzahlen umgewandelt.\n",
    "\n",
    "Im obigen Beispiel wird im Fall von `long` der Zeiger `pointer` nur mit `1` addiert, aber die Speicheradresse wird um `8` erhöht. Dies geschieht weil `long` 8 Byte im Speicher belegt und ein Zeiger automatisch um eine \"Speichergröße\" **verschoben** wird. Hierzu ist es nützlich eine Addition/Subtraktion eines Zeigers tatsächlich als **Verschieben** zu betrachten und nicht als Addition/Subtraktion.\n",
    "\n",
    "Die Differenz zweier Zeiger liefert die Anzahl der Elemente zwischen den Zeigern, ebenso unabhängig von der Elementgröße. Diese zwei Zeiger müssen auf denselben Typ zeigen! Eine Addition von Zeigern ist nicht gestattet. Die möglichen Operationen mit Zeigern sind hier angeführt:\n",
    "\n",
    "| Operator | Operation | Operator | Ergebnis |\n",
    "|-|:-:|-|-|\n",
    "| Zeiger | + | Ganzzahl | Zeiger |\n",
    "| Zeiger | - | Ganzzahl | Zeiger|\n",
    "| Zeiger | - | Zeiger | Ganzzahl |\n",
    "| Zeiger | + | Zeiger | ~~nicht erlaubt~~ |"
   ]
  },
  {
   "cell_type": "code",
   "execution_count": null,
   "metadata": {},
   "outputs": [],
   "source": [
    "/* Differenz zweier Zeiger */\n",
    "{\n",
    "    char feld[10]; /* char belegt 1 Byte im Speicher */\n",
    "    char *pointer1 = 0;\n",
    "    char *pointer2 = 0;\n",
    "\n",
    "    pointer1 = &feld[0];\n",
    "    pointer2 = pointer1 + 1;\n",
    "\n",
    "    printf(\"char\\n\");\n",
    "    /* Nun wird die Differenz zwischen zwei Zeigern berechnet und danach erst\n",
    "        in eine Dezimalzahl umgewandelt */\n",
    "    printf(\"Differenz:             %ld Elemente\\n\\n\", pointer2 - pointer1);\n",
    "}\n",
    "\n",
    "{\n",
    "    long feld[10]; /* long belegt 8 Byte im Speicher(hier am Server) */\n",
    "    long *pointer1 = 0;\n",
    "    long *pointer2 = 0;\n",
    "\n",
    "    pointer1 = &feld[0];\n",
    "    pointer2 = pointer1 + 1;\n",
    "\n",
    "    printf(\"long\\n\");\n",
    "    /* Nun wird die Differenz zwischen zwei Zeigern berechnet und danach erst\n",
    "        in eine Dezimalzahl umgewandelt */\n",
    "    printf(\"Differenz:             %ld Elemente\\n\\n\", pointer2 - pointer1);\n",
    "    \n",
    "    /* Die Differenz in Bytes kann durch Umwandlung in eine Ganzzahl ausgegeben werden */\n",
    "    printf(\"Differenz mit (long):  %ld Elemente\\n\\n\", (long)pointer2 - (long)pointer1);\n",
    "    \n",
    "    /* Um die Anzahl der Bytes zu bekommen, kann auch in char* umgewandelt werden.\n",
    "        char belegt 1 Byte im Speicher, also die Differenz liefert die Anzahl\n",
    "        der Elemente == die Anzahl der Bytes */\n",
    "    printf(\"Differenz mit (char*): %ld Elemente\\n\\n\", (char*)pointer2 - (char*)pointer1);\n",
    "}"
   ]
  },
  {
   "cell_type": "markdown",
   "metadata": {
    "deletable": false,
    "editable": false,
    "run_control": {
     "frozen": true
    }
   },
   "source": [
    "## Felder von Zeigern\n",
    "\n",
    "So wie andere Typen, können auch Zeiger in Feldern gespeichert werden. Dadurch können mehrdimensionale Felder unterschiedlicher Länge gespeichert werden:"
   ]
  },
  {
   "cell_type": "code",
   "execution_count": null,
   "metadata": {},
   "outputs": [],
   "source": [
    "/* Felder von Zeigern */\n",
    "\n",
    "/* Drei Felder */\n",
    "long a1[6] = {1, 2, 3, 4, 5, 6};\n",
    "long a2[3] = {1, 2, 3};\n",
    "long a3[5] = {1, 2, 3, 4, 5};\n",
    "long laenge[3] = {6, 3, 5}; /* Speichern der Länge aller Felder */\n",
    "\n",
    "/* Ein Feld in dem Zeiger gespeichert werden.\n",
    "    Der Typ dieses Feldes ist nun long*[], also ein Feld aus Objekten des Typs long*   */\n",
    "long *p[3]; /* Hier könnte auch direkt initialisiert werden. Probieren Sie es! */\n",
    "\n",
    "/* Durch die Verwendung von Zeigern, könnte diese Reihenfolge auch beliebig getauscht werden! */\n",
    "p[0] = &a1[0];\n",
    "p[1] = &a2[0];\n",
    "p[2] = &a3[0];\n",
    "\n",
    "/* Ausgabe */\n",
    "{\n",
    "    long i = 0;\n",
    "    for(i = 0; i < 3; ++i) {\n",
    "        long j = 0;\n",
    "        for(j = 0; j < laenge[i]; ++j) {\n",
    "            /* Der Zugriff auf p ist gleich wie bei einem zweidimensionalen Feld. Siehe Vorlesung 6.1 */\n",
    "            printf(\"%ld, \", p[i][j]);\n",
    "        }\n",
    "        printf(\"\\n\");\n",
    "    }\n",
    "}"
   ]
  },
  {
   "cell_type": "markdown",
   "metadata": {
    "deletable": false,
    "editable": false,
    "run_control": {
     "frozen": true
    }
   },
   "source": [
    "## Zeiger auf Zeiger\n",
    "\n",
    "Wenn ein Zeiger in einer Variable gespeichert wird, kann natürlich wiederum ein Zeiger auf diese Variable erzeugt werden. Der Typ der Variable auf die gezeigt wird ist dann zum Beispiel `long*`. Der Typ dieses Zeigers ist dann `long**`, also ein Zeigerzeiger. Üblicherweise spricht man hier allerdings immer nur von Zeigern.\n",
    "\n",
    "**Achtung**: Mit Zeigern auf Zeiger sollte vorsichtig umgegangen werden, da sie schnell verwirrend werden!"
   ]
  },
  {
   "cell_type": "code",
   "execution_count": null,
   "metadata": {},
   "outputs": [],
   "source": [
    "/* Zeiger auf Zeiger */\n",
    "long a = 42;\n",
    "long *pointer = &a;\n",
    "long **pointerpointer = &pointer;\n",
    "\n",
    "printf(\"Adresse von a:       %p\\n\", pointer);\n",
    "printf(\"Adresse von pointer: %p\\n\", pointerpointer);\n",
    "\n",
    "printf(\"Inhalt von pointerpointer ist ein long*: %p\\n\",*pointerpointer);\n",
    "printf(\"Inhalt davon ist ein long: %d\\n\",**pointerpointer);"
   ]
  },
  {
   "cell_type": "code",
   "execution_count": null,
   "metadata": {},
   "outputs": [],
   "source": [
    "/* Sinnvolles Zeigerzeiger Beispiel:\n",
    "    Zwei Zeiger auf Felder sollen vertauscht werden */\n",
    "#include <stdio.h>\n",
    "\n",
    "/* Diese Funktion tauscht zwei Zeiger.\n",
    "    Hier müssen Zeigerzeiger übergeben werden,\n",
    "    damit die ursprünglichen Zeiger verändert werden können\n",
    "    (siehe Vorlesung 5.1, 6.1: pass by value/reference) */\n",
    "void swapPtr(long **p1, long **p2) {\n",
    "    /* begin of swapPtr */\n",
    "    long *tmp = *p1; /* Dreieckstausch */\n",
    "    *p1 = *p2;\n",
    "    *p2 = tmp;\n",
    "    /* end of swapPtr */\n",
    "}\n",
    "\n",
    "int main() {\n",
    "    /* Drei Felder */\n",
    "    long a1[6] = {1, 2, 3, 4, 5, 6};\n",
    "    long a2[3] = {1, 2, 3};\n",
    "    long a3[5] = {1, 2, 3, 4, 5};\n",
    "    long laenge[3] = {6, 3, 5}; /* Speichern der Länge aller Felder */\n",
    "\n",
    "    /* Ein Feld in dem Zeiger gespeichert werden.\n",
    "        Der Typ dieses Feldes ist nun long*[], also ein Feld aus Objekten des Typs long*   */\n",
    "    long *p[3]; /* Hier könnte auch direkt initialisiert werden. Probieren Sie es! */\n",
    "\n",
    "    /* Durch die Verwendung von Zeigern, könnte diese Reihenfolge auch beliebig getauscht werden! */\n",
    "    p[0] = &a1[0];\n",
    "    p[1] = &a2[0];\n",
    "    p[2] = &a3[0];\n",
    "    \n",
    "    /* Jetzt tauschen wir zwei Reihen */\n",
    "    /* before swapPtr */\n",
    "    swapPtr(&p[0], &p[1]);\n",
    "    /* after swapPtr */\n",
    "    laenge[0] = 3;\n",
    "    laenge[1] = 6;\n",
    "\n",
    "    /* Ausgabe */\n",
    "    {\n",
    "        long i = 0;\n",
    "        for(i = 0; i < 3; ++i) {\n",
    "            long j = 0;\n",
    "            for(j = 0; j < laenge[i]; ++j) {\n",
    "                printf(\"%ld, \", p[i][j]);\n",
    "            }\n",
    "            printf(\"\\n\");\n",
    "        }\n",
    "    }\n",
    "}\n"
   ]
  },
  {
   "cell_type": "markdown",
   "metadata": {
    "deletable": false,
    "editable": false,
    "run_control": {
     "frozen": true
    }
   },
   "source": [
    "Der Funktionsaufruf läuft also wie folgt ab:\n",
    "\n",
    "![multiArraySwap](images/pointer-6.png)"
   ]
  },
  {
   "cell_type": "markdown",
   "metadata": {
    "deletable": false,
    "editable": false,
    "run_control": {
     "frozen": true
    }
   },
   "source": [
    "## Konstante Zeiger\n",
    "\n",
    "Was passiert, wenn wir versuchen den Zeiger eines Feldes zu überschreiben? Kann dann noch auf das Feld zugegriffen werden?"
   ]
  },
  {
   "cell_type": "code",
   "execution_count": null,
   "metadata": {},
   "outputs": [],
   "source": [
    "/* Schreiben von konstanten Zeigern */\n",
    "long feld[10] = {0};\n",
    "\n",
    "/* Fehlermeldung! \n",
    "    Die Variable vom Typ long[] kann nicht überschrieben werden, \n",
    "    weil sie (intern) ein konstanter Zeiger ist! */\n",
    "feld = 0x7ffda80a2be0;\n",
    "\n",
    "printf(\"%ld\\n\", feld[2]);"
   ]
  },
  {
   "cell_type": "markdown",
   "metadata": {
    "deletable": false,
    "editable": false,
    "run_control": {
     "frozen": true
    }
   },
   "source": [
    "Genau so wie andere Konstanten, können konstante Zeiger nur bei ihrer Definition gesetzt werden, und danach nicht mehr verändert werden. Hier muss sehr vorsichtig vorgegangen werden, wo das Schlüsselwort `const` platziert wird. Denn ein Zeiger könnte auch auf den Typ `const char` Zeigen und wäre damit ein `const char*`! Die Möglichkeiten sind hier angeführt:\n",
    "\n",
    "| Deklaration | Typ | Bedeutung |\n",
    "|-|-|-|\n",
    "| char c; | Variable | veränderbares `char` |\n",
    "| const char c = 'c'; | Konstante | `c` muss initialisiert werden und kann danach nicht mehr verändert werden |\n",
    "| char *a; | Zeiger auf ein `char` | Sowohl der Zeiger `a` als auch `*a` können verändert werden |\n",
    "| const char *a; | Zeiger auf ein `const char`| `*a` kann nicht verändert werden, aber `a` schon | \n",
    "| char * const a = &c; | konstanter Zeiger auf auf ein `char` | `a` muss initialisiert werden und darf nicht mehr verändert werden, `*a` ist schreibbar |\n",
    "| const char * const a = &c; | konstanter Zeiger auf ein `const char` | Sowohl `a` (muss initialisiert werden) als auch das Zeichen `*a` können nicht mehr verändert werden |"
   ]
  },
  {
   "cell_type": "code",
   "execution_count": null,
   "metadata": {},
   "outputs": [],
   "source": [
    "/* Zeiger auf konstante Variable */\n",
    "const char a = '*';\n",
    "const char* pointer; /* pointer ist NICHT konstant, aber a */\n",
    "pointer = &a;\n",
    "*pointer = 't';"
   ]
  },
  {
   "cell_type": "code",
   "execution_count": null,
   "metadata": {},
   "outputs": [],
   "source": [
    "/* Konstanter Zeiger auf Variable */\n",
    "char a = 't';\n",
    "char *const pointer = &a; /* pointer darf nicht mehr verändert werden, aber a schon */\n",
    "*pointer = '*';\n",
    "pointer = 0x7ffda80a2be0;"
   ]
  },
  {
   "cell_type": "code",
   "execution_count": null,
   "metadata": {},
   "outputs": [],
   "source": [
    "/* Konstanter Zeiger auf konstante Variable */\n",
    "const char a = '*';\n",
    "const char* const pointer = &a; /* sowohl pointer, als auch a können nicht verändert werden */\n",
    "printf(\"%c\\n\", *pointer);"
   ]
  },
  {
   "cell_type": "markdown",
   "metadata": {
    "deletable": false,
    "editable": false,
    "run_control": {
     "frozen": true
    }
   },
   "source": [
    "## Lesen von C Deklarationen/Definitionen\n",
    "\n",
    "Wie in den letzten Beispielen zu sehen war, können C Deklarationen komplex werden. Mit Hilfe der folgenden Schritte kann der korrekte Typ eines Bezeichners gefunden werden:\n",
    "\n",
    "1. Finden des Bezeichners (Namens)\n",
    "2. Lesen nach rechts:\n",
    "    1. `()`: Es ist eine Funktion\n",
    "    2. `[]`: Es ist ein Feld\n",
    "    3. Nichts oder andere Operatoren: es ist eine Variable\n",
    "3. Wieder beim Bezeichner starten und nach links lesen:\n",
    "    1. `const` bezieht sich immer auf den Bezeichner direkt rechts/dahinter\n",
    "    2. `*` ist ein Zeiger auf den Typ links/davor\n",
    "    \n",
    "Danach sollte der Typ des Bezeichners gefunden sein. Im Folgenden sind einige Beispiele angeführt:\n",
    "\n",
    "### `const char *const ptr = &feld[0];`\n",
    "1. Der Bezeichner ist `ptr`\n",
    "2. Es folgt ein `=`, also weder `()` noch `[]` -> Variable\n",
    "3. Mehrere Schlüsselworte von rechts nach links:\n",
    "    1. `const`: Die Variable ist konstant\n",
    "    2. `*`: Die Variable ist ein Zeiger -> ein konstanter Zeiger\n",
    "    3. `char`: Die Variable ist ein konstanter Zeiger auf `char`\n",
    "    3. `const`: Die Variable ist ein konstanter Zeiger auf `const char`\n",
    "\n",
    "\n",
    "### `unsigned short int *x[10];`\n",
    "\n",
    "1. Der Bezeichner ist `x`\n",
    "2. `[10]`: Es ist ein Feld mit 10 Elementen\n",
    "3. Schlüsselworte von rechts nach links:\n",
    "    1. `*`: Die Elemente sind Zeiger\n",
    "    2. `int`: Die Elemente sind Zeiger auf `int`\n",
    "    3. `short`: Die Elemente sind Zeiger auf `short int`\n",
    "    4. `unsigned`: Die Elemente sind Zeiger auf `unsigned short int` (Also positive Ganzzahlen mit mindestens 2 Byte Größe)\n",
    "    \n",
    "    \n",
    "### `static long *ptr[5][4];`\n",
    "\n",
    "1. Der Bezeichner ist `ptr`\n",
    "2. `[5][4]`: Ein zweidimensionales Feld mit `5 * 4 = 20` Elementen\n",
    "3. Schlüsselworte von rechts nach links:\n",
    "    1. `*`: Die Elemente sind Zeiger\n",
    "    2. `long`: Zeiger auf long\n",
    "    3. `static`: Die Speicherklasse des Feldes ist `static`. Also `ptr` ist ein statisches Feld.\n",
    "    \n",
    "**ACHTUNG**: `static`/`extern`/`register` sind **Speicherklassen** und KEINE Typen (siehe Vorlesung 5.2). Sie werden IMMER am Anfang einer Deklaration/Definition geschrieben und können sich nur auf den Bezeichner beziehen. Also wenn ein Zeiger auf eine Variable vom Typ `static long` zeigen soll, ist sein Typ nur `long*`, **NICHT** `static long*`. `static long*` bedeutet, dass der Zeiger selbst statisch ist!\n",
    "\n",
    "\n",
    "### `double *f(long x[]);`\n",
    "\n",
    "1. Der Bezeichner ist `f`\n",
    "2. `(long x[])`: `f` ist eine Funktion mit einem Feld `x` aus `long` als Parameter\n",
    "3. Von rechts nach links:\n",
    "    1. `*`: Der Rückgabewert der Funktion ist ein Zeiger\n",
    "    2. `double`: Der Rückgabewert der Funktion ist ein Zeiger auf `double`"
   ]
  },
  {
   "cell_type": "code",
   "execution_count": null,
   "metadata": {},
   "outputs": [],
   "source": []
  }
 ],
 "metadata": {
  "kernelspec": {
   "display_name": "C",
   "language": "c",
   "name": "c"
  },
  "language_info": {
   "file_extension": ".c",
   "mimetype": "text/x-csrc",
   "name": "text/x-csrc"
  }
 },
 "nbformat": 4,
 "nbformat_minor": 2
}
