{
 "cells": [
  {
   "cell_type": "markdown",
   "metadata": {
    "deletable": false,
    "editable": false,
    "run_control": {
     "frozen": true
    }
   },
   "source": [
    "# Vorlesung 10.1\n",
    "# Dateioperationen\n",
    "\n",
    "---\n",
    " **Hinweis:**\n",
    " Diese interaktiven Webseiten beschreiben parallel zu den Vorlesungsfolien das jeweilige Stoffgebiet. Zellen mit C Quelltext können mittels der Tastenkombination \\[Shift\\] + \\[Enter\\] kompiliert und ausgeführt werden. Es wird Ihnen empfohlen, Änderungen in diversen Zellen vorzunehmen um ein Gefühl für die Sprache C zu entwickeln.\n",
    " \n",
    "---\n",
    "\n",
    "## Grundkonzepte\n",
    "\n",
    "Bisher wurden in Vorlesungen Daten nur mit `scanf` von der Standardeingabe gelesen und mit `printf` auf die Standardausgabe geschrieben. Vor allem bei großen Datenmengen ist es aber wichtig auch aus Dateien zu lesen und in Dateien zu schreiben. In der Sprache C werden sogennante **Datenströme** verwendet um mit Dateien zu interagieren.\n",
    "\n",
    "### Datenströme (*streams*)\n",
    "\n",
    "Ein Datenstrom ist das Bindeglied zwischen Programm und Betriebssystem über welches Daten ausgetauscht werden. In vorherigen Beispielen wurden nur Datenströme verwendet, die auf die Kommandozeile schreiben oder lesen:\n",
    "\n",
    "<img src=\"images/datastreams.png\" width=500>\n",
    "\n",
    "Der Datenaustausch mit einer Datei funktioniert auch mittels Datenströmen. Der Vorteil von Datenströmen ist, dass der Datenaustausch für das Programm immer gleich funktioniert, egal wo die Daten hingesendet werden. Daher muss der Code nur minimal angepasst werden um zum Beispiel in eine Datei auf der Festplatte zu schreiben anstatt auf den Bildschirm:\n",
    "\n",
    "<img src=\"images/datastreams_all.png\" width=500>"
   ]
  },
  {
   "cell_type": "markdown",
   "metadata": {
    "deletable": false,
    "editable": false,
    "run_control": {
     "frozen": true
    }
   },
   "source": [
    "### Gepufferte Datenströme\n",
    "\n",
    "Datenströme werden verwendet um Daten mit dem Betriebssystem auszutauschen. Datenströme in C sind gepuffert, was bedeutet, dass Daten immer in einen Zwischenspeicher (Puffer) geschrieben werden und von diesem Puffer wieder gelesen werden, wenn das Programm/Betriebssystem bereit dafür ist. \n",
    "\n",
    "<img src=\"images/buffer.png\" width=500>\n",
    "\n",
    "Ein Aufruf von `printf()` bewirkt also, dass der angegebene Text in den Ausgabepuffer geschrieben wird. Sobald das Betriebssystem bereit ist, kann es diesen Puffer leeren und seienen Inhalt auf die Kommandozeile schreiben. Üblicherweise wird das Leeren aber vom Programm gesteuert.\n",
    "Der Puffer wird immer geleert wenn:\n",
    "* `fflush()` aufgerufen wird\n",
    "* das Zeichen `'\\n'` in den Datenstrom geschrieben wird\n",
    "* der Datenstrom mit `fclose()` geschlossen wird\n",
    "* das Programm beendet wird\n",
    "\n",
    "Puffer wurden schon in Vorlesung 3.1 erwähnt, als der *Input Buffer* besprochen wurde. Weil die gesamte Eingabe gespeichert wird, muss beim Einlesen von einzelnen Zeichen `getchar()` ausgeführt werden um das zusätzliche Zeichen `\\n` zu entfernen. Das ist allerdings nur bei einzelnen Zeichen (`getchar()` oder `scanf(\"%c\")`) notwendig, da `scanf()` sonst führende Leerzeichen, also auch `\\n`, überliest."
   ]
  },
  {
   "cell_type": "code",
   "execution_count": null,
   "metadata": {},
   "outputs": [],
   "source": [
    "/* Beim Input bleibt das Zeichen '\\n' im Puffer und wird daher bei scanf(\"%c\", &operator) gelesen */\n",
    "long zahl;\n",
    "char operator;\n",
    "printf(\"Operand: \");\n",
    "scanf(\"%ld\", &zahl);\n",
    "printf(\"Operator: \");\n",
    "scanf(\"%c\", &operator);\n",
    "printf(\"Sie haben Operand %ld und Operator %c eingegeben.\\n\", zahl, operator);"
   ]
  },
  {
   "cell_type": "code",
   "execution_count": null,
   "metadata": {},
   "outputs": [],
   "source": [
    "/* Um das zu Umgehen muss das Zeichen '\\n' aus dem Puffer entfernt werden */\n",
    "long zahl;\n",
    "char operator;\n",
    "printf(\"Operand: \");\n",
    "scanf(\"%ld\", &zahl);\n",
    "getchar(); /* getchar liest ein Zeichen und verwirft es */\n",
    "printf(\"Operator: \");\n",
    "scanf(\"%c\", &operator);\n",
    "printf(\"Sie haben Operand %ld und Operator %c eingegeben.\\n\", zahl, operator);"
   ]
  },
  {
   "cell_type": "markdown",
   "metadata": {
    "deletable": false,
    "editable": false,
    "run_control": {
     "frozen": true
    }
   },
   "source": [
    "### Öffnen und Schließen von Datenströmen\n",
    "\n",
    "`stdout`, `stdin`, und `stderr` sind über die gesamte Laufzeit eines Programmes verfügbar. Um aber einen Datenstrom zu einer Datei auf der Festplatte zu bekommen, muss er erst geöffnet werden. Sobald ein Datenstrom auf eine Datei zum Schreiben geöffnet wurde, kann das Betriebsystem andere Schreibzugriffe auf diese Datei verbieten. Daher muss der Datenstrom geschlossen werden um die Datei wieder freizugeben. Zum Öffnen, Schließen, und Leeren von Datenströmen gibt es folgende Funktionen:\n",
    "\n",
    "| Funktion | Rückgabewert | Beschreibung |\n",
    "| -------- | ------------ | ------------ |\n",
    "| `fopen(s, m)` | Zeiger auf den Datenstrom | Öffnet einen Datenstrom zur Datei `s` im Modus `m` |\n",
    "| `fclose(F)` | `0` wenn der Strom geschlossen wurde, anderes bei Fehler | Schließt den Datenstrom `F` und gibt die Datei wieder frei |\n",
    "| `fflush(F)` | `0` wenn Daten geschrieben wurden, anderes bei Fehler | Leert den Datenstrom `F` und schreibt den Inhalt in die Datei |\n",
    "\n",
    "Der Modus `m` in `fopen` ist eine Zeichenkette, die angibt wie mit der Datei interagiert wird. Hier gibt es folgende Möglichkeiten:\n",
    "\n",
    "| Modus | Beschreibung |\n",
    "| ----- | ------------ |\n",
    "| `\"r\"` | Öffnen zum Lesen (* **r**ead*) der Datei. |\n",
    "| `\"r+\"` | Öffnen zum Lesen und Schreiben. Wenn die Datei nicht existiert, wird sie **NICHT** erstellt. |\n",
    "| `\"w\"` | Öffnen zum Schreiben (* **w**rite*). Wenn die Datei schon existiert, wird sie überschrieben, sonst erstellt. |\n",
    "| `\"w+\"` | Öffnen zum Lesen und Schreiben. Wenn die Datei existiert, wird sie überschrieben, sonst erstellt. |\n",
    "| `\"a\"` | Öffnen zum Anhängen (* **a**ppend*) an die Datei. Wenn sie schon existiert, wird ans Ende dazu geschrieben, wenn nicht wird sie erstellt. |\n",
    "| `\"a+\"` | Wie `\"a\"`, nur darf nun auch überall in der Datei gelesen werden |\n",
    "\n",
    "\n",
    "Im folgenden Beispiel wird die Datei \"Beispiel.txt\" zum Lesen geöffnet und danach wieder geschlossen."
   ]
  },
  {
   "cell_type": "code",
   "execution_count": null,
   "metadata": {},
   "outputs": [],
   "source": [
    "/* Öffnen und Schließen von Datenströmen */\n",
    "/* FILE ist der Datentyp des Datenstromes in C */\n",
    "FILE *datei;\n",
    "datei = fopen(\"Beispiel.txt\", \"r\"); /* \"r\" bedeutet zum Lesen öffnen */\n",
    "/* Überprüfen ob Datei geöffnet werden konnte */\n",
    "if(datei == 0) {\n",
    "    printf(\"Fehler beim Oeffnen zum Lesen!\\n\");\n",
    "} else {\n",
    "    fclose(datei); /* fclose() darf nur ausgeführt werden, wenn die Datei geöffnet werden konnte! */\n",
    "}"
   ]
  },
  {
   "cell_type": "markdown",
   "metadata": {
    "deletable": false,
    "editable": false,
    "run_control": {
     "frozen": true
    }
   },
   "source": [
    "**ACHTUNG**: Die Datei \"Beispiel.txt\" ist genau so wie die Vorlesungsfolien schreibgeschützt und kann daher nicht geöffnet werden! Versuchen Sie den Modus zu \"w\" zu ändern!"
   ]
  },
  {
   "cell_type": "markdown",
   "metadata": {
    "deletable": false,
    "editable": false,
    "run_control": {
     "frozen": true
    }
   },
   "source": [
    "### Lesen und Schreiben von Dateien\n",
    "\n",
    "Zum Lesen und Schreiben von Dateien gibt es Funktionen, die denen zum Lesen/Schreiben auf die Kommandozeile sehr ähnlich sind:\n",
    "\n",
    "| Funktion | Rückgabewert | Beschreibung |\n",
    "| -------- | ------------ | ------------ |\n",
    "| `fprintf(F, f, ...)` | Anzahl der geschriebenen Zeichen, bei Fehler `0` | Wie `printf`, nur wird in den Strom `F` geschrieben |\n",
    "| `fscanf(F, f, ...)` | Anzahl der gelesenen Variablen, bei Fehler `EOF` | Wie `scanf`, nur wird aus dem Strom `F` gelesen |\n",
    "| `fputs(s, F)` | Zahl >= 0, bei Fehler `EOF` | Schreibt eine Zeichenkette `s` in den Strom `F` |\n",
    "| `fgets(s, n, F)` | Zeiger auf `s`, bei Fehler `0` | Liest eine Zeile aus `F` und schreibt die Zeichenkette `s`, aber maximal `n` Zeichen |\n",
    "| `fputc(c, F)` | `c` als `int`, bei Fehler `EOF` | Schreibt das Zeichen `c` in den Strom `F` |\n",
    "| `fgetc(F)` | Das gelesene Zeichen als `int`, bei Fehler `EOF` | Liest ein Zeichen aus dem Strom `F` |\n",
    "\n",
    "Nun können wir die Datei \"Beispiel.txt\" lesen und auf die Konsole ausgeben:"
   ]
  },
  {
   "cell_type": "code",
   "execution_count": null,
   "metadata": {},
   "outputs": [],
   "source": [
    "/* Auslesen einer ganzen Textdatei */\n",
    "#define BUFFERLENGTH 256\n",
    "\n",
    "/* FILE ist der Datentyp des Datenstromes in C */\n",
    "FILE *datei;\n",
    "datei = fopen(\"Beispiel.txt\", \"r\"); /* \"r\" bedeutet zum Lesen öffnen */\n",
    "\n",
    "/* Überprüfen ob Datei geöffnet werden konnte */\n",
    "if(datei == 0) {\n",
    "    printf(\"Fehler beim Oeffnen zum Lesen!\\n\");\n",
    "} else {\n",
    "    /* Alles in Stücken von 256 Zeichen auslesen\n",
    "        und auf die Konsole ausgeben */\n",
    "    char buffer[BUFFERLENGTH];\n",
    "    \n",
    "    while(fgets(buffer, BUFFERLENGTH, datei)) {\n",
    "        printf(\"%s\", buffer);\n",
    "    }\n",
    "    \n",
    "    /* fclose() darf nur ausgeführt werden, wenn die Datei geöffnet werden konnte! */\n",
    "    fclose(datei); \n",
    "}"
   ]
  },
  {
   "cell_type": "code",
   "execution_count": null,
   "metadata": {},
   "outputs": [],
   "source": [
    "/* Schreiben einer Datei */\n",
    "#include \"stdio.h\"\n",
    "#include \"stdlib.h\"\n",
    "\n",
    "int main() {\n",
    "    FILE *datei;\n",
    "    /* Nun öffnen wir eine Datei in ihrem JupyterHub home Ordner. \n",
    "        Dort dürfen Sie auch Dateien schreiben.\n",
    "        Die folgenden zwei Zeilen erstellen den richtigen Pfad. */\n",
    "    char file[256];\n",
    "    strcat(strcpy(file, getenv(\"HOME\")), \"/meineErsteDatei.txt\");\n",
    "    \n",
    "    printf(\"Writing to: %s\\n\", file);\n",
    "    datei = fopen(file, \"w\");\n",
    "    if(datei == 0) {\n",
    "        printf(\"Fehler beim Oeffnen zum Schreiben!\\n\");\n",
    "    } else {   \n",
    "        char name[30];\n",
    "        printf(\"Geben Sie ihren Namen ein: \");\n",
    "        scanf(\"%s\", name);\n",
    "\n",
    "        /* Jetzt schreiben wir name in die Datei */\n",
    "        fprintf(datei, \"Ihr Name ist \\\"%s\\\"\", name);\n",
    "\n",
    "        fclose(datei);\n",
    "        \n",
    "        printf(\"Datei erfolgreich geschrieben!\\n\");\n",
    "    }\n",
    "    \n",
    "    return 0;\n",
    "}\n",
    "/* Sehen Sie nun in ihrem \"Home\" Ordner (Der erste Ordner beim Öffnen der Website) nach und öffnen die Datei! */"
   ]
  },
  {
   "cell_type": "markdown",
   "metadata": {
    "deletable": false,
    "editable": false,
    "run_control": {
     "frozen": true
    }
   },
   "source": [
    "### Text versus Binärdateien\n",
    "\n",
    "Es gibt zwei verschiedene Arten, Daten in einer Datei zu speichern. Als **Text** oder genau so, wie sie im Speicher stehen (**Binär**). Der Unterschied ist beim Speichern von Zahlen erkennbar:\n",
    "\n",
    "Speichern der Zahl `100000` als Zeichen ([ASCII](https://www.ascii-code.com/)) oder Binär:    \n",
    "**Anmerkung**: Das Zeichen `'1'` hat im ASCII Code den Wert `49'\n",
    "\n",
    "| Datentyp | Speichergröße | Repräsentation von `100000` im Speicher |\n",
    "| -------- | -------------------------- | ------------- |\n",
    "| Text     | 6 x `char` = 6 Byte | {`00110001`, `00110000`, `00110000`, `00110000`, `00110000`, `00110000`} |\n",
    "| Binär (`long`) | 1 x `long` = 4 Byte | `00000000000000011000011010100000` |\n",
    "\n",
    "Speichern der Zahl `1`:\n",
    "\n",
    "| Datentyp | Speichergröße | Repräsentation von `1` im Speicher |\n",
    "| -------- | -------------------------- | ------------- |\n",
    "| Text     | 1 x `char` = 1 Byte | `00110001` |\n",
    "| Binär (`long`) | 1 x `long` = 4 Byte | `000000000000000000000000000001` |\n",
    "\n",
    "In der **binären** Repräsentation ist es also egal, wie groß der tatsächliche Wert der Zahl ist, sie belegt immer nur so viel Speicher wie ihr Datentyp (`long` = 4 Byte).\n",
    "\n",
    "In einer **Text** Repräsentation wird 1 Byte für jedes Zeichen benötigt mit dem die Zahl dargestellt wird."
   ]
  },
  {
   "cell_type": "markdown",
   "metadata": {
    "deletable": false,
    "editable": false,
    "run_control": {
     "frozen": true
    }
   },
   "source": [
    "### Schreiben von Binärdateien\n",
    "\n",
    "Wenn Dateien auf diese Weise geschrieben werden, können sie auch nur sinnvoll wieder auf diese Weise gelesen werden. Textdateien können zwar Byte für Byte gelesen und umgewandelt werden, aber auch hier ist es sinnvoller sie als Textdateien zu lesen. Um binäre Dateien zu schreiben, werden folgende Funktionen verwendet:\n",
    "\n",
    "| Funktion | Rückgabewert | Beschreibung |\n",
    "| -------- | ------------ | ------------ |\n",
    "| `fread(b, g, n, F)` | Anzahl der gelesenen Elemente, bei Fehler weniger | Liest `n` Elemente der Größe `g` Byte aus `F` und speichert sie in `b` |\n",
    "| `fwrite(b, g, n, F)` | Anzahl der geschriebenen Elemente, bei Fehler weniger | Schreibt `n` Elemente der Größe `g` Byte von `b` nach `F` |\n",
    "\n",
    "Wie Sie in folgenden Beispielen sehen werden, ist das Schreiben und Lesen von Binärdateien deutlich komplexer, da wir genau wissen müssen, welche Datentypen in welcher Reihenfolge geschrieben wurden, um sie richtig zu lesen. Daher ist es üblicherweise einfacher Daten als Text zu schreiben."
   ]
  },
  {
   "cell_type": "code",
   "execution_count": null,
   "metadata": {},
   "outputs": [],
   "source": [
    "/* Schreiben einer Binärdatei */\n",
    "#include \"stdio.h\"\n",
    "#include \"stdlib.h\"\n",
    "\n",
    "int main() {\n",
    "    FILE *datei;\n",
    "    /* Nun öffnen wir eine Datei in ihrem JupyterHub home Ordner. \n",
    "        Dort dürfen Sie auch Dateien schreiben.\n",
    "        Die folgenden zwei Zeilen erstellen den richtigen Pfad. */\n",
    "    char file[256];\n",
    "    strcat(strcpy(file, getenv(\"HOME\")), \"/Fibonacci.bin\");\n",
    "    \n",
    "    printf(\"Schreiben auf: %s\\n\", file);\n",
    "    datei = fopen(file, \"w\");\n",
    "    if(datei == 0) {\n",
    "        printf(\"Fehler beim Oeffnen zum Schreiben!\\n\");\n",
    "    } else {   \n",
    "        /* Nun schreiben wir die ersten 10 Fibonacci Zahlen */\n",
    "        long oldTerm = 0;\n",
    "        long fibonacci = 1;\n",
    "        long i = 0;\n",
    "        for(i = 0; i < 10; ++i) {\n",
    "            long temp = fibonacci;\n",
    "            \n",
    "            /* Schreiben einer long Zahl.\n",
    "                Wir könnten auch ein Feld aus Fibonacci Zahlen erstellen,\n",
    "                und dann n auf die Anzahl der Elemente setzen. */\n",
    "            if(fwrite(&fibonacci, sizeof(long), 1, datei) < 1) {\n",
    "                fprintf(stderr, \"Fibonacci Zahl konnte nicht geschrieben werden!\\n\");\n",
    "            }\n",
    "            \n",
    "            fibonacci += oldTerm;\n",
    "            oldTerm = temp;\n",
    "        }\n",
    "\n",
    "        fclose(datei);\n",
    "        \n",
    "        printf(\"Datei erfolgreich geschrieben!\\n\");\n",
    "    }\n",
    "    \n",
    "    return 0;\n",
    "}"
   ]
  },
  {
   "cell_type": "code",
   "execution_count": null,
   "metadata": {},
   "outputs": [],
   "source": [
    "/* Die Datei Fibonacci.bin kann nun nur mittels fread wieder gelesen werden\n",
    "    ACHTUNG: Die Zelle über dieser muss zuerst ausgeführt werden,\n",
    "    damit Fibonacci.bin überhaupt existiert */\n",
    "#include \"stdio.h\"\n",
    "#include \"stdlib.h\"\n",
    "\n",
    "int main() {\n",
    "    FILE *datei;\n",
    "    /* Nun öffnen wir eine Datei in ihrem JupyterHub home Ordner. \n",
    "        Dort dürfen Sie auch Dateien schreiben.\n",
    "        Die folgenden zwei Zeilen erstellen den richtigen Pfad. */\n",
    "    char file[256];\n",
    "    strcat(strcpy(file, getenv(\"HOME\")), \"/Fibonacci.bin\");\n",
    "    \n",
    "    printf(\"Lesen von: %s\\n\", file);\n",
    "    datei = fopen(file, \"r\"); /* jetzt brauchen wir nur Lesezugriff */\n",
    "    if(datei == 0) {\n",
    "        printf(\"Fehler beim Oeffnen zum Schreiben!\\n\");\n",
    "    } else {   \n",
    "        /* Nun lesen wir alle Fibonacci Zahlen */\n",
    "        long fibonacci = 0;\n",
    "        \n",
    "        printf(\"Fibonacci Zahlen:\\n\");\n",
    "        while(fread(&fibonacci, sizeof(long), 1, datei) > 0) {\n",
    "            printf(\"%ld\\n\", fibonacci);\n",
    "        }\n",
    "\n",
    "        fclose(datei);\n",
    "        \n",
    "        printf(\"Datei erfolgreich gelesen!\\n\");\n",
    "    }\n",
    "    \n",
    "    return 0;\n",
    "}"
   ]
  },
  {
   "cell_type": "markdown",
   "metadata": {
    "deletable": false,
    "editable": false,
    "run_control": {
     "frozen": true
    }
   },
   "source": [
    "### Positionierung in einer Datei\n",
    "\n",
    "Im obigen Beispiel wurde die gesamte Datei \"Fibonacci.bin\" ausgegeben. Aber wir könnten auch erst alle Zahlen ab der dritten Zahl lesen. Dazu muss die Position in der Datei \"weitergeschoben\" werden. Dies ist mit folgenden Funktionen möglich:\n",
    "\n",
    "| Funktion | Rückgabewert | Beschreibung |\n",
    "| -------- | ------------ | ------------ |\n",
    "| `fseek(F, n, p)` | `0`, bei Fehler `-1` | Setzt die Position im Stream `F` auf `n` Bytes relativ zur Position `p` |\n",
    "| `ftell(F)` | Die Position als `long int`, bei Fehler `-1` | Gibt die aktuelle Position in `F` zurück |\n",
    "\n",
    "Die Position `p` in `fseek` kann einen von 3 Werten annehmen:\n",
    "\n",
    "| Name | Beschreibung |\n",
    "| ---- | ------------ |\n",
    "| `SEEK_SET` | Anfang der Datei |\n",
    "| `SEEK_CUR` | Derzeitige Position |\n",
    "| `SEEK_END` | Ender der Datei. Mit `fseek(F, -3, SEEK_END)` wird also auf das drittletzte Element geschoben |\n",
    "\n",
    "Im folgenden Beispiel sollen Zahlen erst nach der 5. Fibonacci Zahl ausgegeben werden:"
   ]
  },
  {
   "cell_type": "code",
   "execution_count": null,
   "metadata": {},
   "outputs": [],
   "source": [
    "/* Die Datei Fibonacci.bin kann nun nur mittels fread wieder gelesen werden\n",
    "    ACHTUNG: Die Zelle über dieser muss zuerst ausgeführt werden,\n",
    "    damit Fibonacci.bin überhaupt existiert */\n",
    "#include \"stdio.h\"\n",
    "#include \"stdlib.h\"\n",
    "\n",
    "int main() {\n",
    "    FILE *datei;\n",
    "    /* Nun öffnen wir eine Datei in ihrem JupyterHub home Ordner. \n",
    "        Dort dürfen Sie auch Dateien schreiben.\n",
    "        Die folgenden zwei Zeilen erstellen den richtigen Pfad. */\n",
    "    char file[256];\n",
    "    strcat(strcpy(file, getenv(\"HOME\")), \"/Fibonacci.bin\");\n",
    "    \n",
    "    printf(\"Lese von: %s\\n\", file);\n",
    "    datei = fopen(file, \"r\"); /* jetzt brauchen wir nur Lesezugriff */\n",
    "    if(datei == 0) {\n",
    "        printf(\"Fehler beim Oeffnen zum Schreiben!\\n\");\n",
    "    } else {   \n",
    "        /* Nun lesen wir alle Fibonacci Zahlen */\n",
    "        long fibonacci = 0;\n",
    "        \n",
    "        /* Mit fseek auf die 6. Zahl verschieben */\n",
    "        fseek(datei, 5 * sizeof(long), SEEK_SET);\n",
    "        \n",
    "        printf(\"Fibonacci Zahlen:\\n\");\n",
    "        while(fread(&fibonacci, sizeof(long), 1, datei) > 0) {\n",
    "            printf(\"%ld\\n\", fibonacci);\n",
    "        }\n",
    "\n",
    "        fclose(datei);\n",
    "        \n",
    "        printf(\"Datei erfolgreich gelesen!\\n\");\n",
    "    }\n",
    "    \n",
    "    return 0;\n",
    "}"
   ]
  },
  {
   "cell_type": "markdown",
   "metadata": {
    "deletable": false,
    "editable": false,
    "run_control": {
     "frozen": true
    }
   },
   "source": [
    "### Kopieren von Dateien\n",
    "\n",
    "Zum Kopieren von Dateien bietet sich die Behandlung als binäre Datei natürlich an, weil der genau Inhalt egal ist, solange er nur korrekt kopiert wird. Das heißt wir können Dateien einfach Byte für Byte kopieren:"
   ]
  },
  {
   "cell_type": "code",
   "execution_count": null,
   "metadata": {},
   "outputs": [],
   "source": [
    "/* Die Datei Fibonacci.bin wird nun nach Fibonacci2.bin kopiert */\n",
    "#include \"stdio.h\"\n",
    "#include \"stdlib.h\"\n",
    "\n",
    "#define MAX_PATH_LENGTH 256\n",
    "\n",
    "int copyFile(char *quelle, char *ziel) {\n",
    "    FILE *origin;\n",
    "    FILE *target;\n",
    "    \n",
    "    if((origin = fopen(quelle, \"r\"))) {\n",
    "        if((target = fopen(ziel, \"w\"))) {\n",
    "            char temp;\n",
    "            while(fread(&temp, 1, 1, origin)) {\n",
    "                if(fwrite(&temp, 1, 1, target) < 1) {\n",
    "                    fprintf(stderr, \"ERROR: Fehler beim Schreiben!\\n\");\n",
    "                    return -1;\n",
    "                }\n",
    "            }\n",
    "        } else {\n",
    "            fprintf(stderr, \"ERROR: Ziel konnte nicht geöffnet werden!\\n\");\n",
    "            return -1;\n",
    "        }\n",
    "    } else {\n",
    "        fprintf(stderr, \"ERROR: Quelle konnte nicht geöffnet werden!\\n\");\n",
    "        return -1;\n",
    "    }\n",
    "    \n",
    "    return 0;\n",
    "}\n",
    "\n",
    "int main() {\n",
    "    char quelle[MAX_PATH_LENGTH];\n",
    "    char ziel[MAX_PATH_LENGTH];\n",
    "    strcat(strcpy(quelle, getenv(\"HOME\")), \"/Fibonacci.bin\");\n",
    "    strcat(strcpy(ziel, getenv(\"HOME\")), \"/Fibonacci2.bin\");\n",
    "    \n",
    "    if(copyFile(quelle, ziel) == 0) {\n",
    "        printf(\"Datei erfolgreich kopiert!\");\n",
    "    } else {\n",
    "        fprintf(stderr, \"ERROR: Datei konnte nicht kopiert werden!\\n\");\n",
    "    }\n",
    "    \n",
    "    return 0;\n",
    "}"
   ]
  },
  {
   "cell_type": "code",
   "execution_count": null,
   "metadata": {},
   "outputs": [],
   "source": []
  }
 ],
 "metadata": {
  "kernelspec": {
   "display_name": "C",
   "language": "c",
   "name": "c"
  },
  "language_info": {
   "file_extension": ".c",
   "mimetype": "text/x-csrc",
   "name": "text/x-csrc"
  }
 },
 "nbformat": 4,
 "nbformat_minor": 2
}
