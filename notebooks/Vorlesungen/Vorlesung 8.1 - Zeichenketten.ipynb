{
 "cells": [
  {
   "cell_type": "markdown",
   "metadata": {
    "deletable": false,
    "editable": false,
    "run_control": {
     "frozen": true
    }
   },
   "source": [
    "# Vorlesung 8.1\n",
    "# Zeichenketten\n",
    "\n",
    "---\n",
    " **Hinweis:**\n",
    " Diese interaktiven Webseiten beschreiben parallel zu den Vorlesungsfolien das jeweilige Stoffgebiet. Zellen mit C Quelltext können mittels der Tastenkombination \\[Shift\\] + \\[Enter\\] kompiliert und ausgeführt werden. Es wird Ihnen empfohlen, Änderungen in diversen Zellen vorzunehmen um ein Gefühl für die Sprache C zu entwickeln.\n",
    " \n",
    "---\n",
    "\n",
    "## Zeichenketten in C\n",
    "\n",
    "In der Sprache C gibt es keinen eigenen Datentyp für Zeichenketten. Sie werden mit Feldern von Zeichen repräsentiert. Literale von Zeichenketten werden mit doppeltem Hochkomma definiert:\n",
    "```C\n",
    "\"Hallo, Welt!\"\n",
    "```\n",
    "Gespeichert werden Zeichenketten in Feldern des Typs `char`:\n",
    "```C\n",
    "char text[13] = \"Hallo, Welt!\";\n",
    "```\n",
    "Sie können auch mit `scanf` eingelesen und mit `printf` ausgegeben werden:"
   ]
  },
  {
   "cell_type": "code",
   "execution_count": null,
   "metadata": {},
   "outputs": [],
   "source": [
    "/* Ausgabe von Zeichenketten */\n",
    "/* Wir definieren eine lange Zeichenkette, damit der User beliebigen Text eingeben kann*/\n",
    "char text[100] = \"\"; /* Wie immer, sollte jede Variable initialisiert werden. Hier eine leere Zeichenkette */\n",
    "\n",
    "/* Text vom User eingeben lassen */\n",
    "printf(\"Bitte geben Sie einen Text ein: \");\n",
    "scanf(\"%s\", text);\n",
    "\n",
    "/* Nun geben wir den Inhalt von text aus */\n",
    "printf(\"%s\\n\", text);"
   ]
  },
  {
   "cell_type": "markdown",
   "metadata": {
    "deletable": false,
    "editable": false,
    "run_control": {
     "frozen": true
    }
   },
   "source": [
    "Im obigen Beispiel wird der Text korrekt ausgegeben. Aber woher weiß `printf`, wie lange der eingegebene Text war?\n",
    "\n",
    "Zeichenketten werden in C immer mit dem Wert `0` beendet. In der ASCII Tabelle entspricht das dem Zeichen `\\0`, dem sogenannten *Null Character*. Dies kann leicht überprüft werden, indem man von jedem Zeichen den Zahlenwert aus der ASCII Tabelle ausgibt:"
   ]
  },
  {
   "cell_type": "code",
   "execution_count": null,
   "metadata": {},
   "outputs": [],
   "source": [
    "/* Ausgabe aller Zeichen einer Zeichenkette */\n",
    "char text[20] = \"Hallo, Welt!\";\n",
    "\n",
    "printf(\"Text | ASCII Werte\\n\");\n",
    "{\n",
    "    long i = 0;\n",
    "    for(i = 0; i < 20; ++i) {\n",
    "        printf(\"%-7c%d\\n\", text[i], text[i]);\n",
    "    }\n",
    "}\n",
    "printf(\"printf: %s<--Ende der Zeichenkette\", text);"
   ]
  },
  {
   "cell_type": "markdown",
   "metadata": {
    "deletable": false,
    "editable": false,
    "run_control": {
     "frozen": true
    }
   },
   "source": [
    "Im obigen Beispiel sind einige Eigenschaften von Zeichenketten erkennbar:\n",
    "* Wie in anderen Feldern, werden die nicht initialisierten Werte auf `0` gesetzt.\n",
    "* `printf` beendet die Ausgabe mit dem ersten `\\0` Zeichen, das es findet.\n",
    "\n",
    "Dadurch, dass nach der eigentlichen Zeichenkette immer noch ein `\\0` geschrieben werden muss, wird eine extra Stelle benötigt. Wie bei anderen Feldern, kann die Länge automatisch vom Compiler ermittelt werden:"
   ]
  },
  {
   "cell_type": "code",
   "execution_count": null,
   "metadata": {},
   "outputs": [],
   "source": [
    "/* Initialisierung mit Zeichenketten */\n",
    "char text[] = \"Hallo\"; /* Hallo hat fünf Buchstaben */\n",
    "char text1[] = {'H', 'a', 'l', 'l', 'o', '\\0'}; /* Die übliche Schreibweise für Felder */\n",
    "\n",
    "/* Hallo\\0 benötigt aber 6 Zeichen */\n",
    "printf(\"%ld\\n\", sizeof(text));\n",
    "printf(\"%s\\n\", text1);"
   ]
  },
  {
   "cell_type": "code",
   "execution_count": null,
   "metadata": {},
   "outputs": [],
   "source": [
    "/* Nach der Initialisierung kann die Zeichenkette\n",
    "    nicht mehr verwendet werden um text zu setzen.\n",
    "    text ist ein Zeiger und kann nicht verändert werden! (Siehe Vorlesung 6.1)\n",
    "    Hier müsste jedes Zeichen einzeln gesetzt werden. */\n",
    "char text[6];\n",
    "text = \"Hallo\";\n",
    "printf(\"%s\\n\", text);"
   ]
  },
  {
   "cell_type": "markdown",
   "metadata": {
    "deletable": false,
    "editable": false,
    "run_control": {
     "frozen": true
    }
   },
   "source": [
    "## Zeiger auf Zeichenketten\n",
    "\n",
    "Wenn Felder mit Zeichenketten initialisiert werden, wird jedes Zeichen in das Feld kopiert und kann dort benutzt werden:\n",
    "\n",
    "<img src=\"images/stringinit.png\" width=400>\n",
    "\n",
    "**ACHTUNG**: Jede Zeichenkette ist ein Feld. Der Bezeichner des Feldes kann auch einem Zeiger zugewiesen werden, weil er ein konstanter Zeiger auf das Feld ist. Allerdings kann das zu Problemen führen, wenn der Zeiger nicht konstant ist (Bezeichner von Feldern sind immer konstante Zeiger). Das heißt, der Quelltext:\n",
    "```C\n",
    "char *ptr = \"Hallo\";\n",
    "```\n",
    "gibt zwar keine Fehlermeldung, sollte aber **auf jeden Fall vermieden** werden! Wenn `ptr` verändert wird, gibt es keine Möglichkeit mehr auf die Zeichenkette zuzugreifen, weil die Speicheradresse verloren ist. \n",
    "\n",
    "Außerdem liegt die konstante Zeichenkette `\"Hallo\"` in einem geschützten Speicherbereich, auf den nicht geschrieben werden darf. Wenn man nun versucht an diese Adresse zu schreiben:\n",
    "```\n",
    "ptr[0] = 'c';\n",
    "```\n",
    "beendet das Programm mit einem Speicherzugriffsfehler, engl. *Segmentation Fault* (siehe Vorlesung 6.1).\n",
    "\n",
    "**Richtig wäre**:\n",
    "```C\n",
    "char text[] = \"Hallo\";\n",
    "```\n",
    "\n",
    "Im Speicher sind Felder für Zeichenkette und Zeiger auf Zeichenketten sehr unterschiedlich:\n",
    "<img src=\"images/stringptr.png\" width=500>"
   ]
  },
  {
   "cell_type": "markdown",
   "metadata": {
    "deletable": false,
    "editable": false,
    "run_control": {
     "frozen": true
    }
   },
   "source": [
    "## Elementare Funktionen für Zeichenketten\n",
    "\n",
    "Wenn eine Zeichenkette nicht bei der Initialisierung gesetzt wird, muss jedes Zeichen einzeln gesetzt werden, was mühsam sein kann. Um die Arbeit mit Zeichenketten zu erleichtern, bietet die Standardbibliothek einige Funktionen, die im Header `string.h` deklariert sind:\n",
    "\n",
    "| Funktion | Beschreibung |\n",
    "| -------- | ------------ |\n",
    "| `strcat(s, t)` | hängt `t` an `s` an |\n",
    "| `strncat(s, t, n)` | hängt die ersten `n` Zeichen von `t` an `s` an |\n",
    "| `strcmp(s, t)` | vergleicht `s` und `t` und gibt zurück:<br>**0**: `s` und `t` sind gleich<br>**&lt;0**: das erste ungleiche Zeichen ist in `s` kleiner<br>**&gt;0**: das erste ungleiche Zeichen ist in `s` größer |\n",
    "| `strncmp(s, t, n)` | wie `strcmp(s, t)` aber nur für die ersten `n` Zeichen |\n",
    "| `strcpy(s, t)` | kopiert `t` nach `s` |\n",
    "| `strncpy(s, t, n)` | kopiert die ersten `n` zeichen von `t` nach `s` |\n",
    "| `strlen(s)` | gibt die Länge von `s` ohne Nullcharakter zurück |\n",
    "\n",
    "**Vorsicht**: `strcat` steht für *string concatenate*, also das Zusammenführen von Zeichenketten und nicht für eine Katze, die in `string.h` lebt:\n",
    "\n",
    "\n",
    "                                     ,\n",
    "              ,-.       _,---._ __  / \\\n",
    "             /  )    .-'       `./ /   \\\n",
    "            (  (   ,'            `/    /|\n",
    "             \\  `-\"             \\'\\   / |\n",
    "              `.              ,  \\ \\ /  |      ___\n",
    "               /`.          ,'-`----Y   |     /   \\\n",
    "              (            ;        |   '    |\\    |   <-- Ball of strings\n",
    "              |  ,-.    ,-' ASCII   |  /      \\|__/    \n",
    "              |  | (   |    Chars   | /         \\    ___\n",
    "              )  |  \\  `.___________|/           \\__/\n",
    "              `--'   `--'"
   ]
  },
  {
   "cell_type": "code",
   "execution_count": null,
   "metadata": {},
   "outputs": [],
   "source": [
    "/* Einige Funktionen aus string.h */\n",
    "#include <stdio.h>\n",
    "#include <string.h>\n",
    "\n",
    "int main() {\n",
    "    /* Zwei strings sind gegeben und werden in einen kopiert */\n",
    "    char vorname[] = \"Emmett\";\n",
    "    char nachname[] = \"Brown\";\n",
    "    char name[30];\n",
    "    \n",
    "    strcpy(name, vorname); /* vorname wird nach name kopiert */\n",
    "    strcat(name, \" \"); /* ein Leerzeichen an name anhängen */\n",
    "    strcat(name, nachname); /* nachname an name anhängen */\n",
    "    \n",
    "    /* Nun kann der gesamte Name als eine Zeichenkette ausgegeben werden */\n",
    "    printf(\"Zitat von %s:\\n\", name);\n",
    "\n",
    "    \n",
    "    /* Mittels strcmp kann er nun mit einem ganzen Namen verglichen werden */\n",
    "    if(strcmp(name, \"Arthur Dent\") == 0) {\n",
    "        printf(\"Gibt es denn Tee auf diesem Raumschiff?\");\n",
    "    } else if(strcmp(name, \"Emmett Brown\") == 0) {\n",
    "        printf(\"Wo wir hinfahren, brauchen wir keine Strassen!\");\n",
    "    } else {\n",
    "        printf(\"Der Name ist nicht bekannt.\");\n",
    "    }\n",
    "        \n",
    "    return 0;\n",
    "}"
   ]
  },
  {
   "cell_type": "code",
   "execution_count": null,
   "metadata": {},
   "outputs": [],
   "source": [
    "/* Teil einer Zeichenkette extrahieren */\n",
    "#include <stdio.h>\n",
    "#include <string.h>\n",
    "\n",
    "int main() {\n",
    "    /* Die Funktionsdeklaration von printf als Text */\n",
    "    char text[] = \"int printf(const char*, ...)\";\n",
    "    char parameter[100]; /* willkuerliche Laenge, könnte auch kuerzer/laenger sein */\n",
    "    long length = 0;\n",
    "    \n",
    "    /* Wir wollen die Funktionsparameter extrahieren.\n",
    "        Ein Zeiger auf den Anfang der Klammer,\n",
    "        einen an das Ende. (siehe weiter Unten zum Suchen in Zeichenketten) */\n",
    "    char *klammer1 = strchr(text, '(');\n",
    "    char *klammer2 = strchr(text, ')');\n",
    "    \n",
    "    /* Wir wollen die Klammer allerdings nicht dabei.\n",
    "        Zeiger um ein Element verschieben */\n",
    "    klammer1 = klammer1 + 1; /* zeigt jetzt auf c */\n",
    "    klammer2 = klammer2 - 1; /* zeigt jetzt auf . */\n",
    "    \n",
    "    /* Wie viele Zeichen brauchen wir.\n",
    "        Die Anzahl der Elemente zwischen ( und )*/\n",
    "    length = klammer2 - klammer1 + 1;\n",
    "    \n",
    "    /* Jetzt den Teil zwischen den Klammern nach parameter kopieren */\n",
    "    strncpy(parameter, klammer1, length);\n",
    "    /* Weil \\0 noch nicht dabei war, muss es von Hand gesetzt werden */\n",
    "    parameter[length] = '\\0';\n",
    "    \n",
    "    printf(\"Die Parameter sind:\\n\");\n",
    "    printf(\"%s\\n\", parameter);\n",
    "        \n",
    "    return 0;\n",
    "}"
   ]
  },
  {
   "cell_type": "markdown",
   "metadata": {
    "deletable": false,
    "editable": false,
    "run_control": {
     "frozen": true
    }
   },
   "source": [
    "## Formatierte Zeichenketten\n",
    "\n",
    "`printf` steht für *printf formatted*, weil das erste Argument ein *format string* ist, also eine Zeichenkette, die das Format der Ausgabe bestimmt. Diese Format-Zeichenkette kann auch benutzt werden, um eine andere Zeichenkette zu schreiben. Hierfür gibt es die Funktion `sprintf` in `stdio.h`, wo auch `printf` definiert ist.\n",
    "\n",
    "Allerdings kann `sprintf` sehr lange Zeichenketten schreiben und da im Vorhinein nicht klar ist, wie lange die tatsächliche Zeichenkette wird, sollte immer nur `snprintf` verwendet werden, welches maximal n Zeichen schreibt."
   ]
  },
  {
   "cell_type": "code",
   "execution_count": null,
   "metadata": {},
   "outputs": [],
   "source": [
    "/* In eine Zeichenkette schreiben */\n",
    "#define LENGTH 20\n",
    "\n",
    "char text[LENGTH];\n",
    "long answer = 42;\n",
    "\n",
    "/* text ist das Feld in das geschrieben werden soll,\n",
    "    LENGTH ist die maximale Anzahl an Zeichen(inklusive \\0 am Ende)\n",
    "    Es können alle Platzhalter und Variablen wie in printf verwendet werden. */\n",
    "snprintf(text, LENGTH, \"i = %ld\\n\", answer);\n",
    "printf(\"%s\\n\", text);"
   ]
  },
  {
   "cell_type": "markdown",
   "metadata": {
    "deletable": false,
    "editable": false,
    "run_control": {
     "frozen": true
    }
   },
   "source": [
    "Analog zu `sprintf` gibt es auch eine Funktion zum Einlesen von Zeichenketten: `sscanf`. Nachdem ihr eine gültige Zeichenkette übergeben werden muss, wird die Länge nicht zusätzlich benötigt weil das Ende der Zeichenkette sowieso mit einem `'\\0'` markiert sein muss.\n",
    "\n",
    "Genau wie `scanf` gibt sie die Anzahl der konvertierten Elemente zurück:"
   ]
  },
  {
   "cell_type": "code",
   "execution_count": null,
   "metadata": {},
   "outputs": [],
   "source": [
    "long answer = 0;\n",
    "char text[20] = \"42\"; /* Eine Zeichenkette mit den Zeichen: '4', '2', '\\0' */\n",
    "\n",
    "long anzahl = sscanf(text, \"%ld\", &answer);\n",
    "\n",
    "/* Jetzt kann die Eingabe überprüft werden */\n",
    "if(anzahl != 1) {\n",
    "    printf(\"Fehler!\\n\");\n",
    "} else {\n",
    "    long i = 0;\n",
    "    for(i = 0; i < answer; ++i) {\n",
    "        printf(\"-\");\n",
    "    }\n",
    "}"
   ]
  },
  {
   "cell_type": "markdown",
   "metadata": {
    "deletable": false,
    "editable": false,
    "run_control": {
     "frozen": true
    }
   },
   "source": [
    "## Suchen in Zeichenketten\n",
    "\n",
    "Der Header `string.h` ist ebenfalls sehr nützlich für das Durchsuchen von Zeichenketten. Es werden mehrere Funktionen bereitgestellt, die das Suchen nach Zeichen oder Zeichenketten in Zeichenketten erleichtern:\n",
    "\n",
    "| Funktion | Beschreibung |\n",
    "| -------- | ------------ |\n",
    "| `strchr(s, c)` | sucht das Zeichen `c` in der Zeichenkette `s` |\n",
    "| `strrchr(s, c)` | wie `strchr(s, c)` aber rückwärts |\n",
    "| `strstr(s, t)` | sucht die Zeichenkette `t` in der Zeichenkette `s` |\n",
    "| `strrstr(s, t)` | wie `strstr(s, t)` aber rückwärts |\n",
    "\n",
    "### Rückgabewert\n",
    "Die obigen Funktionen geben alle einen Zeiger auf das erste gefundene Zeichen zurück. Wenn nach einer Zeichenkette gesucht wurde, ist der Rückgabewert ein Zeiger auf das erste Zeichen der gefundenen Zeichenkette.\n",
    "\n",
    "Wenn die Suche erfolglos war, wird ein `NULL` Zeiger zurückgegeben, also ein Zeiger auf die Speicheradresse `0`."
   ]
  },
  {
   "cell_type": "code",
   "execution_count": null,
   "metadata": {},
   "outputs": [],
   "source": [
    "/* Jedes Leerzeichen in einen Zeilenumbruch ändern */\n",
    "#include <stdio.h>\n",
    "#include <string.h>\n",
    "\n",
    "int main() {\n",
    "    char text[] = \"Das Pferd frisst keinen Gurkensalat.\";\n",
    "    \n",
    "    /* Zeiger auf ein Zeichen in text. */\n",
    "    char *pointer = &text[0]; /* Anfangs auf das erste Element */\n",
    "    \n",
    "    /* Zeichenkette bevor einer Änderung */\n",
    "    printf(\"%s\\n\", text);\n",
    "    \n",
    "    /* Suche nach einem Leerzeichen in text.\n",
    "        Wenn die Suche 0 zurück gibt, wurde keines mehr gefunden */\n",
    "    while((pointer = strchr(pointer, ' ')) != 0) {\n",
    "        /* Das Leerzeichen durch \\n ersetzen */\n",
    "        *pointer = '\\n';\n",
    "    }\n",
    "    \n",
    "    printf(\"%s\\n\", text);\n",
    "    \n",
    "    return 0;\n",
    "}"
   ]
  },
  {
   "cell_type": "markdown",
   "metadata": {
    "deletable": false,
    "editable": false,
    "run_control": {
     "frozen": true
    }
   },
   "source": [
    "## Iterieren mit Zeigern\n",
    "\n",
    "Zeiger auf Zeichenketten können auch benutzt werden, um einmal über jedes Element zu gehen. Zum Beispiel mittels einer `for` Schleife:"
   ]
  },
  {
   "cell_type": "code",
   "execution_count": null,
   "metadata": {},
   "outputs": [],
   "source": [
    "/* Verschlüsselung nach Julius Caesar */\n",
    "#include <stdio.h>\n",
    "#include <string.h>\n",
    "\n",
    "int main() {\n",
    "    char text[] = \"Die spinnen, die Roemer.\";\n",
    "    char *pointer = 0; /* Variablen immer initialisieren */\n",
    "    const char key = 7;\n",
    "    \n",
    "    printf(\"Original: %s\\n\", text);\n",
    "    \n",
    "    /* Über das ganze Feld iterieren, bis zum Null Character */\n",
    "    for(pointer = &text[0]; *pointer != '\\0'; ++pointer) {\n",
    "        *pointer = (*pointer - 'A' + key) % 58 + 'A';\n",
    "    }\n",
    "    \n",
    "    printf(\"Verschlüsselt: %s\\n\", text);\n",
    "    \n",
    "    /* Wieder über das Feld iterieren zum entschlüsseln */\n",
    "    for(pointer = &text[0]; *pointer != '\\0'; ++pointer) {\n",
    "        *pointer = (*pointer - 'A' - key) % 58 + 'A'; \n",
    "    }\n",
    "    \n",
    "    printf(\"Entschlüsselt: %s\\n\", text);\n",
    "    \n",
    "    return 0;\n",
    "}"
   ]
  },
  {
   "cell_type": "code",
   "execution_count": null,
   "metadata": {},
   "outputs": [],
   "source": []
  }
 ],
 "metadata": {
  "kernelspec": {
   "display_name": "C",
   "language": "c",
   "name": "c"
  },
  "language_info": {
   "file_extension": ".c",
   "mimetype": "text/x-csrc",
   "name": "text/x-csrc"
  }
 },
 "nbformat": 4,
 "nbformat_minor": 2
}
