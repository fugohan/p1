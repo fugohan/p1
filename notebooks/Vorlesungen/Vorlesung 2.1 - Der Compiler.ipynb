{
 "cells": [
  {
   "cell_type": "markdown",
   "metadata": {
    "deletable": false,
    "editable": false,
    "run_control": {
     "frozen": true
    }
   },
   "source": [
    " # Vorlesung 2.1\n",
    " # Der Compiler\n",
    "\n",
    "---\n",
    " **Hinweis:**\n",
    " Diese interaktiven Webseiten beschreiben parallel zu den Vorlesungsfolien das jeweilige Stoffgebiet. Zellen mit C Quelltext können mittels der Tastenkombination \\[Shift\\] + \\[Enter\\] kompiliert und ausgeführt werden. Es wird Ihnen empfohlen, Änderungen in diversen Zellen vorzunehmen um ein Gefühl für die Sprache C zu entwickeln.\n",
    " \n",
    "---\n",
    " \n",
    " ## Der Compiler - Das Übersetzen von Programmen\n",
    " \n",
    " Computer können nur sogenannte Maschinensprache ausführen. Das heißt ein Computer kann nur eine Reihe von fest vorgelegten Befehlen ausführen. Da diese Befehle sehr hardwarenah sind und für Menschen eher unintuitiv, nutzt man Programmiersprachen, die dann in Maschinensprache übersetzt werden können. Der Compiler ist das Programm, dass den Text einer Programmiersprache in Maschinensprache übersetzt.\n",
    " \n",
    " #### Überzeugen Sie sich selbst, was Sie besser ohne Erklärung verstehen:\n",
    " Eine Funktion in der Sprache C:\n",
    " ```C\n",
    " int square(int num) {\n",
    "    return num * num;\n",
    " }\n",
    " ```\n",
    " \n",
    " Die exakt gleiche Funktion in der Assembler Sprache (eine Ebene über Maschinensprache):\n",
    " ```\n",
    " square:\n",
    "        push    rbp\n",
    "        mov     rbp, rsp\n",
    "        mov     DWORD PTR [rbp-4], edi\n",
    "        mov     eax, DWORD PTR [rbp-4]\n",
    "        imul    eax, eax\n",
    "        pop     rbp\n",
    "        ret\n",
    " ```\n",
    " Und noch einmal die exakt gleiche Funktion in Maschinensprache, die unser Computer versteht:\n",
    " \n",
    " ```\n",
    " \\x55\\x48\\x89\\xE5\\x89\\x7D\\xFC\\x8B\\x45\\xFC\\x0F\\xAF\\xC0\\x5D\\xC3\n",
    " ```\n",
    " \n",
    " #### Hätten Sie ein intuitives Verständnis was die Funktion in der Assembler Sprache/Maschinencode macht, ohne sie zuvor in der Sprache C gesehen zu haben?\n",
    " Eben. Sie verstehen nun warum wir Programmiersprachen brauchen.\n",
    " \n",
    " ### Schritte beim Übersetzen\n",
    " \n",
    " Der Compiler führt mehrere Schritte aus um einen Quelltext in ein ausführbares Programm zu übersetzen.\n",
    " \n",
    " <img src=\"./images/compiler_flow.png\" width=\"400\" />\n",
    " \n",
    " ### Präprozessor\n",
    " \n",
    " Führt einfache Textoperationen durch, wie das Kopieren von Quelltext in mehrern Dateien in eine einzige. Zudem entfernt er Kommentare, die der Author des Quelltextes zum besseren Verständnis eingefügt hat, da diese nicht ausgeführt werden.\n",
    " \n",
    " ### Kontrolle\n",
    " \n",
    " Nun wird geprüft ob der Text den korrekten Befehlen in der Sprache C entspricht oder ob der Author des Quelltextes Fehler gemacht hat. Falls es Fehler gibt, wird hier abgebrochen!\n",
    " \n",
    " ### Compiler\n",
    " \n",
    " Nun übersetzt der Compiler den Quelltext in der Sprache C in die Assembler Sprache (siehe oben).  \n",
    " Optimierung: Der Compiler kann gewissen Befehle zusammenfassen oder deren Reihenfolge ändern wenn er denkt, dass dadurch eine bessere Leistung erzielt werden kann.\n",
    " \n",
    " ### Assemblierer\n",
    " \n",
    " Nun wird der vom Compiler generierte Assembler Quelltext in Maschinensprache übersetzt und eine ausführbare Objektdatei generiert."
   ]
  },
  {
   "cell_type": "markdown",
   "metadata": {
    "deletable": false,
    "editable": false,
    "run_control": {
     "frozen": true
    }
   },
   "source": [
    "### Der Linker\n",
    "\n",
    "Damit die vom Compiler generierte Objektdatei nun vom Betriebssystem verwendet werden kann, braucht es spezifische Bibliotheken die das Betriebssystem bereitstellt (sogenannte Standardbibliotheken). Diese beschreiben zum Beispiel Schnittstellen, über die ein Benutzer mit dem Programm interagieren kann.\n",
    "\n",
    "Diese Bibliotheken müssen noch mit unserer Objektdatei verknüpft werden. Das macht der Linker, in dem er zwei Objektdateien (unsere und die des Betriebssystems) miteinander verbindet und eine einzige ausführbare Datei, das Executable, erstellt. Das ist der letzte Schritt der Übersetzung und wir haben nun ein ausführbares Programm.\n",
    "\n",
    "<img src=\"./images/linker.png\" width=\"400\" />"
   ]
  }
 ],
 "metadata": {
  "kernelspec": {
   "display_name": "C",
   "language": "c",
   "name": "c"
  },
  "language_info": {
   "file_extension": ".c",
   "mimetype": "text/x-csrc",
   "name": "text/x-csrc"
  }
 },
 "nbformat": 4,
 "nbformat_minor": 4
}
