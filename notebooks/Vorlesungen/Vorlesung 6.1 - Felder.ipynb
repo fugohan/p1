{
 "cells": [
  {
   "cell_type": "markdown",
   "metadata": {
    "deletable": false,
    "editable": false,
    "run_control": {
     "frozen": true
    }
   },
   "source": [
    "# Vorlesung 6.1\n",
    "# Felder\n",
    "\n",
    "---\n",
    " **Hinweis:**\n",
    " Diese interaktiven Webseiten beschreiben parallel zu den Vorlesungsfolien das jeweilige Stoffgebiet. Zellen mit C Quelltext können mittels der Tastenkombination \\[Shift\\] + \\[Enter\\] kompiliert und ausgeführt werden. Es wird Ihnen empfohlen, Änderungen in diversen Zellen vorzunehmen um ein Gefühl für die Sprache C zu entwickeln.\n",
    " \n",
    "---\n",
    "\n",
    "## Felder in C\n",
    "\n",
    "Felder (*arrays*) sind Verbundtypen, die mehrere Variablen des selben Typs speichern. Sie sind nützlich, wenn eine Folge von Werten gespeichert werden soll."
   ]
  },
  {
   "cell_type": "code",
   "execution_count": null,
   "metadata": {},
   "outputs": [],
   "source": [
    "/* Fibonacci Reihe ohne Feld\n",
    "    Um einen weiteren Wert zu speichern, muss immer eine neue Variable definiert werden. \n",
    "    Das ist umständlich. */\n",
    "long fib0 = 0;\n",
    "long fib1 = 1;\n",
    "long fib2;\n",
    "long fib3;\n",
    "long fib4;\n",
    "\n",
    "fib2 = fib0 + fib1;\n",
    "fib3 = fib1 + fib2;\n",
    "fib4 = fib2 + fib3;\n",
    "\n",
    "printf(\"Fibonacci: %ld, %ld, %ld, %ld, %ld\\n\", fib0, fib1, fib2, fib3, fib4);"
   ]
  },
  {
   "cell_type": "markdown",
   "metadata": {},
   "source": [
    "### Definition von Feldern\n",
    "\n",
    "Felder werden wie folgt definiert:\n",
    "```C\n",
    "Typ Feldname[Länge];\n",
    "```\n",
    "\n",
    "**Typ**    \n",
    "Der Typ der Variablen, die in dem Feld gespeichert werden sollen.\n",
    "\n",
    "**Feldname**    \n",
    "Ein eindeutiger Name für das Feld. Es dürfen die gleichen Zeichen verwendet werden, wie für Variablen.\n",
    "\n",
    "**Länge**    \n",
    "Die Anzahl der Elemente, die in dem Feld gespeichert werden sollen. Hier muss eine Ganzzahl stehen, die zur Zeit des Kompilierens feststeht. Also dürfen hier keine Variablen verwendet werden. Allerdings können Präprozessorvariablen verwendet werden. Daher kann die Länge eines Feldes auch nicht während der Laufzeit verändert werden.\n",
    "\n",
    "### Zugriff auf Elemente eines Feldes\n",
    "\n",
    "Elemente eines Feldes werden immer direkt hintereinander im Speicher angelegt. Der Speicher eines `long` Feldes mit 10 Elementen sieht wie folgt aus:\n",
    "\n",
    "<img src=\"images/feld.png\" width=500>\n",
    "\n",
    "Die Zahlen unter den `long` Elementen geben den Index der Elemente an. Das erste Element hat in C immer den Index 0, das zweite den Index 1, etc. Um auf ein Element zuzugreifen, wird der Zugriffsoperator `[]` verwendet:"
   ]
  },
  {
   "cell_type": "code",
   "execution_count": null,
   "metadata": {},
   "outputs": [],
   "source": [
    "/* Feld mit 10 long Werten */\n",
    "long feld[10];\n",
    "\n",
    "/* Das 3. Element wird gesetzt */\n",
    "feld[2] = 42;\n",
    "\n",
    "/* Auf die gleiche Art kann eine Element auch wieder gelesen werden */\n",
    "printf(\"%ld\\n\", feld[2]);"
   ]
  },
  {
   "cell_type": "markdown",
   "metadata": {},
   "source": [
    "Die Fibonacci Reihe von vorher kann leichter mit einem Feld gespeichert werden:"
   ]
  },
  {
   "cell_type": "code",
   "execution_count": null,
   "metadata": {},
   "outputs": [],
   "source": [
    "/* Fibonacci Reihe mit einem Feld */\n",
    "#define LAENGE 15\n",
    "\n",
    "long i;\n",
    "\n",
    "/* Hier wird ein Feld mit 15 Elementen definiert */\n",
    "long fibonacci[LAENGE];\n",
    "fibonacci[0] = 0;\n",
    "fibonacci[1] = 1;\n",
    "\n",
    "/* Über ein Feld kann leicht iteriert werden */\n",
    "for(i = 2; i < LAENGE; ++i) {\n",
    "    fibonacci[i] = fibonacci[i-2] + fibonacci[i-1];\n",
    "}\n",
    "\n",
    "printf(\"Fibonacci: \");\n",
    "for(i = 0; i < LAENGE; ++i) {\n",
    "    printf(\"%ld, \", fibonacci[i]);\n",
    "}"
   ]
  },
  {
   "cell_type": "markdown",
   "metadata": {},
   "source": [
    "### Initialisierung von Feldern\n",
    "\n",
    "Felder können wie Variablen bei ihrer Definition initialisiert werden.\n",
    "Dies passiert mittels einer Liste der zu setzenden Werte:\n",
    "* Die Werte werden dafür durch Beistriche getrennt in geschwungenen Klammern (`{ }`) geschrieben. \n",
    "* Wenn die Liste weniger Elemente enthält als das Feld, werden alle Elemente danach auf 0 gesetzt.\n",
    "* Wenn ein Feld initialisiert wird, muss die Anzahl der Elemente nicht angegeben werden. Dann hat das Feld automatisch so viele Elemente, wie die Liste mit der es initialisiert wurde."
   ]
  },
  {
   "cell_type": "code",
   "execution_count": null,
   "metadata": {},
   "outputs": [],
   "source": [
    "/* Initialisierung von Feldern */\n",
    "\n",
    "/* Im obigen Beispiel könnten so zwei Zeilen gespart werden: */\n",
    "{\n",
    "    long feld[10] = {0, 1};\n",
    "\n",
    "    printf(\"%ld, %ld\\n\", feld[0], feld[1]);\n",
    "}\n",
    "/* Um alle Elemente einer Liste auf 0 zu setzen, muss das Erste explizit\n",
    "    auf 0 gesetzt werden. Alle anderen werden automatisch auf 0 gesetzt.\n",
    "    ACHTUNG: {1} setzt NICHT alle Werte auf 1! */\n",
    "{\n",
    "    long feld1[10] = {0};\n",
    "    printf(\"%ld\\n\", feld1[5]);\n",
    "}\n",
    "/* Wenn ein Feld initialisiert wird, kann die Längenangabe wegfallen */\n",
    "{\n",
    "    double feld2[] = {3.1415, 2.7, 8.1};\n",
    "    printf(\"%f\\n\", feld2[2]);\n",
    "}"
   ]
  },
  {
   "cell_type": "markdown",
   "metadata": {},
   "source": [
    "### Feldlänge berechnen\n",
    "\n",
    "Wenn die Feldlänge nicht mehr bekannt ist, kann die Größe des Feldes mittels `sizeof()` errechnet werden. `sizeof()` gibt die Speichergröße des Feldes zurück. Die Anzahl der Elemente kann mit der Größe eines Elementes berechnet werden:"
   ]
  },
  {
   "cell_type": "code",
   "execution_count": null,
   "metadata": {},
   "outputs": [],
   "source": [
    "long primzahlen[] = {2, 3, 5, 7, 11, 13, 17, 19};\n",
    "\n",
    "/* Wir wissen leider nicht mehr wie lange das Feld ist */\n",
    "long element = sizeof(long);\n",
    "long feld = sizeof(primzahlen);\n",
    "\n",
    "long laenge = feld / element;\n",
    "\n",
    "/* Hier am Server ist ein long 8 Bytes groß.\n",
    "    Wie groß ist es auf Ihrem Rechner? */\n",
    "printf(\"Speichergröße eines Elementes: %ld\\n\", element);\n",
    "printf(\"Speichergröße des Feldes: %ld\\n\", feld);\n",
    "printf(\"Anzahl der Elemente: %ld\\n\", laenge);"
   ]
  },
  {
   "cell_type": "markdown",
   "metadata": {
    "deletable": false,
    "editable": false,
    "run_control": {
     "frozen": true
    }
   },
   "source": [
    "### Zugriff auf Elemente über die Feldgröße hinaus\n",
    "\n",
    "Wenn versucht wird das 11. Element eines Feldes mit 10 Werten zuzugreifen, stürzt das Programm meistens ab. Denn durch diesen Zugriff wird auf den Speicher außerhalb des Feldes zugegriffen, was undefiniertes Verhalten hervorruft. Hierbei gibt es zwei Möglichkeiten:\n",
    "* Der Speicher ist bereits vom Programm verwendet    \n",
    "Es kann auf den Speicher zugegriffen werden. Dies führt aber zu ungewollten Ergebnissen, da unkontrolliert auf irgendeine Variable zugegriffen wird. **VORSICHT**: In diesem Fall ist der Fehler schwer zu finden, weil weder der Compiler, noch der Prozessor einen Fehler meldet, aber der Wert falsch ist!\n",
    "* Der Speicher ist noch nicht vom Programm verwendet    \n",
    "Der Prozessor bemerkt einen unberechtigten Datenzugriff und wirft einen Fehler, welcher das Programm zum Absturz bringt. Dadurch verhindert der Prozessor, dass ein Programm auf Daten zugreift, die nicht dem Programm zugeordnet sind."
   ]
  },
  {
   "cell_type": "code",
   "execution_count": null,
   "metadata": {},
   "outputs": [],
   "source": [
    "/* Programmabsturz durch unberechtigten Datenzugriff */\n",
    "/* Feld mit 10 long Werten */\n",
    "long feld[10];\n",
    "\n",
    "feld[2] = 42;\n",
    "\n",
    "/* Der folgende Zugriff bringt das Programm zum Absturz.\n",
    "    Das Programm beendet mit dem Fehlerwert -11.\n",
    "    Ein negativer Wert bedeutet, dass das Programm durch ein Signal beendet wurde.\n",
    "    In diesem Fall das Signal 11: Segmentation Fault, also ein Speicherzugriffsfehler */\n",
    "printf(\"%ld\\n\", feld[12345678]);"
   ]
  },
  {
   "cell_type": "markdown",
   "metadata": {
    "deletable": false,
    "editable": false,
    "run_control": {
     "frozen": true
    }
   },
   "source": [
    "## Multidimensionale Felder\n",
    "\n",
    "Bis jetzt wurden nur eindimensionale Felder verwendet. Felder können auch mehrdimensional definiert werden, um zum Beispiel eine Matrix darzustellen. Diese können auch initialisiert werden:"
   ]
  },
  {
   "cell_type": "code",
   "execution_count": null,
   "metadata": {},
   "outputs": [],
   "source": [
    "/* Initialisieren einer Einheitsmatrix */\n",
    "long A[3][3] = {{1, 0, 0}, {0, 1, 0}, {0, 0, 1}};\n",
    "\n",
    "long i, j;\n",
    "for(i = 0; i < 3; ++i) {\n",
    "    for(j = 0; j < 3; ++j) {\n",
    "        printf(\"%ld \", A[i][j]);\n",
    "    }\n",
    "    printf(\"\\n\");\n",
    "}"
   ]
  },
  {
   "cell_type": "markdown",
   "metadata": {},
   "source": [
    "Intern werden multidimensionale Felder allerdings immer noch als eindimensionale gespeichert:\n",
    "\n",
    "<img src=\"images/multidim_feld.png\" width=500>\n"
   ]
  },
  {
   "cell_type": "code",
   "execution_count": null,
   "metadata": {},
   "outputs": [],
   "source": [
    "/* Multidimensionales Feld mit linearen Zugriff.\n",
    "    Dies ist meistens umständlicher als ein multidimensionaler Zugriff */\n",
    "long A[3][3] = {{1, 0, 0}, {0, 1, 0}, {0, 0, 1}};\n",
    "\n",
    "long i;\n",
    "for(i = 0; i < 3 * 3; ++i) {\n",
    "    printf(\"%ld \", A[0][i]);\n",
    "    if(!((i+1)%3)) {\n",
    "        printf(\"\\n\");\n",
    "    }\n",
    "}"
   ]
  },
  {
   "cell_type": "markdown",
   "metadata": {},
   "source": [
    "### Felder als Übergabeparameter\n",
    "\n",
    "Felder können auch an Funktionen übergeben werden. Allerdings wird eine Referenz auf das Feld übergeben und nicht, wie bei Variablen, das Feld kopiert (siehe Vorlesung 5.1). Felder werden *by reference* übergeben weil sie große Datenmengen enthalten könnten und kopieren viel Zeit und Speicher in anspruch nehmen könnte.\n",
    "\n",
    "Durch diese Art der Übergabe kann das ursprüngliche Feld also in der Funktion verändert werden!"
   ]
  },
  {
   "cell_type": "code",
   "execution_count": null,
   "metadata": {},
   "outputs": [],
   "source": [
    "#include <stdio.h>\n",
    "\n",
    "/* Hier wird das ursprüngliche Feld verändert */\n",
    "void setToZero(long feld[], long laenge) {    \n",
    "    long i;\n",
    "    for(i = 0; i < laenge; ++i) {\n",
    "        feld[i] = 0;\n",
    "    }\n",
    "}\n",
    "\n",
    "int main() {\n",
    "    long feld[] = {1, 2, 3, 4 ,5};\n",
    "    \n",
    "    setToZero(feld, sizeof(feld) / sizeof(long));\n",
    "    \n",
    "    /* Alle Elemente sind jetzt 0 */\n",
    "    printf(\"%ld\\n\", feld[3]);\n",
    "    \n",
    "    return 0;\n",
    "}"
   ]
  },
  {
   "cell_type": "markdown",
   "metadata": {
    "deletable": false,
    "editable": false,
    "run_control": {
     "frozen": true
    }
   },
   "source": [
    "**ACHTUNG**: `sizeof` kann in Funktionen nicht benutzt werden um die Größe eines Feldes zu errechnen, da `sizeof` schon während des Kompilierens ausgewertet wird und im übersetzten Programm nur noch eine fixe Zahl ist. In einer Funktion könnten aber Felder verschiedener Größen übergeben werden, daher liefert `sizeof` die Größe des Zeigers auf das Feld. Hier am Server warnt der Compiler vor diesem potentiellen Fehler. Wenn die Länge des Feldes in der Funktion benötigt wird, muss sie als zusätzlicher Parameter übergeben werden, wie im obigen Beispiel."
   ]
  },
  {
   "cell_type": "code",
   "execution_count": null,
   "metadata": {},
   "outputs": [],
   "source": [
    "#include <stdio.h>\n",
    "\n",
    "/* Hier wird das ursprüngliche Feld verändert */\n",
    "void setToZero(long feld[]) {\n",
    "    /* sizeof(feld) gibt jetzt die Größe des Zeigers auf feld\n",
    "        und nicht mehr die Speichergröße des Feldes.\n",
    "        Hier sollte die Länge als Parameter übergeben werden,\n",
    "        wie im obigen Beispiel. */\n",
    "    long laenge = sizeof(feld) / sizeof(long);\n",
    "    \n",
    "    long i;\n",
    "    for(i = 0; i < laenge; ++i) {\n",
    "        feld[i] = 0;\n",
    "    }\n",
    "}\n",
    "\n",
    "int main() {\n",
    "    long feld[] = {1, 2, 3, 4 ,5};\n",
    "    \n",
    "    setToZero(feld);\n",
    "    \n",
    "    /* Durch den falschen sizeof Wert, wurde das Feld nicht 0 gesetzt */\n",
    "    printf(\"%ld\\n\", feld[3]);\n",
    "    \n",
    "    return 0;\n",
    "}"
   ]
  },
  {
   "cell_type": "code",
   "execution_count": null,
   "metadata": {},
   "outputs": [],
   "source": []
  }
 ],
 "metadata": {
  "kernelspec": {
   "display_name": "C",
   "language": "c",
   "name": "c"
  },
  "language_info": {
   "file_extension": ".c",
   "mimetype": "text/x-csrc",
   "name": "text/x-csrc"
  }
 },
 "nbformat": 4,
 "nbformat_minor": 2
}
