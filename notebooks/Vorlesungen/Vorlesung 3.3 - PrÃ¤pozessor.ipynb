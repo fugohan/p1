{
 "cells": [
  {
   "cell_type": "markdown",
   "metadata": {
    "deletable": false,
    "editable": false,
    "run_control": {
     "frozen": true
    }
   },
   "source": [
    " # Vorlesung 3.3\n",
    " # Präprozessor\n",
    "\n",
    "---\n",
    " **Hinweis:**\n",
    " Diese interaktiven Webseiten beschreiben parallel zu den Vorlesungsfolien das jeweilige Stoffgebiet. Zellen mit C Quelltext können mittels der Tastenkombination \\[Shift\\] + \\[Enter\\] kompiliert und ausgeführt werden. Es wird Ihnen empfohlen, Änderungen in diversen Zellen vorzunehmen um ein Gefühl für die Sprache C zu entwickeln.\n",
    " \n",
    "---\n",
    " \n",
    " ## Der Präprozessor\n",
    " \n",
    "Der Präprozessor ist ein **Textersetzer**, der vor dem eigentlichen Übersetzungsvorgang automatisch aufgerufen wird. Er führt **Präprozessoranweisungen** aus und entfernt alle Kommentare. **WICHTIG**: Der Präprozessor ersetzt wirklich nur Text, er hat keine Ahnung von der Sprache C!  \n",
    "Der Text, der vom Präprozessor generiert wird kann mit GCC mit dem Parameter `-E` ausgegeben werden:  \n",
    "`gcc -E main.cpp`\n",
    "\n",
    "<img src=\"./images/compiler_flow.png\" width=\"400\" />\n",
    "\n",
    "## Präprozessoranweisungen\n",
    "\n",
    "Präprozessoranweisungen beginnen IMMER mit einer Raute(#). Im folgenden sind die wichtigsten Anweisungen erläutert.\n",
    "\n",
    "### #include\n",
    "\n",
    "Zu den wichtigsten Präprozessoranweisungen zählt die #include Anweisung. Mit ihr können Header-Dateien, wie \"stdio.h\" eingebunden werden."
   ]
  },
  {
   "cell_type": "code",
   "execution_count": null,
   "metadata": {},
   "outputs": [],
   "source": [
    "/* <stdio.h> bedeutet der Compiler sucht in den Standardverzeichnissen des Betriebssystems nach der Datei \n",
    "    \"stdio.h\" bedeutet es wird zuerst der Ordner der jetzigen Datei durchsucht und dann erst die Standardpfade */\n",
    "#include <stdio.h>"
   ]
  },
  {
   "cell_type": "markdown",
   "metadata": {
    "deletable": false,
    "editable": false,
    "run_control": {
     "frozen": true
    }
   },
   "source": [
    "### #define\n",
    "\n",
    "Mit #define können Präprozessorkonstanten definiert werden. Jedes mal wenn dieser Text im Programm gefunden wird, wird er durch den definierten Wert ersetzt. Präprozessorkonstanten werden üblicherweise groß geschrieben um Verwechslungen mit Laufzeitvariabeln zu vermeiden."
   ]
  },
  {
   "cell_type": "code",
   "execution_count": null,
   "metadata": {},
   "outputs": [],
   "source": [
    "/* Der Text KONSTANTE wird ab jetzt IMMER durch \"Text\" ersetzt */\n",
    "#define KONSTANTE \"Text\"\n",
    "printf(KONSTANTE);\n",
    "printf(\"\\n\");\n",
    "/* Fast immer: nur in String Literalen nicht */\n",
    "printf(\"KONSTANTE\");"
   ]
  },
  {
   "cell_type": "code",
   "execution_count": null,
   "metadata": {},
   "outputs": [],
   "source": [
    "/* ACHTUNG: Der Präprozessor prüft beim Ersetzen nichts, weil er die Bedeutung des Textes nicht kennt! */\n",
    "#define ZAHL 5; /* hier haben wir fälschlicherweise ein Semikolon gesetzt */\n",
    "\n",
    "long a = ZAHL + 2; /* Der Compiler meldet den Fehler aber erst hier */\n",
    "printf(\"%ld\\n\", a);"
   ]
  },
  {
   "cell_type": "markdown",
   "metadata": {
    "deletable": false,
    "editable": false,
    "run_control": {
     "frozen": true
    }
   },
   "source": [
    "### #if, #else und #endif\n",
    "\n",
    "Text zwischen diesen Anweisungen kann vom Präprozessor entfernt werden, je nachdem die Bedingung zutrifft oder nicht."
   ]
  },
  {
   "cell_type": "code",
   "execution_count": null,
   "metadata": {},
   "outputs": [],
   "source": [
    "#define VERSION 1\n",
    "\n",
    "#if VERSION > 1\n",
    "/* Hier würde der Compiler einen Fehler melden, aber der Text wurde vom Präprozessor entfernt.\n",
    "    Wenn der Wert von VERSION geändert wird, meldet der Compiler den Fehler */\n",
    "printf(\"Version größer als 1!\\n\" \n",
    "#else\n",
    "printf(\"Version 1\\n\");\n",
    "#endif"
   ]
  },
  {
   "cell_type": "markdown",
   "metadata": {
    "deletable": false,
    "editable": false,
    "run_control": {
     "frozen": true
    }
   },
   "source": [
    "### Vordefinierte Präprozessorkonstanten\n",
    "\n",
    "**\\_\\_FILE\\_\\_** Der Name der Quelltextdatei  \n",
    "**\\_\\_LINE\\_\\_** Die derzeitige Zeile der Quelltextdatei"
   ]
  },
  {
   "cell_type": "code",
   "execution_count": null,
   "metadata": {},
   "outputs": [],
   "source": [
    "/* Hier am Server wird das Programm aus einer Zufällig benannten Quelltextdatei generiert.\n",
    "    Der Dateiname kann so angezeigt werden */\n",
    "printf(\"file %s, line %d\\n\", __FILE__, __LINE__);\n",
    "printf(\"file %s, line %d\\n\", __FILE__, __LINE__);"
   ]
  },
  {
   "cell_type": "markdown",
   "metadata": {
    "deletable": false,
    "editable": false,
    "run_control": {
     "frozen": true
    }
   },
   "source": [
    "### Präprozessormakros\n",
    "\n",
    "Mit dem Präprozessor können auch Dinge, die Funktionen ähneln abgebildet werden: Makros. Hierbei wird aber wieder nur TEXT ersetzt und keine weitere Logik angewandt, daher sind Makros nur mit großer Vorsicht zu verwenden."
   ]
  },
  {
   "cell_type": "code",
   "execution_count": null,
   "metadata": {},
   "outputs": [],
   "source": [
    "/* Hier wird der übergebene TEXT korrekt eingesetzt */\n",
    "#define ERRLOG(TEXT) printf(\"Fehler: \" TEXT \"\\n\")\n",
    "/* ERRLOG (TEXT) wäre falsch, die Klammer MUSS direkt auf den Namen folgen */\n",
    "\n",
    "/* Das Makro kann nun für eine einheitliche Fehlerausgabe verwendet werden */\n",
    "ERRLOG(\"Der Flux Kompensator hat versagt!\");\n",
    "ERRLOG(\"Keine Zeitreise möglich!\");"
   ]
  },
  {
   "cell_type": "code",
   "execution_count": null,
   "metadata": {},
   "outputs": [],
   "source": [
    "/* Makros können auch für mathematische Ausdrücke verwendet werden\n",
    "    ACHTUNG: Das ist nicht empfohlen, da viele Probleme entstehen, die schwer zu finden sind.\n",
    "        Für mathematische Ausdrücke ist es üblicherweise(praktisch immer) besser Funktionen zu verwenden */\n",
    "#define PROD(a, b) a * b\n",
    "long a = PROD(3 + 5, 7); /* 8 * 7 = 56, ABER es wird nur Text ersetzt! --> 3 + 5 * 7 = 38 */\n",
    "printf(\"a: %ld\\n\", a);\n",
    "\n",
    "{\n",
    "    /* Richtig wäre daher das folgende, mit zusätzlichen Klammern */\n",
    "    #define PROD1(a, b) ((a) * (b))\n",
    "    long b = PROD1(3 + 5, 7);\n",
    "    printf(\"b: %ld\\n\", b);\n",
    "}"
   ]
  },
  {
   "cell_type": "markdown",
   "metadata": {
    "deletable": false,
    "editable": false,
    "run_control": {
     "frozen": true
    }
   },
   "source": [
    "### #ifdef, #ifndef\n",
    "\n",
    "#ifdef steht für *if defined* und #ifndef für *if not defined*. Diese Anweisungen werden verwendet um zu überprüfen ob eine Präprozessorkonstante definiert wurde oder nicht.\n",
    "\n",
    "#ifndef wird häufig verwendet um Header Dateien vor dem mehrmaligen interpretieren zu schützen. Falls eine Header Datei mehrmals eingebunden wird, ist der Quelltext doppelt und der Compiler wirft Fehler wegen doppelter definitionen. Daher werden Header immer mit einem #ifndef umgeben.\n",
    "\n",
    "Der Name der Präprozessorkonstante ist üblicherweise der Name der Datei: my_header.h --> MY_HEADER_H\n",
    "\n",
    "```c\n",
    "#ifndef MY_HEADER_H /* MY_HEADER_H ist Anfangs nicht definiert. Bei einer zweiten Einbindung schon. */\n",
    "#define MY_HEADER_H /* Beim ersten Mal wird jetzt die Konstante gesetzt */\n",
    "/* Beliebiger Quelltext der Header Datei */\n",
    "#endif\n",
    "```"
   ]
  },
  {
   "cell_type": "code",
   "execution_count": null,
   "metadata": {},
   "outputs": [],
   "source": [
    "/* Mit ifdef kann auch der selbe Quelltext Plattformabhängig kompiliert werden.\n",
    "    Auf windows ist die Konstante WIN32 gesetzt. Auf Linux Systemen __linux__ */\n",
    "#ifdef __linux__\n",
    "printf(\"Linux, yay!\\n\");\n",
    "#endif\n",
    "#ifdef WIN32\n",
    "/* Hier könnten Windows spezifische Befehle stehen, die auf Linux nicht kompilierbar sind */\n",
    "printf(\"Auf Windows.\\n\");\n",
    "#endif"
   ]
  },
  {
   "cell_type": "code",
   "execution_count": null,
   "metadata": {},
   "outputs": [],
   "source": []
  }
 ],
 "metadata": {
  "kernelspec": {
   "display_name": "C",
   "language": "c",
   "name": "c"
  },
  "language_info": {
   "file_extension": ".c",
   "mimetype": "text/x-csrc",
   "name": "text/x-csrc"
  }
 },
 "nbformat": 4,
 "nbformat_minor": 4
}
