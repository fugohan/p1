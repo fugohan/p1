{
 "cells": [
  {
   "cell_type": "markdown",
   "metadata": {
    "deletable": false,
    "editable": false,
    "run_control": {
     "frozen": true
    }
   },
   "source": [
    "# Vorlesung 9.2\n",
    "# Bitfelder und Aufzählungen\n",
    "\n",
    "---\n",
    " **Hinweis:**\n",
    " Diese interaktiven Webseiten beschreiben parallel zu den Vorlesungsfolien das jeweilige Stoffgebiet. Zellen mit C Quelltext können mittels der Tastenkombination \\[Shift\\] + \\[Enter\\] kompiliert und ausgeführt werden. Es wird Ihnen empfohlen, Änderungen in diversen Zellen vorzunehmen um ein Gefühl für die Sprache C zu entwickeln.\n",
    " \n",
    "---\n",
    "\n",
    "# Bitfelder\n",
    "\n",
    "Der kleinste Datentyp ist `char` und benötigt 8 Bit Speicherplatz. Mit Bitfeldern können auch kleinere Objekte gespeichert werden. Die Definition ist ähnlich wie bei Strukturen:"
   ]
  },
  {
   "cell_type": "code",
   "execution_count": null,
   "metadata": {},
   "outputs": [],
   "source": [
    "#include <stdio.h>\n",
    "\n",
    "/* Definition eines Bitfeldes mit insgesamt 8 Bit, also 1 Byte.\n",
    "    Das Bitfeld ist damit nur 1 Byte groß */\n",
    "typedef struct Bitfeld_s {\n",
    "    unsigned char a : 3; /* a belegt drei Bit im Speicher */\n",
    "    unsigned char b : 2; /* b nur 2 Bit */\n",
    "    unsigned char c : 3; /* c wieder 3 Bit */\n",
    "} Bitfeld_t;\n",
    "\n",
    "int main() {\n",
    "    Bitfeld_t bf;\n",
    "    /* Speichergröße von Bitfeld_t */\n",
    "    printf(\"Speichergroesse: %ld Byte\\n\", sizeof(Bitfeld_t));\n",
    "    \n",
    "    /* Die Variablen können nun gesetzt werden, wie in einem struct. */\n",
    "    bf.a = 0;\n",
    "    bf.b = 0;\n",
    "    bf.c = 0;\n",
    "    \n",
    "    /* Allerdings ist ihr Speicherplatz auf die angegebene Anzahl der Bit beschränkt.\n",
    "        Wenn noch mehr addiert wird, beginnen sie wieder bei 0 */\n",
    "    {\n",
    "        long i = 0;\n",
    "        printf(\"a  b  c\\n\");\n",
    "        for(i = 0; i < 10; ++i) {\n",
    "            printf(\"%d  %d  %d\\n\", bf.a, bf.b, bf.c);\n",
    "            ++bf.a;\n",
    "            ++bf.b;\n",
    "            ++bf.c;\n",
    "        }\n",
    "    }\n",
    "    \n",
    "    return 0;\n",
    "}"
   ]
  },
  {
   "cell_type": "markdown",
   "metadata": {
    "deletable": false,
    "editable": false,
    "run_control": {
     "frozen": true
    }
   },
   "source": [
    "## Datentypen in Bitfeldern\n",
    "\n",
    "In Bitfeldern können nur Ganzzahlen als Datentypen verwendet werden. Die Größe der gesamten Struktur ist ein vielfaches dieses Datentyps. Die genaue Speicheraufteilung ist aber nicht genau festgelegt und kann auf verschiedenen Betriebssystemen variieren. \n",
    "\n",
    "**Achtung**: Der Server, der im Hintergrund dieses Notebook ausführt, unterstützt auch `char` (1 Byte) als minimal Größe eines Bitfeldes. Das wird nicht von jedem Compiler unterstützt."
   ]
  },
  {
   "cell_type": "code",
   "execution_count": null,
   "metadata": {},
   "outputs": [],
   "source": [
    "#include <stdio.h>\n",
    "\n",
    "/* Definition eines Bitfeldes mit insgesamt 8 Bit, also 1 Byte.\n",
    "    Das Bitfeld ist aber nun 4 Byte groß weil unsigned int als Datentyp gewählt wurde */\n",
    "typedef struct Bitfeld_s {\n",
    "    unsigned int a : 3; /* a belegt drei Bit im Speicher */\n",
    "    unsigned int b : 2; /* b nur 2 Bit */\n",
    "    unsigned int c : 3; /* c wieder 3 Bit */\n",
    "} Bitfeld_t;\n",
    "\n",
    "int main() {\n",
    "    /* Speichergröße von Bitfeld_t */\n",
    "    printf(\"Speichergroesse: %ld Byte\\n\", sizeof(Bitfeld_t));\n",
    "    \n",
    "    return 0;\n",
    "}"
   ]
  },
  {
   "cell_type": "markdown",
   "metadata": {
    "deletable": false,
    "editable": false,
    "run_control": {
     "frozen": true
    }
   },
   "source": [
    "## Verwendung von Bitfeldern\n",
    "\n",
    "### Kleine Datenmengen\n",
    "\n",
    "Bitfelder werden oft verwendet um kleine Datenmengen effizient und leserlich zu speichern. Ohne Bitfelder wäre das nur sehr umständlich möglich. Das folgende Beispiel soll dies verdeutlichen:"
   ]
  },
  {
   "cell_type": "code",
   "execution_count": null,
   "metadata": {},
   "outputs": [],
   "source": [
    "/* Windrichtung in Städten */\n",
    "#include \"stdio.h\"\n",
    "\n",
    "#define NORDEN 0\n",
    "#define OSTEN 1\n",
    "#define SUEDEN 2\n",
    "#define WESTEN 3\n",
    "\n",
    "/* Wir brauchen jetzt nur 2 Bit pro Stadt,\n",
    "    weil es nur 4 Möglichkeiten gibt */\n",
    "typedef struct Cities_s {\n",
    "    char wien : 2;\n",
    "    char graz : 2;\n",
    "    char linz : 2;\n",
    "    char salzburg : 2;\n",
    "    char innsbruck : 2;\n",
    "} Cities_t;\n",
    "\n",
    "int main() {\n",
    "    Cities_t wind = {0}; /* Variablen immer initialisieren */\n",
    "    \n",
    "    /* Die Speichergröße sind jetzt 2 Byte,\n",
    "        weil 5 * 2 Bit = 10 Bit benötigen */\n",
    "    printf(\"Speichergroesse: %ld Byte\\n\", sizeof(Cities_t));\n",
    "    \n",
    "    wind.wien = NORDEN;\n",
    "    wind.salzburg = OSTEN;\n",
    "    \n",
    "    printf(\"Windrichtung in Salzburg: %d\\n\", wind.salzburg);\n",
    "    printf(\"Windrichtung in Innsbruck: %d\\n\", wind.innsbruck);\n",
    "    \n",
    "    return 0;\n",
    "}"
   ]
  },
  {
   "cell_type": "markdown",
   "metadata": {
    "deletable": false,
    "editable": false,
    "run_control": {
     "frozen": true
    }
   },
   "source": [
    "### Erstellung einer eigenen Gleitkommazahl\n",
    "\n",
    "Bitfelder können auch verwendet werden um eine Gleitkommazahl darzustellen. Ein `float` ist üblicherweise wie folgt aufgebaut:\n",
    "\n",
    "<img src=\"images/float_bits.png\" width=600>\n",
    "\n",
    "Der Wert `x` der Gleitkommazahl wird dann folgendermaßen berechnet:\n",
    "\n",
    "\\begin{equation}\n",
    "x = (-1)^{Vorzeichen} \\quad \\left(1 + \\frac{Mantisse}{2^{23}}\\right) \\quad 2 ^ {Exponent-127}\n",
    "\\end{equation}"
   ]
  },
  {
   "cell_type": "code",
   "execution_count": null,
   "metadata": {},
   "outputs": [],
   "source": [
    "/* Knovertierung von float zu seinen Bestandteilen */\n",
    "#include \"stdio.h\"\n",
    "#include \"math.h\"\n",
    "\n",
    "typedef struct FloatingPoint_s {\n",
    "    unsigned int mant : 23; /* Mantisse */\n",
    "    unsigned int exp : 8; /* Exponent */\n",
    "    unsigned int sign : 1; /* Vorzeichen */\n",
    "} FloatingPoint_t;\n",
    "\n",
    "int main() {\n",
    "    FloatingPoint_t myFloat = {0};\n",
    "\n",
    "    /* FloatingPoint_t ist 4 Byte groß,\n",
    "        genau wie float */\n",
    "    printf(\"FloatingPoint_t: %ld Byte\\n\", sizeof(FloatingPoint_t));\n",
    "    printf(\"float:           %ld Byte\\n\", sizeof(float));\n",
    "    \n",
    "    {\n",
    "        float pi = 3.141593;\n",
    "\n",
    "        /* float kann zu FloatingPoint_t konvertiert werden */\n",
    "        /* Zeiger aus dem float machen */\n",
    "        float *pointer = &pi;\n",
    "        /* Zu FloatingPoint_t Zeiger konvertieren */\n",
    "        FloatingPoint_t* fPointer = (FloatingPoint_t*)pointer;\n",
    "        /* Derefernzieren zu FloatingPoint_t,\n",
    "            myFloat enthält nun genau die gleiche Serie von 0 und 1 wie pi */\n",
    "        myFloat = *fPointer;\n",
    "    \n",
    "        printf(\"Gleitpunktzahl pi: %.7f\\n\", pi);\n",
    "    \n",
    "        /* Nun können die einzelnen Werte als Ganzzahlen ausgegeben werden */\n",
    "        printf(\"\\nDezimal:\\n\");\n",
    "        printf(\"Mantisse:   %d\\n\", myFloat.mant);\n",
    "        printf(\"Exponent:   %d\\n\", myFloat.exp);\n",
    "        printf(\"Vorzeichen: %d\\n\", myFloat.sign);        \n",
    "    }\n",
    "    /* Berechnung des float Wertes */\n",
    "    {\n",
    "        float wert = pow(-1, myFloat.sign) * (1 + (float)myFloat.mant / (float)(1<<23)) * pow(2., myFloat.exp - 127);\n",
    "        printf(\"Gleitpunktzahl Wert: %.7f\\n\", wert);\n",
    "    }\n",
    "    \n",
    "    return 0;\n",
    "}"
   ]
  },
  {
   "cell_type": "markdown",
   "metadata": {
    "deletable": false,
    "editable": false,
    "run_control": {
     "frozen": true
    }
   },
   "source": [
    "## Anonyme Bitfelder\n",
    "\n",
    "Bitfelder müssen keinen Namen haben, sondern können auch nur verwendet werden um einen ungenutzten \"Zwischenraum\" zu schaffen:"
   ]
  },
  {
   "cell_type": "code",
   "execution_count": null,
   "metadata": {},
   "outputs": [],
   "source": [
    "#include \"stdio.h\"\n",
    "\n",
    "typedef struct Bitfeld_s {\n",
    "    char a : 6;\n",
    "    char : 5; /* 5 Bit sind dazwischen leer, daher werden 3 Byte benötigt */\n",
    "    char b : 6;\n",
    "} Bitfeld_t;\n",
    "\n",
    "int main() {\n",
    "    printf(\"Speichergroesse: %ld Byte\\n\", sizeof(Bitfeld_t));\n",
    "    \n",
    "    return 0;\n",
    "}"
   ]
  },
  {
   "cell_type": "markdown",
   "metadata": {
    "deletable": false,
    "editable": false,
    "run_control": {
     "frozen": true
    }
   },
   "source": [
    "Anonyme Bitfelder mit der Länge `0` werden benutzt um das nächste Bitfeld erst in das nächste Maschinenwort zu schreiben. Das heißt, wenn `unsigned int` verwendet wurde, werden so viele Bit hinzugefügt, bis ein vielfaches von 4 Byte verbraucht wurde."
   ]
  },
  {
   "cell_type": "code",
   "execution_count": null,
   "metadata": {},
   "outputs": [],
   "source": [
    "#include \"stdio.h\"\n",
    "\n",
    "/* Struktur ohne anonymen Bitfeld */\n",
    "typedef struct Ohne_s { \n",
    "    unsigned int x : 5; \n",
    "    unsigned int y : 8; \n",
    "} Ohne_t;\n",
    "  \n",
    "/* Struktur mit anonymen Bitfeld der Länge 0.\n",
    "    int benötigt 4 Byte, also hat diese Struktur nun 8 Byte */\n",
    "typedef struct Mit_s { \n",
    "    unsigned int x : 5;\n",
    "    unsigned int : 0; /* y kann nun erst nach 4 Byte beginnen */\n",
    "    unsigned int y : 8; \n",
    "} Mit_t;\n",
    "\n",
    "int main() {\n",
    "    printf(\"Speichergroesse ohne: %ld Byte\\n\", sizeof(Ohne_t));\n",
    "    printf(\"Speichergroesse mit:  %ld Byte\\n\", sizeof(Mit_t));\n",
    "    \n",
    "    return 0;\n",
    "}"
   ]
  },
  {
   "cell_type": "markdown",
   "metadata": {
    "deletable": false,
    "editable": false,
    "run_control": {
     "frozen": true
    }
   },
   "source": [
    "## Aufzählungen (*enumerations*)\n",
    "\n",
    "Aufzählungen werden verwendet um mehrere ganzzahlige konstante Werte zu einem Typ zusammenzufassen. Die Definition sollte wie bei `struct` gleich mit einem `typedef` versehen werden damit dass Schlüsselwort `enum` nicht davor geschrieben werden muss.\n",
    "\n",
    "So kann zum Beispiel einfach ein Wahrheitswert erstellt werden:"
   ]
  },
  {
   "cell_type": "code",
   "execution_count": null,
   "metadata": {},
   "outputs": [],
   "source": [
    "#include \"stdio.h\"\n",
    "\n",
    "typedef enum Boolean_e {\n",
    "    FALSE = 0,\n",
    "    TRUE = 1\n",
    "} Boolean_t;\n",
    "\n",
    "int main() {\n",
    "    Boolean_t wahrheitswert = TRUE;\n",
    "    \n",
    "    /* Jetzt kann wahrheitswert direkt verwendet werden */\n",
    "    if(wahrheitswert) {\n",
    "        printf(\"Es ist wahr!\\n\");\n",
    "    }\n",
    "    \n",
    "    printf(\"%d\\n\", wahrheitswert);\n",
    "    \n",
    "    return 0;\n",
    "}"
   ]
  },
  {
   "cell_type": "markdown",
   "metadata": {
    "deletable": false,
    "editable": false,
    "run_control": {
     "frozen": true
    }
   },
   "source": [
    "**ACHTUNG**: Die Werte von `FALSE` und `TRUE` müssen hier nicht explizit gesetzt werden, obwohl das auf jeden Fall empfohlen ist um die Leserlichkeit des Programmes zu erhöhen. Alternativ könnte in der `if` Bedingung auch expliziter sein, also `if(wahrheitswert == TRUE)`."
   ]
  },
  {
   "cell_type": "code",
   "execution_count": null,
   "metadata": {},
   "outputs": [],
   "source": [
    "#include \"stdio.h\"\n",
    "\n",
    "/* Diese Schreibweise sollte wenn möglich vermieden werden!! */\n",
    "typedef enum Boolean_e {\n",
    "    FALSE,\n",
    "    TRUE\n",
    "} Boolean_t;\n",
    "\n",
    "int main() {\n",
    "    Boolean_t wahrheitswert = TRUE;\n",
    "    \n",
    "    /* Funktioniert zwar auch, macht es aber schwerer für einen Programmierer zu verstehen */\n",
    "    if(wahrheitswert) {\n",
    "        printf(\"Es ist wahr!\\n\");\n",
    "    }\n",
    "    \n",
    "    printf(\"%d\\n\", wahrheitswert);\n",
    "    \n",
    "    return 0;\n",
    "}"
   ]
  },
  {
   "cell_type": "markdown",
   "metadata": {
    "deletable": false,
    "editable": false,
    "run_control": {
     "frozen": true
    }
   },
   "source": [
    "### Beispiel für Aufzählungen\n",
    "\n",
    "Aufzählungen könnten verwendet werden um das obige Beispiel der Windrichtungen leserlicher zu gestalten:"
   ]
  },
  {
   "cell_type": "code",
   "execution_count": null,
   "metadata": {},
   "outputs": [],
   "source": [
    "/* Windrichtung in Städten */\n",
    "#include \"stdio.h\"\n",
    "\n",
    "typedef enum Richtungen_e {\n",
    "    NORDEN = 0,\n",
    "    OSTEN = 1,\n",
    "    SUEDEN = 2,\n",
    "    WESTEN = 3\n",
    "} Richtungen_t;\n",
    "\n",
    "/* Eine switch Anweisung ist wie gemacht um\n",
    "    eine Aufzählung zu überprüfen */\n",
    "void printRichtung(Richtungen_t dir) {\n",
    "    switch(dir) {\n",
    "        case NORDEN: printf(\"Norden\");\n",
    "                     break;\n",
    "        case OSTEN:  printf(\"Osten\");\n",
    "                     break;\n",
    "        case SUEDEN: printf(\"Sueden\");\n",
    "                     break;\n",
    "        case WESTEN: printf(\"Westen\");\n",
    "                     break;\n",
    "        default: printf(\"ERROR: Richtung %d nicht bekannt!\\n\", dir);\n",
    "    }\n",
    "}\n",
    "\n",
    "/* Wir brauchen nur 2 Bit pro Stadt,\n",
    "    weil es nur 4 Möglichkeiten gibt */\n",
    "typedef struct Cities_s {\n",
    "    char wien : 2;\n",
    "    char graz : 2;\n",
    "    char linz : 2;\n",
    "    char salzburg : 2;\n",
    "    char innsbruck : 2;\n",
    "} Cities_t;\n",
    "\n",
    "int main() {\n",
    "    Cities_t wind = {0}; /* Gesamte Struktur mit 0 initialisieren */\n",
    "    \n",
    "    wind.wien = NORDEN;\n",
    "    wind.salzburg = OSTEN;\n",
    "    \n",
    "    /* Die Ausgabe einer Aufzählung liefert den zugewiesenen Wert */\n",
    "    printf(\"Windrichtung in Salzburg: %d, also \", wind.salzburg);\n",
    "    /* Mit einer Helferfunktion kann die tatsächliche Richtung ausgegeben werden */\n",
    "    printRichtung(wind.salzburg);\n",
    "    printf(\"\\n\");\n",
    "    \n",
    "    return 0;\n",
    "}"
   ]
  },
  {
   "cell_type": "code",
   "execution_count": null,
   "metadata": {},
   "outputs": [],
   "source": []
  }
 ],
 "metadata": {
  "kernelspec": {
   "display_name": "C",
   "language": "c",
   "name": "c"
  },
  "language_info": {
   "file_extension": ".c",
   "mimetype": "text/x-csrc",
   "name": "text/x-csrc"
  }
 },
 "nbformat": 4,
 "nbformat_minor": 2
}
