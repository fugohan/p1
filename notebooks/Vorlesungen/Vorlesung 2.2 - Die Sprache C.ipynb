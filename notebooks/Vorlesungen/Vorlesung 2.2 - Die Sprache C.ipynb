{
 "cells": [
  {
   "cell_type": "markdown",
   "metadata": {
    "deletable": false,
    "editable": false,
    "run_control": {
     "frozen": true
    }
   },
   "source": [
    " # Vorlesung 2.2\n",
    " # Die Sprache C\n",
    "\n",
    "---\n",
    " **Hinweis:**\n",
    " Diese interaktiven Webseiten beschreiben parallel zu den Vorlesungsfolien das jeweilige Stoffgebiet. Zellen mit C Quelltext können mittels der Tastenkombination \\[Shift\\] + \\[Enter\\] kompiliert und ausgeführt werden. Es wird Ihnen empfohlen, Änderungen in diversen Zellen vorzunehmen um ein Gefühl für die Sprache C zu entwickeln.\n",
    " \n",
    "---\n",
    "\n",
    "## Was ist C?\n",
    "\n",
    "C ist eine 1972 entwickelte Programmiersprache, die eine Weiterentwicklung von B darstellt (Programmierer sind nicht immer sehr kreativ). Sie wurde in den Jahren 1973 und 1974 weiterentwickelt und wurde verwendet um den Kern des Betriebssystemes Unix neu zu schreiben. Aus Unix entstand später Linux, eines der einflussreichsten Betriebssyteme der Welt. Der Linux Kern ist bis heute ausschließlich in C programmiert. C konnte sich vor allem durch seine Einfachheit, umfangreichen Möglichkeiten und Modularität (das heißt Programme können leicht ausgetauscht werden) durchsetzen.\n",
    "\n",
    "## Die Sprache C\n",
    "\n",
    "### Das einfachste Programm\n",
    "\n",
    "Das einfachste Programm macht: nichts. Das heißt es wird vom Betriebssystem ausgeführt und beendet sofort wieder ohne (wirklich) etwas getan zu haben. In C sieht dieses Programm so aus:"
   ]
  },
  {
   "cell_type": "code",
   "execution_count": null,
   "metadata": {},
   "outputs": [],
   "source": [
    "/* Wenn sie in diese Zelle klicken und [Shift] + [Enter] drücken, wird das Programm\n",
    "    übersetzt und ausgeführt und es passiert: nichts. */\n",
    "int main(){\n",
    "    return 0;\n",
    "}"
   ]
  },
  {
   "cell_type": "markdown",
   "metadata": {
    "deletable": false,
    "editable": false,
    "run_control": {
     "frozen": true
    }
   },
   "source": [
    "#### `/* */`\n",
    "Diese Zeichen bewirken, dass Text zwischen ihnen als Kommentar interpretiert wird, auch über mehrere Zeilen.\n",
    "Der Präprozessor entfernt sie vor dem eigentlichen Kompilieren.\n",
    "\n",
    "#### `int main()`\n",
    "Das Hauptprogramm ist in der Funktion `int main()` abgebildet. Code der in dieser Funktion steht wird ausgeführt.\n",
    "#### `{   }`\n",
    "Die geschwungenen Klammern bedeuten, dass der Code in ihnen der **Funktionskörper** der Funktion ist. Dieser wird ausgeführt wird, wenn die Funktion ausgeführt wird.\n",
    "#### `return 0;`\n",
    "Dies ist der einzige Befehl oder Ausdruck in diesem C Programm. Er ist notwendig, da das Betriebssystem beim Beenden eines Programmes einen Zahlenwert als Rückgabe(return) erwartet. Wenn dieser Wert 0 ist, gab es keine Probleme und das Programm konnte erfolgreich beenden. Alle anderen Werte bedeuten, dass es ein Problem gab und das Programm beendet werden musste. Jeder Zahlenwert hat hierbei eine Bedeutung, die in den [Error Codes](https://mariadb.com/kb/en/operating-system-error-codes/) erklärt ist.\n",
    "\n",
    "Hier sehen wir auch, dass jeder Befehl in C mit einem `;` beendet wird. Wenn es vergessen wird, kann das Programm nicht übersetzt werden und der Compiler meldet den Fehler. **Versuchen Sie das Semikolon zu löschen und [Shift] + [Enter] zu drücken um das Programm erneut zu kompilieren und auszuführen.**\n",
    "\n",
    "### Hallo, Welt\n",
    "Ein Programm, dass nichts tut ist nicht sehr spannend. Daher wollen wir ein Programm schreiben, welches einen Text ausgibt. Mit \"ausgeben\" ist hier gemeint, dass dieser Text auf die Konsole geschrieben wird. Um Text an die Konsole zu senden, müssen wir mit dem Betriebssystem interagieren. Das System stellt eine Text Schnittstelle in der Datei stdio.h(**ST**andar**D** **I**nput/**O**utput) bereit"
   ]
  },
  {
   "cell_type": "code",
   "execution_count": null,
   "metadata": {},
   "outputs": [],
   "source": [
    "#include <stdio.h> /* Der Präprozessor kopiert den Text in der Datei an diese Stelle */\n",
    "\n",
    "int main(){\n",
    "    printf(\"Hallo, Welt!\"); /* Dieser Text wird ausgegeben */\n",
    "    return 0; /* Wie immer, müssen wir einen Wert zurückgeben */\n",
    "}"
   ]
  },
  {
   "cell_type": "markdown",
   "metadata": {
    "deletable": false,
    "editable": false,
    "run_control": {
     "frozen": true
    }
   },
   "source": [
    "## Variablen und Konstanten\n",
    "\n",
    "Um ein Programm sinnvoll zu nutzen ist es wichtig, Daten speichern zu können. Dies wird mit Variablen sichergestellt.  \n",
    "In C wird eine Variable wie folgt definiert:  \n",
    "`int wert;`  \n",
    "`int` ist hierbei der Datentyp der Variable und `wert` der Name.\n",
    "\n",
    "### Datentypen in C\n",
    "Damit der Compiler weiß wie er mit einer Variable umgehen muss, muss er wissen welche Art von Daten in ihr gespeichert sind. Das wird mit dem Typ angegeben. In C gibt es folgende Typen:\n",
    "\n",
    "| Typ | Art der Daten | Beispiel | Größe im Speicher [Byte] | Größe im Speicher [Bit] |\n",
    "| --- | ------------- | -------- | ------------------------ | ----------------------- |\n",
    "| char | Ganzzahl oder Zeichen (*character*) | 102 == 'f'| 1                     | 8                       |\n",
    "| int  | Ganzzahl (*integer*) | 1234 | >= 2, meistens 4     | >= 16, meistens 32      |\n",
    "| long | Ganzzahl (*long integer*) | 5678 | >= 4        | >= 32                   |\n",
    "| long long | Ganzzahl (*long long integer*) | 9012 | >= 8  | >= 64                   |\n",
    "| float | Gleitpunktzahl (*floating point number*)| 3.14 | meistens 4 | meistens 32   |\n",
    "| double | Gleitpunktzahl (*double precision float*) | 2.72 | >= float, meistens 8 | >= float, meistens 64 |\n",
    "| long double | Gleitpunktzahl (*long double precision float*) | 8.31 | >= double | >= double |\n",
    "\n",
    "Die Speichergröße eines Typen gibt an welcher Wertebereich mit diesem gespeichert werden kann. Der Typ `char` kann mit nur einem Byte maximal 255 verschiedene Werte speichern. Die Zahlen von `0` bis `127` werden mit Hilfe des [ASCII Codes](http://www.asciitable.com/) in Zeichen umgewandelt, wenn eine Variable vom Typ `char` als Zeichen verwendet wird. So entspricht der Wert `102` dem Zeichen `f`. Der erweiterte ASCII Code kann zwar weitere Zeichen, wie auch Umlaute, für die Zahlen von `128` bis `255` abbilden, ist aber nicht auf jeder Plattform verfügbar.\n",
    "\n",
    "Prinzipiell sind alle Typen `signed`, das heißt sie können sowohl positive als auch negative Zahlen darstellen. Um größere positive Zahlen speichern zu können, kann `unsigned` vor die Typenbezeichnung geschrieben werden.\n",
    "\n",
    "Da C auf vielen verschiedenen Hardware Architekturen funktionieren muss, sind die Speichergrößen nicht immer genau festgelegt. Wir empfehlen prinzipiell `long` für Ganzzahlen und `double` für Kommazahlen zu verwenden, da diese Typen für die meisten Anwendungen passend sind."
   ]
  },
  {
   "cell_type": "code",
   "execution_count": null,
   "metadata": {},
   "outputs": [],
   "source": [
    "/* Die tatsächliche Größe der Typen kann mit der Funktion sizeof() festgestellt werden\n",
    "    Die zurückgegebene Größe ist nicht auf jedem Computer gleich! */\n",
    "#include <stdio.h>\n",
    "\n",
    "int main(){\n",
    "    printf(\"Tatsächliche Groeße von Datentypen\\n\");\n",
    "    printf(\"char:   %ld Byte\\n\", sizeof(char));\n",
    "    printf(\"int:    %ld Byte\\n\", sizeof(int));\n",
    "    printf(\"long:   %ld Byte\\n\", sizeof(long));\n",
    "    printf(\"float:  %ld Byte\\n\", sizeof(float));\n",
    "    printf(\"double: %ld Byte\\n\", sizeof(double));\n",
    "    \n",
    "    return 0;\n",
    "}"
   ]
  },
  {
   "cell_type": "markdown",
   "metadata": {
    "deletable": false,
    "editable": false,
    "run_control": {
     "frozen": true
    }
   },
   "source": [
    "### Variablen Namen\n",
    "* Müssen mit Buchstaben oder `_` beginnen\n",
    "* Beliebig lange Folge von Buchstaben oder Zahlen\n",
    "* Umlaute und Sonderzeichen(außer `_`) sind NICHT erlaubt"
   ]
  },
  {
   "cell_type": "markdown",
   "metadata": {
    "deletable": false,
    "editable": false,
    "run_control": {
     "frozen": true
    }
   },
   "source": [
    "### Definieren von Variablen\n",
    "\n",
    "Eine Variable kann, wie oben gezeigt, folgendermaßen definiert werden:\n",
    "```\n",
    "long wert;\n",
    "```\n",
    "Nun weiß der Compiler, dass er Speicher für eine Variable vom Typ int bereithalten muss. Diese Variable hat allerdings noch keinen Wert, er muss erst zugewiesen oder **initialisiert** werden. Die kann mit der Definition\n",
    "```\n",
    "long wert = 42;\n",
    "```\n",
    "oder danach passieren:\n",
    "```\n",
    "long wert;\n",
    "wert = 43;\n",
    "```\n",
    "Um den Wert von Variablen zu verwenden muss dann nur noch der Name geschrieben werden."
   ]
  },
  {
   "cell_type": "code",
   "execution_count": null,
   "metadata": {},
   "outputs": [],
   "source": [
    "#include <stdio.h> /* für printf */\n",
    "\n",
    "int main(){\n",
    "    double wert = 3.1415926;\n",
    "    printf(\"Wert: %f\\n\", wert);\n",
    "    return 0;\n",
    "}"
   ]
  },
  {
   "cell_type": "code",
   "execution_count": null,
   "metadata": {},
   "outputs": [],
   "source": [
    "/* VORSICHT: Hier auf dem Server ist der Compiler so eingestellt, dass er besonders streng ist.\n",
    "    Er warnt vor nicht initialisierten Variablen. Standardmäßig tut er das nicht, daher achten\n",
    "    Sie immer darauf, dass ihre Variablen initialisiert sind um Fehler zu vermeiden! */\n",
    "int main(){\n",
    "    double wert;\n",
    "    double zehnfach = 10 * wert;\n",
    "    return 0;\n",
    "}"
   ]
  },
  {
   "cell_type": "markdown",
   "metadata": {
    "deletable": false,
    "editable": false,
    "run_control": {
     "frozen": true
    }
   },
   "source": [
    "### Konstanten\n",
    "Eine Variable kann als Konstante deklariert werden, das heißt dass sie nur einmal, während der Definition, gesetzt werden kann und danach nie wieder. Dafür ist nur das Schlüsselwort `const` vor dem Typen notwendig:"
   ]
  },
  {
   "cell_type": "code",
   "execution_count": null,
   "metadata": {},
   "outputs": [],
   "source": [
    "#include <stdio.h> /* für printf */\n",
    "\n",
    "int main(){\n",
    "    const double PI = 3.1415926;\n",
    "    printf(\"%f\\n\", PI);\n",
    "    return 0;\n",
    "}"
   ]
  },
  {
   "cell_type": "code",
   "execution_count": null,
   "metadata": {},
   "outputs": [],
   "source": [
    "/* Vorsicht: Der Wert MUSS während der Definition gesetzt werden */\n",
    "#include <stdio.h> /* für printf */\n",
    "\n",
    "int main(){\n",
    "    const double PI;\n",
    "    PI = 3.1415926;\n",
    "    printf(\"%f\\n\", PI);\n",
    "    return 0;\n",
    "}"
   ]
  },
  {
   "cell_type": "code",
   "execution_count": null,
   "metadata": {},
   "outputs": [],
   "source": [
    "/* Ein Beispiel für die Verwendung von Variablen und Konstanten */\n",
    "#include <stdio.h> /* für printf */\n",
    "\n",
    "int main(){\n",
    "    const double PI = 3.1415926;\n",
    "    \n",
    "    double radius = 10;\n",
    "    \n",
    "    double flaeche = radius * radius * PI;\n",
    "    printf(\"Die Flaeche eines Kreises mit Radius %.2f: %f\\n\", radius, flaeche);\n",
    "    return 0;\n",
    "}"
   ]
  },
  {
   "cell_type": "code",
   "execution_count": null,
   "metadata": {},
   "outputs": [],
   "source": []
  }
 ],
 "metadata": {
  "kernelspec": {
   "display_name": "C",
   "language": "c",
   "name": "c"
  },
  "language_info": {
   "file_extension": ".c",
   "mimetype": "text/x-csrc",
   "name": "text/x-csrc"
  }
 },
 "nbformat": 4,
 "nbformat_minor": 4
}
