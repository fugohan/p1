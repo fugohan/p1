{
 "cells": [
  {
   "cell_type": "markdown",
   "metadata": {
    "deletable": false,
    "editable": false,
    "run_control": {
     "frozen": true
    }
   },
   "source": [
    "# Vorlesung 4.2\n",
    "# Selektionen in C\n",
    "\n",
    "---\n",
    " **Hinweis:**\n",
    " Diese interaktiven Webseiten beschreiben parallel zu den Vorlesungsfolien das jeweilige Stoffgebiet. Zellen mit C Quelltext können mittels der Tastenkombination \\[Shift\\] + \\[Enter\\] kompiliert und ausgeführt werden. Es wird Ihnen empfohlen, Änderungen in diversen Zellen vorzunehmen um ein Gefühl für die Sprache C zu entwickeln.\n",
    " \n",
    "---\n",
    "\n",
    "## Selektionen\n",
    "\n",
    "Wie in der vorherigen Vorlesung besprochen, gibt es in C mehrere Arten der Selektion. Graphisch wird sie wie folgt dargestellt.\n",
    "\n",
    "<img src=\"images/selektion.png\" width=\"500\">\n",
    "\n",
    "In der Sprache C gibt es zwei Arten eine Selektion durchzuführen:\n",
    "* `if`\n",
    "* `switch`\n",
    "\n",
    "### Die if Anweisung\n",
    "\n",
    "Im einfachsten Fall wird die `if` Anweisung dazu verwendet um in Abhängigkeit von einer Bedingung einen bestimmten Quelltext auszuführen. In diesem Fall sieht sie wie folgt aus:\n",
    "```\n",
    "if(Bedingung){\n",
    "    Quelltext\n",
    "}\n",
    "```\n",
    "Wenn die Überprüfung der Bedingung einen Wert gleich 0 zurückgibt, wird `Quelltext` NICHT ausgeführt. Andernfalls wird `Quelltext` ausgeführt.   \n",
    "(Zur Erinnerung: In C gibt es kein `true` oder `false` wie in anderen Programmiersprachen, daher werden stattdessen ganze Zahlen verwendet.    \n",
    "Der Wert 0 entspricht `false`, jeder andere `true`.)\n",
    "\n",
    "Mithilfe einer `if` Anweisung kann der Benutzer eines Programmes vor einer Division durch 0 gewarnt werden:"
   ]
  },
  {
   "cell_type": "code",
   "execution_count": null,
   "metadata": {},
   "outputs": [],
   "source": [
    "long z = 42;\n",
    "long n = 0;\n",
    "\n",
    "if(n == 0){\n",
    "    printf(\"Achtung: Division durch 0!\\n\");\n",
    "}\n",
    "\n",
    "z = z / n;\n",
    "\n",
    "printf(\"%ld\\n\", z);"
   ]
  },
  {
   "cell_type": "markdown",
   "metadata": {
    "deletable": false,
    "editable": false,
    "run_control": {
     "frozen": true
    }
   },
   "source": [
    "Allerdings wird im obigen Beispiel immer noch durch 0 dividiert, was das Programm zum Absturz bringt. Um dies zu verhindern, darf die Division nicht durchgeführt werden. Dazu gibt es die `else` Anweisung, welche immer direkt auf eine `if` Anweisung folgen muss. Quelltext in diesem Block wird nur dann ausgeführt wenn die Bedingung der `if` Anweisung falsch war."
   ]
  },
  {
   "cell_type": "code",
   "execution_count": null,
   "metadata": {},
   "outputs": [],
   "source": [
    "long z = 42;\n",
    "long n = 0;\n",
    "\n",
    "if(n == 0){\n",
    "    printf(\"Achtung: Division durch 0!\\n\");\n",
    "} else {\n",
    "    z = z / n;\n",
    "}\n",
    "\n",
    "\n",
    "printf(\"%ld\\n\", z);"
   ]
  },
  {
   "cell_type": "markdown",
   "metadata": {
    "deletable": false,
    "editable": false,
    "run_control": {
     "frozen": true
    }
   },
   "source": [
    "### Verschachtelte if Anweisungen\n",
    "\n",
    "Es können auch mehrere `if` Anweisungen ineinander verschachtelt werden:"
   ]
  },
  {
   "cell_type": "code",
   "execution_count": null,
   "metadata": {},
   "outputs": [],
   "source": [
    "long a = 0;\n",
    "long b = 0;\n",
    "long ergebnis = 0;\n",
    "\n",
    "/* wenn b 0 ist soll nicht dividiert werden, außer a ist auch 0, dann soll das Ergebnis 1 sein */\n",
    "if(b != 0){\n",
    "    ergebnis = a / b;\n",
    "} else {\n",
    "    if(a == 0){\n",
    "        ergebnis = 1;\n",
    "    } else {\n",
    "        printf(\"Achtung: Division durch 0!\\n\");\n",
    "    }\n",
    "}\n",
    "\n",
    "printf(\"Ergebnis: %ld\\n\", ergebnis);"
   ]
  },
  {
   "cell_type": "markdown",
   "metadata": {
    "deletable": false,
    "editable": false,
    "run_control": {
     "frozen": true
    }
   },
   "source": [
    "Da verschachtelte `if` Anweisungen sehr komplex werden können, gibt es noch die `else if` Anweisung, welche zwischen `if` und `else` geschrieben wird. Mit ihr kann das obige Programm vereinfacht werden:"
   ]
  },
  {
   "cell_type": "code",
   "execution_count": null,
   "metadata": {},
   "outputs": [],
   "source": [
    "long a = 0;\n",
    "long b = 0;\n",
    "long ergebnis = 0;\n",
    "\n",
    "/* wenn b 0 ist soll nicht dividiert werden, außer a ist auch 0, dann soll das Ergebnis 1 sein */\n",
    "if(b != 0){\n",
    "    ergebnis = a / b;\n",
    "} else if(a == 0){ /* Diese Bedingung wird nur evaluiert wenn b != 0 falsch ergibt */\n",
    "    ergebnis = 1;\n",
    "} else { /* Wird nur ausgeführt wenn alle vorherigen if und else if Bedingungen falsch waren */\n",
    "    printf(\"Achtung: Division durch 0!\\n\");\n",
    "}\n",
    "\n",
    "printf(\"Ergebnis: %ld\\n\", ergebnis);"
   ]
  },
  {
   "cell_type": "code",
   "execution_count": null,
   "metadata": {},
   "outputs": [],
   "source": [
    "/* Ein Beispiel für mehrere verschachtelte if Anweisungen zur Bestimmung einer Note */\n",
    "#include <stdio.h>\n",
    "#include <stdlib.h>\n",
    "#include <time.h>\n",
    "\n",
    "int main() {\n",
    "    long punkte;    \n",
    "    long min = 10;  \n",
    "    long max = 100;\n",
    "\n",
    "    /* Zufallsgenerator wird initialisiert */\n",
    "    srand(time(NULL));\n",
    "\n",
    "    /* Zufallszahl zwischen min und max wird generiert */\n",
    "    punkte = min + rand() * (max - min + 1.0) / (RAND_MAX + 1.0);\n",
    "    printf(\"%ld Punkte sind \\\"\", punkte);\n",
    "\n",
    "    if (punkte <= 40){\n",
    "        printf(\"Nicht genuegend\\\"\\n\");\n",
    "    } else if (punkte <= 55) {\n",
    "        printf(\"Genuegend\\\"\\n\");\n",
    "    } else if (punkte <= 70) {\n",
    "        printf(\"Befriedigend\\\"\\n\");\n",
    "    } else if (punkte <= 85) {\n",
    "        printf(\"Gut\\\"\\n\");\n",
    "    } else {\n",
    "        printf(\"Sehr Gut\\\"\\n\");\n",
    "    }\n",
    "\n",
    "    return 0;\n",
    "}"
   ]
  },
  {
   "cell_type": "markdown",
   "metadata": {
    "deletable": false,
    "editable": false,
    "run_control": {
     "frozen": true
    }
   },
   "source": [
    "Das zum obigen Beispiel zugehörige Struktogramm sieht wie folgt aus:\n",
    "\n",
    "<img src=\"images/if_rechen.png\" width=600>"
   ]
  },
  {
   "cell_type": "markdown",
   "metadata": {
    "deletable": false,
    "editable": false,
    "run_control": {
     "frozen": true
    }
   },
   "source": [
    "### Häufige Fehler\n",
    "\n",
    "Die folgenden Beispiele sollen häufig vorkommende Fehler verdeutlichen. Wenn Sie in Ihrem Programm einen Fehler bei oder nach einer `if` Anweisung erhalten, ist es sehr wahrscheinlich einer der Folgenden. Versuchen Sie die Fehler in den folgenden Beispielen auszubessern:"
   ]
  },
  {
   "cell_type": "code",
   "execution_count": null,
   "metadata": {},
   "outputs": [],
   "source": [
    "/* if statt else if */\n",
    "long a = 42;\n",
    "long b = 42;\n",
    "\n",
    "if(a == b) {\n",
    "    printf(\"a und b sind gleich gross.\\n\");\n",
    "}\n",
    "if(a < b) { /* Hier sollte ein else if stehen */\n",
    "    printf(\"a ist kleiner als b.\\n\");\n",
    "}\n",
    "else { /* else wird jetzt ausgeführt obwohl die erste Bedingung wahr war */\n",
    "    printf(\"a ist groesser als b.\\n\");\n",
    "}"
   ]
  },
  {
   "cell_type": "code",
   "execution_count": null,
   "metadata": {},
   "outputs": [],
   "source": [
    "/* = statt == */\n",
    "long a = 0;\n",
    "\n",
    "if(a = 0){ /* Bei einer Zuweisung statt einem Vergleich warnt der Compiler hier am Server vor dem Fehler */\n",
    "    printf(\"a ist gleich null!\\n\");\n",
    "} else{\n",
    "    printf(\"a ist nicht null.\\n\");\n",
    "}"
   ]
  },
  {
   "cell_type": "code",
   "execution_count": null,
   "metadata": {},
   "outputs": [],
   "source": [
    "/* fehlende {} */\n",
    "long a = 5;\n",
    "\n",
    "/* Hier am Server warnt der Compiler wieder! Nicht jeder Compiler warnt allerdings.\n",
    "    Daher verwenden Sie IMMER {} nach einem if, auch wenn Sie danach nur einen Befehl ausführen */\n",
    "if(a == 0)\n",
    "    printf(\"a ist null. a wird auf 1 gesetzt.\\n\");\n",
    "    a = 1;\n",
    "    \n",
    "printf(\"a: %ld\\n\", a);"
   ]
  },
  {
   "cell_type": "code",
   "execution_count": null,
   "metadata": {},
   "outputs": [],
   "source": [
    "/* Falsches Semikolon nach der Bedingung */\n",
    "\n",
    "/* Auch hier warnt der Compiler am Server. \n",
    "    Auch dieser Fehler kann durch die Verwendung von {} verhindert werden! */\n",
    "if(0); /* Dieses Semikolon bedeutet eine leere Anweisung. Daher gehört der nächste Befehl nicht mehr zum if */\n",
    "    printf(\"0 ist immer falsch.\\n\");"
   ]
  },
  {
   "cell_type": "markdown",
   "metadata": {
    "deletable": false,
    "editable": false,
    "run_control": {
     "frozen": true
    }
   },
   "source": [
    "### Die switch Anweisung\n",
    "\n",
    "Die zweite Art der Selektion in der Sprache C ist die `switch` Anweisung. Sie wird verwendet, wenn viele Werte mit einer **Ganzzahl** verglichen werden sollen. Sie ist wie folgt aufgebaut:\n",
    "```C\n",
    "switch(zahl) {\n",
    "    case 1: printf(\"eins\\n\");\n",
    "            break;\n",
    "    case 2: printf(\"zwei\\n\");\n",
    "            break;\n",
    "    case 3: printf(\"drei\\n\");\n",
    "            break;\n",
    "    default: printf(\"anderes\\n\");\n",
    "}\n",
    "```\n",
    "**zahl**   \n",
    "ist eine **ganzzahlige** Variable mit einem Wert.\n",
    "\n",
    "**case n**    \n",
    "die Variable **zahl** wird mit einem Wert **n** verglichen. Wenn sie gleich sind, wird **jede** Anweisung nach dem `:` ausgeführt. `break` an dieser Stelle verhindert, dass nachstehende Befehle in anderen `case` Anweisungen ausgeführt werden.\n",
    "\n",
    "**default**   \n",
    "Wenn kein `case` Wert dem Wert **zahl** entspricht, werden diese Anweisungen ausgeführt.\n"
   ]
  },
  {
   "cell_type": "code",
   "execution_count": null,
   "metadata": {},
   "outputs": [],
   "source": [
    "/* Wenn break nach einem case ausgelassen wird, werden auch Befehle danach ausgeführt.\n",
    "    So können mehrere Werte zusammengefasst werden. */\n",
    "long a = 1;\n",
    "\n",
    "switch(a) {\n",
    "    case 0: printf(\"null\\n\");\n",
    "            break;\n",
    "    case 1: \n",
    "    case 2: printf(\"eins oder zwei\\n\");\n",
    "            break;\n",
    "    case 3: printf(\"drei\\n\");\n",
    "            break;\n",
    "    default: printf(\"anderes\\n\");\n",
    "}"
   ]
  },
  {
   "cell_type": "markdown",
   "metadata": {
    "deletable": false,
    "editable": false,
    "run_control": {
     "frozen": true
    }
   },
   "source": [
    "Um einen Zahlenbereich abzufragen, wie im obigen Beispiel der Noten, eignet sich `switch` allerdings nicht. Eine übliche Anwendung wäre ein kleines Menü für den User:"
   ]
  },
  {
   "cell_type": "code",
   "execution_count": null,
   "metadata": {},
   "outputs": [],
   "source": [
    "/* Ein kleines Programm zur Umrechnung von Energie in verschiedene Einheiten */\n",
    "#include <stdio.h>\n",
    "\n",
    "int main() {\n",
    "    /* Die Umrechnungsfaktoren */\n",
    "    const double convertCal = 4.1868;\n",
    "    const double convertEV  = 1.6022e-19;\n",
    "    const double convertKWh = 3.6e6;\n",
    "    const double convertBtu = 1055.1;\n",
    "\n",
    "    long   choice;\n",
    "    double e1, e2;\n",
    "\n",
    "    printf(\"Geben Sie einen Energiewert in Joule ein: \");\n",
    "    scanf (\"%lf\", &e1);\n",
    "\n",
    "    printf(\"\\nWaehlen Sie die Energie-Einheit aus:\\n\");\n",
    "    printf(\"1 ... Cal\\n\");\n",
    "    printf(\"2 ... eV\\n\");\n",
    "    printf(\"3 ... kWh\\n\");\n",
    "    printf(\"4 ... Btu\\n\");\n",
    "    printf(\"\\nIhre Wahl: \");\n",
    "    scanf (\"%ld\", &choice);\n",
    "    printf(\"\\n\");\n",
    "\n",
    "    switch (choice)\n",
    "    {\n",
    "      case 1:\n",
    "        e2 = e1 / convertCal ;\n",
    "        printf(\"%g Joule = %g Kalorien\\n\", e1, e2);\n",
    "        break;\n",
    "      case 2:\n",
    "        e2 = e1 / convertEV ;\n",
    "        printf(\"%g Joule = %g Elektronenvolt\\n\", e1, e2);\n",
    "        break;\n",
    "      case 3:\n",
    "        e2 = e1 / convertKWh ;\n",
    "        printf(\"%g Joule = %g Kilowattstunden\\n\", e1, e2);\n",
    "        break;\n",
    "      case 4:\n",
    "        e2 = e1 / convertBtu ;\n",
    "        printf(\"%g Joule = %g British thermal units\\n\", e1, e2);\n",
    "        break;\n",
    "      default:\n",
    "        printf(\"+++ Falsche Eingabe! +++\\n\\n\");\n",
    "    }\n",
    "    printf(\"\\n\");\n",
    "    \n",
    "    return 0;\n",
    "}"
   ]
  },
  {
   "cell_type": "markdown",
   "metadata": {
    "deletable": false,
    "editable": false,
    "run_control": {
     "frozen": true
    }
   },
   "source": [
    "### Häufige Fehler\n",
    "\n",
    "Hier ist ein typischer Fehler angeführt, der bei der Verwendung von `switch` leicht unterlaufen kann. Testen Sie verschiedene Lösungsmöglichkeiten die gewählt werden können um den Fehler zu beheben:"
   ]
  },
  {
   "cell_type": "code",
   "execution_count": null,
   "metadata": {},
   "outputs": [],
   "source": [
    "/* Variable b wird erst in switch deklariert */\n",
    "long a = 0;\n",
    "\n",
    "/* Wenn Variablen in einem case Block deklariert werden, sollten {} verwendet werden */\n",
    "switch(a){\n",
    "    case 0: \n",
    "    /* { */\n",
    "        long b = 5;\n",
    "        printf(\"%ld\\n\", b);\n",
    "        break;\n",
    "    /* } */\n",
    "    case 1: printf(\"1\\n\");\n",
    "}"
   ]
  },
  {
   "cell_type": "code",
   "execution_count": null,
   "metadata": {},
   "outputs": [],
   "source": []
  }
 ],
 "metadata": {
  "kernelspec": {
   "display_name": "C",
   "language": "c",
   "name": "c"
  },
  "language_info": {
   "file_extension": ".c",
   "mimetype": "text/x-csrc",
   "name": "text/x-csrc"
  }
 },
 "nbformat": 4,
 "nbformat_minor": 2
}
