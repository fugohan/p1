{
 "cells": [
  {
   "cell_type": "markdown",
   "metadata": {
    "deletable": false,
    "editable": false,
    "run_control": {
     "frozen": true
    }
   },
   "source": [
    "# Vorlesung 5.2\n",
    "# Speicherklassen\n",
    "\n",
    "---\n",
    " **Hinweis:**\n",
    " Diese interaktiven Webseiten beschreiben parallel zu den Vorlesungsfolien das jeweilige Stoffgebiet. Zellen mit C Quelltext können mittels der Tastenkombination \\[Shift\\] + \\[Enter\\] kompiliert und ausgeführt werden. Es wird Ihnen empfohlen, Änderungen in diversen Zellen vorzunehmen um ein Gefühl für die Sprache C zu entwickeln.\n",
    " \n",
    "---\n",
    "\n",
    "## Lokale Variablen\n",
    "\n",
    "Bisher wurden in Beispielen nur lokale Variablen verwendet. Das bedeutet, dass diese Variablen nur in der Funktion verwendet werden können, in der sie definiert wurden."
   ]
  },
  {
   "cell_type": "code",
   "execution_count": null,
   "metadata": {},
   "outputs": [],
   "source": [
    "#include <stdio.h>\n",
    "\n",
    "/* a und faktor sind nur innerhalb dieser Funktion sichtbar, da sie lokal sind.\n",
    "    Jedes Mal wenn die Funktion aufgerufen wird, werden sie neu initialisiert */\n",
    "long Faktorielle(long a) {\n",
    "    long faktor = 1;\n",
    "    \n",
    "    /* Wenn a < 0 ist soll eine Warnung ausgegeben werden */\n",
    "    if(a < 0) {\n",
    "        printf(\"a muss positiv sein!\\n\");\n",
    "        /* Es wird der Fehlerwert -1 zurückgegeben, der sonst nie auftreten kann */\n",
    "        return -1;\n",
    "    }\n",
    "    \n",
    "    for(; a > 1; a = a - 1) {\n",
    "        faktor = faktor * a;\n",
    "    }\n",
    "    return faktor;\n",
    "}\n",
    "\n",
    "int main() {\n",
    "    printf(\"%ld\\n\", Faktorielle(6));\n",
    "    \n",
    "    return 0;\n",
    "}"
   ]
  },
  {
   "cell_type": "markdown",
   "metadata": {
    "deletable": false,
    "editable": false,
    "run_control": {
     "frozen": true
    }
   },
   "source": [
    "### Ein Block in C\n",
    "\n",
    "Variablen müssen immer am Anfang eines Blockes definiert werden. Ein Block ist ein Programmbereich, der in geschwungenen Klammern `{}` eingefasst ist. Das sind zum Beispiel:   \n",
    "* Schleifenrümpfe\n",
    "* Funktionsrümpfe\n",
    "* Alle anderen Verwendungen von `{}`\n",
    "\n",
    "Dadurch, dass die Variable `faktor` am Anfang der Funktion definiert wird, nimmt sie bei jedem Aufruf der Funktion Platz im Speicher ein. Wenn allerdings der übergebene Parameter `a` negativ ist, wird die Variable `faktor` nie verwendet. Um diese Verschwendung von Speicherplatz zu vermeiden, kann ein neuer Block geschrieben werden, in dem `faktor` definiert wird."
   ]
  },
  {
   "cell_type": "code",
   "execution_count": null,
   "metadata": {},
   "outputs": [],
   "source": [
    "/* Faktorielle mit zusätzlichem Block */\n",
    "#include <stdio.h>\n",
    "\n",
    "long Faktorielle(long a) {    \n",
    "    /* Wenn a < 0 ist soll eine Warnung ausgegeben werden */\n",
    "    if(a < 0) {\n",
    "        printf(\"a muss positiv sein!\\n\");\n",
    "        /* Es wird der Fehlerwert -1 zurückgegeben, der sonst nie auftreten kann */\n",
    "        return -1;\n",
    "    }\n",
    "    \n",
    "    /* Jetzt wird faktor noch immer zu Beginn eines Blockes definiert,\n",
    "        aber erst wenn sichergestellt ist, dass a positiv ist */\n",
    "    {\n",
    "        long faktor = 1;\n",
    "        for(; a > 1; a = a - 1) {\n",
    "            faktor = faktor * a;\n",
    "        }\n",
    "        return faktor;\n",
    "    }\n",
    "}\n",
    "\n",
    "int main() {\n",
    "    printf(\"%ld\\n\", Faktorielle(6));\n",
    "    \n",
    "    return 0;\n",
    "}"
   ]
  },
  {
   "cell_type": "code",
   "execution_count": null,
   "metadata": {},
   "outputs": [],
   "source": [
    "/* Blöcke übernehmen Variablen von Blöcken in denen sie stehen */\n",
    "long a = 5;\n",
    "{\n",
    "    /* a kann hier verwendet werden */\n",
    "    long b = a + 12;\n",
    "    a -= b;\n",
    "    printf(\"%ld\\n\", b);\n",
    "}\n",
    "/* a wurde verändert */\n",
    "printf(\"%ld\\n\", a);"
   ]
  },
  {
   "cell_type": "code",
   "execution_count": null,
   "metadata": {},
   "outputs": [],
   "source": [
    "/* VORSICHT: Wenn zwei Variablen gleichen Namens in verschiedenen Blöcken existieren, zählt der innerste Block */\n",
    "long a = 5;\n",
    "{\n",
    "    long a;\n",
    "    a = 1;\n",
    "    printf(\"%ld\\n\", a);\n",
    "}\n",
    "printf(\"%ld\\n\", a);"
   ]
  },
  {
   "cell_type": "markdown",
   "metadata": {
    "deletable": false,
    "editable": false,
    "run_control": {
     "frozen": true
    }
   },
   "source": [
    "### Speicherklassen von lokalen Variablen\n",
    "\n",
    "Es gibt drei Speicherklassen von lokalen Variablen:\n",
    "* `auto`\n",
    "* `register`\n",
    "* `static`\n",
    "\n",
    "### auto\n",
    "\n",
    "Alle Variablen, die nicht mit `register` oder `static` definiert sind, sind automatische Variablen. Das heißt, sie werden am Anfang des Blockes, in dem sie definiert sind, automatisch angelegt und am Endes des Blockes wieder gelöscht. Das Schlüsselwort `auto` muss dabei nicht extra angegeben werden, da ohnehin alle Variablen `auto` sind, wenn nicht explizit anders angegeben.\n",
    "\n",
    "### register\n",
    "\n",
    "Variablen, die häufig verwendet werden, können als Speicherklasse `register` definiert werden. Dadurch wird die Variable in einem Register des Prozessors angelegt und nicht im Hauptspeicher, was die Zugriffszeiten verringert. Ob die Variable allerdings wirklich in einem Register angelegt wird, oder doch im Hauptspeicher, ist Abhängig vom Compiler. Mittels `register` können allerdings nur `char`, `long`, `float`, `double` und Zeiger gespeichert werden. Zudem kann die Speicheradresse NICHT mit `&` ermittelt werden, da Register keine Speicheradressen haben.\n",
    "\n",
    "Diese Variablen werden genau so wie `auto` Variablen am Anfang eines Blockes angelegt und an dessen Ende gelöscht.\n",
    "\n",
    "**Bemerkung**: Moderne Compiler haben mächtige Optimierungswerkzeuge, die sehr häufig verwendete Variablen automatisch in Registern erstellen/belassen, etc. Zudem muss ein Compiler `register` nicht respektieren und kann die Variable einfach im Hauptspeicher anlegen. Daher ist die Angabe von `register` in modernen Codes nicht sehr geläufig. Es kann aber verwendet werden um klarzustellen, dass schneller Zugriff auf eine bestimmte Variable wichtig ist."
   ]
  },
  {
   "cell_type": "code",
   "execution_count": null,
   "metadata": {},
   "outputs": [],
   "source": [
    "#include <stdio.h>\n",
    "\n",
    "/* Alle Variablen werden mit register angelegt um zu zeigen,\n",
    "    dass schneller Zugriff wichtig ist weil sie oft verwendet werden. */\n",
    "long Fibonacci(register long maximum) {\n",
    "    register long fibonacci = 1;\n",
    "    register long old_term = 0;\n",
    "    register long temp = 0;\n",
    "    \n",
    "    long i = 0;\n",
    "    for(; i < maximum; ++i) {\n",
    "        /* printf(\"%ld\\n\", fibonacci); */\n",
    "        temp = fibonacci;\n",
    "        fibonacci += old_term;\n",
    "        old_term = temp;\n",
    "    }\n",
    "    \n",
    "    return fibonacci;\n",
    "}\n",
    "\n",
    "int main() {\n",
    "    long term = 90;\n",
    "    \n",
    "    printf(\"Fibonacci Term %ld: %ld\\n\", term, Fibonacci(term));\n",
    "    \n",
    "    return 0;\n",
    "}"
   ]
  },
  {
   "cell_type": "markdown",
   "metadata": {
    "deletable": false,
    "editable": false,
    "run_control": {
     "frozen": true
    }
   },
   "source": [
    "### static\n",
    "\n",
    "Lokale statische Variablen werden nicht, wie in anderen Speicherklassen, erst am Anfang eines Blockes im Speicher angelegt, sondern schon zu Beginn des gesamten Programmes. Dadurch werden sie auch erst gelöscht, wenn das Programm beendet. Sie können allerdings nur in dem Block verwendet werden, in dem sie definiert wurden. Variablendefinitionen des Typs `static` existieren daher solange das Programm läuft, sind allerdings nur lokal sichtbar, z.B. beim Einsprung in eine Funktion. Wenn eine `static` Variable bei ihrer Definition mit `=` initialisiert wird, passiert das nur beim ersten Durchlauf und wird danach ignoriert."
   ]
  },
  {
   "cell_type": "code",
   "execution_count": null,
   "metadata": {},
   "outputs": [],
   "source": [
    "/* Beispiel für eine statische Variable als Zähler */\n",
    "#include <stdio.h>\n",
    "\n",
    "long AufrufZaehler() {\n",
    "    /* Eine statische Variable behält ihren Wert,\n",
    "        da sie so lange existiert bis das gesamte Programm beendet. */\n",
    "    static long aufrufe = 0;\n",
    "    return ++aufrufe;\n",
    "}\n",
    "\n",
    "int main() {\n",
    "    printf(\"%ld\\n\", AufrufZaehler());\n",
    "    printf(\"%ld\\n\", AufrufZaehler());\n",
    "    printf(\"%ld\\n\", AufrufZaehler());\n",
    "    printf(\"%ld\\n\", AufrufZaehler());\n",
    "\n",
    "    return 0;\n",
    "}"
   ]
  },
  {
   "cell_type": "markdown",
   "metadata": {
    "deletable": false,
    "editable": false,
    "run_control": {
     "frozen": true
    }
   },
   "source": [
    "## Globale Variablen\n",
    "\n",
    "Globale Variablen werden außerhalb jedes Blockes definiert. Dadurch sind sie so lange verfügbar bis das Programm beendet, ähnlich wie lokale `static` Variablen. Allerdings können Variablen von JEDEM Block im Programm verändert werden, da sie ja im höchsten \"Block\", nämlich ganz außerhalb, definiert sind. Da dies zu Problemen mit der Struktur eines Programmes führen kann, sollten globale Variablen vermieden werden soweit es möglich ist.\n",
    "\n",
    "Globale Variablen werden zwar immer mit `0` initialisiert, sollten aber trotzdem immer per Hand initialisiert werden, um Verwirrungen zu vermeiden."
   ]
  },
  {
   "cell_type": "code",
   "execution_count": null,
   "metadata": {},
   "outputs": [],
   "source": [
    "#include <stdio.h>\n",
    "/* Globale Variable, die im gesamten Programm verfügbar ist.\n",
    "    Dies sollte unbedingt vermieden werden!!! */\n",
    "const double PI = 3.1415926;\n",
    "\n",
    "double rad2grad(double rad) {\n",
    "    /* Die Variable kann hier verwendet werden */\n",
    "    double grad = rad * 180. / PI;\n",
    "    \n",
    "    return grad;\n",
    "}\n",
    "\n",
    "int main() {\n",
    "    /* Aber sie kann auch hier verwendet werden */\n",
    "    double rad = PI;\n",
    "    double grad = rad2grad(rad);\n",
    "    \n",
    "    printf(\"%f rad = %f grad\\n\", rad, grad);\n",
    "    \n",
    "    return 0;\n",
    "}"
   ]
  },
  {
   "cell_type": "markdown",
   "metadata": {
    "deletable": false,
    "editable": false,
    "run_control": {
     "frozen": true
    }
   },
   "source": [
    "### Globale Variablen der Speicherklasse `extern`\n",
    "\n",
    "Wenn sonst keine Speicherklasse angegeben ist, sind globale Variablen `extern`. Das heißt sie können im gesamten Programm und auch in anderen Modulen (anderen .c Dateien) verwendet werden. Um eine Variable in anderen Modulen verwenden zu können, muss sie dort deklariert werden, damit der Compiler weiß, dass in einem anderen Modul eine Variable existiert, die erst später beim Linken verfügbar sein wird (siehe Vorlesung 2.1). Die Variable `PI` im obigen Beispiel ist eine externe globale Variable. In einer anderen .c Datei könnte sie verwendet werden, nachdem sie folgendermaßen deklariert ist:\n",
    "```C\n",
    "extern const double PI;\n",
    "```\n",
    "Dadurch hat der Compiler alle Informationen über die Variable und weiß durch `extern`, dass diese Variable von einem anderen Modul bereitgestellt wird.\n",
    "\n",
    "### Globale Variablen der Speicherklasse `static`\n",
    "\n",
    "Um eine globale Variable zu erstellen, die nur in einem Modul sichtbar ist (also nur in der .c Datei in der sie definiert wurde), wird das Schlüsselwort `static` vorangestellt.\n",
    "\n",
    "**Anmerkung**: Der Unterschied zwischen globalen Variablen der Typen `static` und `extern` kann hier am Server nicht gezeigt werden, da immer nur eine .c Datei verwendet wird. Testen Sie den Unterschied auf Ihrem Rechner!"
   ]
  },
  {
   "cell_type": "code",
   "execution_count": null,
   "metadata": {},
   "outputs": [],
   "source": [
    "#include <stdio.h>\n",
    "/* Globale Variable, die nur in dieser .c Datei verfügbar ist */\n",
    "static const double PI = 3.1415926;\n",
    "\n",
    "double rad2grad(double rad) {\n",
    "    double grad = rad * 180. / PI;\n",
    "    \n",
    "    return grad;\n",
    "}\n",
    "\n",
    "int main() {\n",
    "    double rad = PI;\n",
    "    double grad = rad2grad(rad);\n",
    "    \n",
    "    printf(\"%f rad = %f grad\\n\", rad, grad);\n",
    "    \n",
    "    return 0;\n",
    "}"
   ]
  },
  {
   "cell_type": "markdown",
   "metadata": {
    "deletable": false,
    "editable": false,
    "run_control": {
     "frozen": true
    }
   },
   "source": [
    "**WICHTIG**: Variablen sollten **IMMER** so definiert werden, dass der Zugriff auf sie so eingeschränkt wie möglich ist. Wenn man eine Variable erstellt, sollte ihre Definition in dieser Reihenfolge abgewogen werden:\n",
    "\n",
    "* Lokale Variable\n",
    "* Wenn die Variable in einer Funktion benötigt wird: Übergabeparameter der Funktion\n",
    "* Wenn die Variable über mehrere Aufrufe benötigt wird: `static`\n",
    "* Wenn die Variable an vielen Stellen im Programm benötigt wird: globale Variable (dies sollte vermieden werden)\n",
    "    * `static`\n",
    "    * Wenn die Variable in anderen Modulen gelesen werden soll: Eine externe Funktion, die den Wert zurückgibt\n",
    "    * Wenn die Variable in anderen Modulen geschrieben werden muss: Eine externe Funktion, die den Wert setzt\n",
    "    * Wenn die Variable wirklich, unbedingt, um jeden Preis in anderen Modulen verwendet werden MUSS, dann als externe Variable\n",
    "    \n",
    "Globale Variablen (besonders externe globale Variablen) sollten wirklich nur der allerletzte Ausweg sein und von ihrer Verwendung wird in jedem reputablen Programmierstil abgeraten."
   ]
  },
  {
   "cell_type": "code",
   "execution_count": null,
   "metadata": {},
   "outputs": [],
   "source": []
  }
 ],
 "metadata": {
  "kernelspec": {
   "display_name": "C",
   "language": "c",
   "name": "c"
  },
  "language_info": {
   "file_extension": ".c",
   "mimetype": "text/x-csrc",
   "name": "text/x-csrc"
  }
 },
 "nbformat": 4,
 "nbformat_minor": 2
}
