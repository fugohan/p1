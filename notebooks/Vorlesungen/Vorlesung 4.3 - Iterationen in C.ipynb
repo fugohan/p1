{
 "cells": [
  {
   "cell_type": "markdown",
   "metadata": {
    "deletable": false,
    "editable": false,
    "run_control": {
     "frozen": true
    }
   },
   "source": [
    "# Vorlesung 4.3\n",
    "# Iterationen in C\n",
    "\n",
    "---\n",
    " **Hinweis:**\n",
    " Diese interaktiven Webseiten beschreiben parallel zu den Vorlesungsfolien das jeweilige Stoffgebiet. Zellen mit C Quelltext können mittels der Tastenkombination \\[Shift\\] + \\[Enter\\] kompiliert und ausgeführt werden. Es wird Ihnen empfohlen, Änderungen in diversen Zellen vorzunehmen um ein Gefühl für die Sprache C zu entwickeln.\n",
    " \n",
    "---\n",
    "\n",
    "## Iteration\n",
    "\n",
    "In Vorlesung 4.1 wurden zwei Arten der Iteration vorgestellt:\n",
    "\n",
    "<img src=\"./images/iteration.png\" width=\"500\">\n",
    "\n",
    "## Schleifen\n",
    "\n",
    "In der Sprache C werden Iterationen mit Schleifen durchgeführt. In C gibt es drei Arten von Schleifen, zwei vorprüfende Schleifen und eine nachprüfende Schleife:\n",
    "\n",
    "* Vorprüfende Schleifen:\n",
    "    * `while` Schleife\n",
    "    * `for` Schleife\n",
    "* Nachprüfende Schleife:\n",
    "    * `do while` Schleife"
   ]
  },
  {
   "cell_type": "markdown",
   "metadata": {
    "deletable": false,
    "editable": false,
    "run_control": {
     "frozen": true
    }
   },
   "source": [
    "### Die while Schleife\n",
    "\n",
    "Am Anfang der `while` Schleife steht eine Bedingung, welche bei jedem Schleifendurchgang überprüft wird. Ist diese Bedingung `0`, beendet die Schleife. Wenn die Bedingung beim ersten Mal nicht erfüllt ist, wird der Quelltext in der Schleife nie ausgeführt."
   ]
  },
  {
   "cell_type": "code",
   "execution_count": null,
   "metadata": {},
   "outputs": [],
   "source": [
    "long maximum;\n",
    "printf(\"Bis zu welcher Zahl soll die Folge berechnet werden?\\n\");\n",
    "scanf(\"%ld\", &maximum);\n",
    "\n",
    "{\n",
    "    long old_term = 0;\n",
    "    long fibonacci = 1;\n",
    "    printf(\"Fibonacci-Folge bis %ld:\\n\", maximum);\n",
    "    printf(\"0\");\n",
    "    /* Die Schleife wird so lange ausgeführt bis fibonacci >= maximum.\n",
    "        Wenn maximum < 1 ist, wird die Schleife nie ausgeführt */\n",
    "    while(fibonacci < maximum){\n",
    "        long temp = fibonacci;\n",
    "        printf(\", %ld\", fibonacci);\n",
    "        fibonacci += old_term;\n",
    "        old_term = temp;\n",
    "    }\n",
    "}"
   ]
  },
  {
   "cell_type": "markdown",
   "metadata": {
    "deletable": false,
    "editable": false,
    "run_control": {
     "frozen": true
    }
   },
   "source": [
    "### Die do-while Schleife\n",
    "\n",
    "Diese Schleife ist sehr ähnlich wie die `while` Schleife, allerdings nachprüfend. Das heißt die Schleife wird mindestens ein Mal ausgeführt, auch wenn die Bedingung anfangs schon `0` ergab. Die Bedingung steht hier am Ende der Schleife um zu verdeutlichen, dass erst am Ende geprüft wird. **Achtung**: Nach der Bedingung muss nun ein `;` folgen, da Sie am Ende steht."
   ]
  },
  {
   "cell_type": "code",
   "execution_count": null,
   "metadata": {},
   "outputs": [],
   "source": [
    "#include <stdio.h> /* printf, getchar */\n",
    "#include <stdlib.h> /* srand, rand */\n",
    "#include <time.h> /* time */\n",
    "\n",
    "int main(){\n",
    "    /* Wird häufig zur Wiederholung eines Programmes mit Menü verwendet */\n",
    "    char choice = 0;\n",
    "    long min = 1;\n",
    "    long max = 6;\n",
    "\n",
    "    /* Zufallsgenerator wird initialisiert */\n",
    "    srand(time(NULL));\n",
    "\n",
    "    do {\n",
    "        /* Zufallszahl von min bis max wird generiert */\n",
    "        long augenzahl = min + rand() % max;\n",
    "        printf(\"Sie haben gewuerfelt: %ld\\n\", augenzahl);\n",
    "\n",
    "        /* Den User fragen ob es wiederholt werden soll */\n",
    "        printf(\"Wollen Sie noch einmal Würfeln? (j/n): \");\n",
    "        choice = getchar();\n",
    "        /* Bei jedem input kommt ein '\\n' mit,\n",
    "            welches aus dem input entfernt werden muss */\n",
    "        getchar();\n",
    "\n",
    "    } while (choice == 'j' || choice == 'J');\n",
    "    \n",
    "    return 0;\n",
    "}"
   ]
  },
  {
   "cell_type": "markdown",
   "metadata": {
    "deletable": false,
    "editable": false,
    "run_control": {
     "frozen": true
    }
   },
   "source": [
    "### Die for Schleife\n",
    "\n",
    "Die `for` Schleife ist eine vorprüfende Schleife, welche verwendet wird wenn die Anzahl der Schleifendurchläufe mitgezählt wird. Sie wird durch drei Ausdrücke definiert:\n",
    "\n",
    "```C\n",
    "for(Initialisierung; Bedingung; Inkrement){\n",
    "    Quelltext\n",
    "}\n",
    "```\n",
    "**Initialisierung**: Wird einmal ganz am Anfang ausgeführt.\n",
    "\n",
    "**Bedingung**: Wird am Anfang von jedem Schleifendurchgang ausgeführt. Wenn sie `0` zurückgibt, beendet die Schleife.\n",
    "\n",
    "**Inkrement**: Wird am Ende jedes Schleifendurchganges ausgeführt.\n",
    "\n",
    "Wie in Vorlesung 3.2 beschrieben, werden Ausdrücke IMMER durch `;` getrennt!\n",
    "\n",
    "\n",
    "Die `for` Schleife ist mit der `while` Schleife vergleichbar. Das folgende Beispiel soll dies verdeutlichen:"
   ]
  },
  {
   "cell_type": "code",
   "execution_count": null,
   "metadata": {},
   "outputs": [],
   "source": [
    "/* Eine while Schleife, die Zahlen von 0 bis 9 ausgibt */\n",
    "long i = 0; /* Initialisierung */\n",
    "printf(\"while:\\n\");\n",
    "while(i < 10) { /* Bedingung */\n",
    "    printf(\"%ld \", i);\n",
    "    i = i + 1; /* Inkrement */\n",
    "}\n",
    "\n",
    "printf(\"\\n\\n\");\n",
    "\n",
    "/* Nun als Vergleich: Eine for Schleife */\n",
    "printf(\"for:\\n\");\n",
    "for(i = 0; i < 10; ++i) { /* Initialisierung; Bedingung; Inkrement */\n",
    "    printf(\"%ld \", i);\n",
    "}"
   ]
  },
  {
   "cell_type": "markdown",
   "metadata": {
    "deletable": false,
    "editable": false,
    "run_control": {
     "frozen": true
    }
   },
   "source": [
    "Wie im obigen Beispiel zu sehen ist, ist eine `for` Schleife etwas kompakter als eine entsprechende `while` Schleife. Zudem ist sie etwas lesbarer, da alle wichtigen Eigenschaften der Iteration im Schleifenkopf stehen und daher sofort klar ist wie sich die Schleife verhalten wird.\n",
    "\n",
    "In einer `for` Schleife können auch mehrere Ausdrücke als Initialisierung oder Inkrement ausgeführt werden:"
   ]
  },
  {
   "cell_type": "code",
   "execution_count": null,
   "metadata": {},
   "outputs": [],
   "source": [
    "/* for Schleife, die Zweierpotenzen ausgibt */\n",
    "long i;\n",
    "long n;\n",
    "\n",
    "for(i = 0, n = 1; i <= 10; ++i, n = n * 2) {\n",
    "    printf(\"2 ^ %2ld = %6ld\\n\", i, n);\n",
    "}"
   ]
  },
  {
   "cell_type": "markdown",
   "metadata": {
    "deletable": false,
    "editable": false,
    "run_control": {
     "frozen": true
    }
   },
   "source": [
    "### Die break Anweisung\n",
    "\n",
    "Die `break` Anweisung wurde schon in Vorlesung 4.2 besprochen. Dort wurde sie verwendet um die Ausführung eines `switch` zu beenden. In einer ähnlichen Weise kann `break` verwendet werden um die Iteration einer Schleife frühzeitig zu beenden. Durch die Anweisung `break` wird die gesamte Schleife beendet und die weiteren Programmbefehle nach dem Ende der Schleife werden weiter ausgeführt."
   ]
  },
  {
   "cell_type": "code",
   "execution_count": null,
   "metadata": {},
   "outputs": [],
   "source": [
    "/* Programm welches einen Buchstaben in einem String findet.\n",
    "    Wenn ein ASCII Charakter vorkommt, der nicht druckbar ist, beendet das Programm */\n",
    "#include <stdio.h>\n",
    "#include <string.h>\n",
    "\n",
    "int main() {\n",
    "    char searchChar = 'n';\n",
    "    char string[100] = \"Das Pferd frisst keinen Gurkensalat!\\n\";\n",
    "    long i;\n",
    "\n",
    "    \n",
    "    /* Nun fügen wir ein nicht druckbares Zeichen ein.\n",
    "        In der Ausgabe ist es nicht zu sehen. */\n",
    "    string[6] = '\\7';\n",
    "    printf(\"%s\", string);\n",
    "\n",
    "    for(i = 0; i < strlen(string) && string[i] != searchChar; ++i) {\n",
    "        /* Druckbare Charaktere sind im ASCII Code von 32 bis 127 */\n",
    "        long currentChar = string[i];\n",
    "        if(currentChar < 32 || currentChar >127) {\n",
    "            printf(\"ERROR: Nicht druckbares Zeichen gefunden!\\n\");\n",
    "            i = -1; /* Um Fehler zu zeigen */\n",
    "            break; /* Jetzt wird nicht mehr weitergesucht */\n",
    "        }\n",
    "    }\n",
    "    \n",
    "    if(i == -1) {\n",
    "        printf(\"Suche nicht durchgeführt!\\n\");\n",
    "    } else if(i < strlen(string)) {\n",
    "        printf(\"Zeichen %c gefunden an der Stelle: %ld\", searchChar, i);\n",
    "    } else {\n",
    "        printf(\"Zeichen %c nicht gefunden.\", searchChar);\n",
    "    }\n",
    "        \n",
    "    return 0;\n",
    "}"
   ]
  },
  {
   "cell_type": "markdown",
   "metadata": {
    "deletable": false,
    "editable": false,
    "run_control": {
     "frozen": true
    }
   },
   "source": [
    "### Die continue Anweisung\n",
    "\n",
    "Ähnlich zur `break` Anweisung, beendet die `continue` Anweisung die Ausführung der derzeitigen Iteration. Im Unterschied zu `break` wird aber nicht die ganze Schleife beendet, sondern `continue`  beendet nur den derzeitigen Schleifendurchlauf:"
   ]
  },
  {
   "cell_type": "code",
   "execution_count": null,
   "metadata": {},
   "outputs": [],
   "source": [
    "long i;\n",
    "printf(\"for:\\n\");\n",
    "for(i = 0; i <= 10; ++i){\n",
    "    /* Teiler von 3 überspringen */\n",
    "    if((i % 3) == 0) {\n",
    "        continue;\n",
    "    }\n",
    "    printf(\"%ld, \", i);\n",
    "}\n",
    "\n",
    "/* WICHTIG: In einer for Schleife wird nach einem continue immer noch das Inkrement ausgeführt!\n",
    "    Das heißt die Schleife zählt weiter. In einer while Schleife muss das zusätzlich ausgeführt werden */\n",
    "printf(\"\\nwhile:\\n\");\n",
    "{\n",
    "    long j = 0;\n",
    "    while(j <= 10) {\n",
    "        /* Teiler von 3 überspringen */\n",
    "        if((j % 3) == 0) {\n",
    "            ++j; /* j muss jetzt erhöht werden */\n",
    "            continue;\n",
    "            printf(\"Ich werde nie ausgeführt :(\"); /* wird nie ausgeführt */\n",
    "        }\n",
    "        printf(\"%ld, \", j);\n",
    "        ++j;\n",
    "    }\n",
    "}"
   ]
  },
  {
   "cell_type": "markdown",
   "metadata": {},
   "source": [
    "Das obige Beispiel soll verdeutlichen, dass die Verwendung einer `for` Schleife **zu bevorzugen ist wenn ein Zähler die Iterationen mitzählen soll!**\n",
    "\n",
    "**HINWEIS:** `break` und `continue` können in speziellen Fällen hilfreich sein. Allerdings wird in modernen Programmierstilen von deren übermäßiger Verwendung abgeraten, da sie Quelltext schwerer für Menschen lesbar machen.\n",
    "\n",
    "Im obigen Beispiel kann `continue` leicht vermieden werden:"
   ]
  },
  {
   "cell_type": "code",
   "execution_count": null,
   "metadata": {},
   "outputs": [],
   "source": [
    "int i;\n",
    "for(i = 0; i <= 10; ++i){\n",
    "    /* Teiler von 3 überspringen */\n",
    "    if((i % 3) != 0) {\n",
    "        printf(\"%d, \", i);\n",
    "    }\n",
    "}"
   ]
  },
  {
   "cell_type": "markdown",
   "metadata": {
    "deletable": false,
    "editable": false,
    "run_control": {
     "frozen": true
    }
   },
   "source": [
    "Dieses Beispiel ist **kürzer** und **klarer**, da außerhalb der `if` Anweisung kein Quelltext mehr steht. Meistens können `break` und `continue` durch Umordnen von logischen Bedingungen vermieden werden. Eine weitere Art sie zu vermeiden sind Funktionen, die in der nächsten Vorlesung genau erläutert werden."
   ]
  },
  {
   "cell_type": "code",
   "execution_count": null,
   "metadata": {},
   "outputs": [],
   "source": []
  }
 ],
 "metadata": {
  "kernelspec": {
   "display_name": "C",
   "language": "c",
   "name": "c"
  },
  "language_info": {
   "file_extension": ".c",
   "mimetype": "text/x-csrc",
   "name": "text/x-csrc"
  }
 },
 "nbformat": 4,
 "nbformat_minor": 2
}
