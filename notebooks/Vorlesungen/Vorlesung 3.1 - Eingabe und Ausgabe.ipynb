{
 "cells": [
  {
   "cell_type": "markdown",
   "metadata": {
    "deletable": false,
    "editable": false,
    "run_control": {
     "frozen": true
    }
   },
   "source": [
    " # Vorlesung 3.1\n",
    " # Eingabe und Ausgabe\n",
    "\n",
    "---\n",
    " **Hinweis:**\n",
    " Diese interaktiven Webseiten beschreiben parallel zu den Vorlesungsfolien das jeweilige Stoffgebiet. Zellen mit C Quelltext können mittels der Tastenkombination \\[Shift\\] + \\[Enter\\] kompiliert und ausgeführt werden. Es wird Ihnen empfohlen, Änderungen in diversen Zellen vorzunehmen um ein Gefühl für die Sprache C zu entwickeln.\n",
    " \n",
    "---\n",
    "\n",
    " \n",
    " **Zur Verwendung der Funktionen der Standard-Bibliothek  muss die Header-Datei stdio.h geladen werden!**\n",
    " \n",
    " ## Ausgabe\n",
    " \n",
    " Mittels dem Befehl `printf`(kurz für print formatted) kann formatierter Text auf der Konsole ausgegeben werden:"
   ]
  },
  {
   "cell_type": "code",
   "execution_count": null,
   "metadata": {},
   "outputs": [],
   "source": [
    "/* Klicken Sie in diese Zelle und führen Sie dieses Beispiel mittels [Shift] + [Enter] aus. */\n",
    "\n",
    "#include <stdio.h> /* benötigt für printf */\n",
    "\n",
    "int main(){\n",
    "    printf(\"Hallo,\"); /* Schreibt den Text ohne neue Zeile */\n",
    "    printf(\" Welt!\\n\"); /* \\n gibt einen Zeilensprung aus (newline) */\n",
    "    \n",
    "    /* \n",
    "    newline ist ein Beispiel für eine Escape Sequence.\n",
    "    Das bedeutet, dass Zeichen etwas anderes repräsentieren als sich selbst.\n",
    "    Eine Escape Sequence beginnt immer mit einem Backslash (\\).\n",
    "    Daher muss ein Backslash auch escaped werden --> \\\\\n",
    "    Auch das Zeichen \" muss escaped werden, da es sonst das Ende der Zeichenkette bedeutet.\n",
    "    */\n",
    "    printf(\"\\tIch bin eingerueckt.\\n\"); /* \\t ist ein Tabulator */\n",
    "    printf(\"Sonderzeichen muessen mit \\\\ \\\"escaped\\\" werden!\\n\");\n",
    "    \n",
    "    return 0;\n",
    "}"
   ]
  },
  {
   "cell_type": "markdown",
   "metadata": {
    "deletable": false,
    "editable": false,
    "run_control": {
     "frozen": true
    }
   },
   "source": [
    " ### Ausgabe von Variablen\n",
    " \n",
    " Um Variablen mit `printf` ausgeben zu können, müssen Platzhalter verwendet werden, damit der entsprechende Wert anstatt des Platzhalters eingesetzt werden kann:"
   ]
  },
  {
   "cell_type": "code",
   "execution_count": null,
   "metadata": {},
   "outputs": [],
   "source": [
    "/*\n",
    "** In Code Zellen auf dieser Website werden die Funktion main() und der header stdio.h automatisch hinzugefügt!\n",
    "** Ihr Code MUSS diese Funktion enthalten, da nur Befehle in ihr auch ausgeführt werden!\n",
    "*/\n",
    "\n",
    "/* Jeder Platzhalter beginnt mit dem % Zeichen. %ld steht für eine ganzzahlige Variable. */\n",
    "\n",
    "long wert = 42;\n",
    "printf(\"Die Antwort auf die Frage: %ld\\n\", wert);"
   ]
  },
  {
   "cell_type": "code",
   "execution_count": null,
   "metadata": {},
   "outputs": [],
   "source": [
    "/* Es gibt viele verschieden Platzhalter für verschiedene Arten von Zeichen. */\n",
    "/*  Ganzzahlen:\n",
    "    (%i integer = Ganzzahl ! %i sollte vermieden werden, da das Zahlensystem variabel ist !)\n",
    "    %d decimal = Dezimalzahl\n",
    "    %o octal = Oktalzahl (wird als Zahl im Oktalen Zahlensystem ausgegeben)\n",
    "    %x heXadecimal = Hexadezimalzahl (Basis 16)\n",
    "*/\n",
    "int ganzzahl = 73;\n",
    "printf(\"Ganzzahl: %i\\n\", ganzzahl); /* \\n ist eine newline zur besseren lesbarkeit */\n",
    "printf(\"Als Oktalzahl: %o\\n\", ganzzahl);\n",
    "printf(\"Als Hexadezimalzahl: %x\", ganzzahl);"
   ]
  },
  {
   "cell_type": "code",
   "execution_count": null,
   "metadata": {},
   "outputs": [],
   "source": [
    "/* Große Ganzzahlen:\n",
    "    Um Variabeln vom Typ long ausgeben zu können, muss ein l vorangesetzt werden:\n",
    "    %li, %ld, %lo, %lx\n",
    "*/\n",
    "long phoenixzahl = 142857;\n",
    "printf(\"Die kleinste Phoenixzahl ist %ld\\n\", phoenixzahl);\n",
    "printf(\"Als Oktalzahl: %lo\\n\", phoenixzahl);"
   ]
  },
  {
   "cell_type": "markdown",
   "metadata": {
    "deletable": false,
    "editable": false,
    "run_control": {
     "frozen": true
    }
   },
   "source": [
    "### Ausgabe von Gleitpunktzahlen\n",
    "\n",
    "Für Gleitpunktzahlen gibt es für single-precision (`float`) und double-precision (`double`) den selben Platzhalter: `%f`"
   ]
  },
  {
   "cell_type": "code",
   "execution_count": null,
   "metadata": {},
   "outputs": [],
   "source": [
    "/* Gleitpunktzahlen:\n",
    "    %f floating point = Punktnotation (die \"normale\" Schreibweise)\n",
    "    %e exponential = Exponentialzahl oder wissenschaftliche Notation\n",
    "    %g generic = entweder %e oder %f\n",
    "*/\n",
    "float c = 299792.458;\n",
    "printf(\"Kommazahl: %f\\n\", c);\n",
    "printf(\"Wissenschaftlich: %e\\n\", c);\n",
    "printf(\"Automatisch: %g\\n\", c);\n",
    "\n",
    "/* double zahlen haben die selben Platzhalter */\n",
    "{\n",
    "    double coulomb = 8987551787.368;\n",
    "    printf(\"Coulomb Konstante: %g\\n\", coulomb);\n",
    "}"
   ]
  },
  {
   "cell_type": "markdown",
   "metadata": {
    "deletable": false,
    "editable": false,
    "run_control": {
     "frozen": true
    }
   },
   "source": [
    "*Bemerkung*: `%f` steht eigentlich für `double`. Wenn ein `float` übergeben wird, wird er allerdings automatisch auf die höhere Genauigkeit von `double` konvertiert. Viele Systeme unterstützen `%lf` auch für `printf`, obwohl es eigentlich nuch für `scanf`(siehe unten) vorgesehen ist."
   ]
  },
  {
   "cell_type": "markdown",
   "metadata": {
    "deletable": false,
    "editable": false,
    "run_control": {
     "frozen": true
    }
   },
   "source": [
    "### Ausgabegenauigkeit von Gleitpunktzahlen\n",
    "\n",
    "Die Ausgabegenauigkeit kann auf drei Stellen angepasst werden, indem nach dem `%` die Zeichen `.3` eingefügt werden. Für zwei Nachkommastellen, muss dementsprechend `.2` eingefügt werden:"
   ]
  },
  {
   "cell_type": "code",
   "execution_count": null,
   "metadata": {},
   "outputs": [],
   "source": [
    "double avogadro = 6.022141e23; /* 6e23 steht für 6 * 10 ^ 23 */\n",
    "printf(\"Ohne Angabe: %e\\n\", avogadro);\n",
    "printf(\"Zwei Stellen: %.2e\\n\", avogadro);\n",
    "printf(\"Drei Stellen: %.3e\\n\", avogadro);"
   ]
  },
  {
   "cell_type": "markdown",
   "metadata": {
    "deletable": false,
    "editable": false,
    "run_control": {
     "frozen": true
    }
   },
   "source": [
    "### Ausgabebreite\n",
    "\n",
    "Um Zahlen nach rechts zu bündeln, kann die Ausgabebreite vorgegeben werden. Dafür muss nach dem `%` im Platzhalter die Zahl der Stellen eingebeben werden:"
   ]
  },
  {
   "cell_type": "code",
   "execution_count": null,
   "metadata": {},
   "outputs": [],
   "source": [
    "double pi = 3.1415926;\n",
    "printf(\"Ohne Breitenangabe:\\n\");\n",
    "printf(\"Pi: %.2f\\n\", pi);\n",
    "printf(\"Pi: %.4f\\n\", pi);\n",
    "\n",
    "/* Jetzt die Zahlen mit einer Breite von 6 Zeichen ausgeben.\n",
    "    Dafür werden Leerzeichen vorangestellt bis die Zahl 6 Zeichen breit ist */\n",
    "printf(\"Mit Breitenangabe:\\n\");\n",
    "printf(\"Pi: %6.2f\\n\", pi);\n",
    "printf(\"Pi: %6.4f\\n\", pi);\n",
    "/* ACHTUNG: Wenn die Zahl breiter ist, wird sie voll ausgegeben!\n",
    "    In diesem Fall muss die Anzahl der Nachkommastellen reduziert werden */\n",
    "printf(\"Pi: %6f\\n\", pi);"
   ]
  },
  {
   "cell_type": "code",
   "execution_count": null,
   "metadata": {},
   "outputs": [],
   "source": [
    "double pi = 3.1415926;\n",
    "printf(\"Rechts gebuendelt:\\n\");\n",
    "printf(\"Pi: \\\"%8.2f\\\"\\n\", pi);\n",
    "printf(\"Pi: \\\"%8.4f\\\"\\n\", pi);\n",
    "/* Die Ausgabe kann auch nach links gebündelt werden */\n",
    "printf(\"Links gebuendelt:\\n\");\n",
    "printf(\"Pi: \\\"%-8.2f\\\"\\n\", pi);\n",
    "printf(\"Pi: \\\"%-8.4f\\\"\\n\", pi);\n",
    "{\n",
    "    /* Die Ausgabebreite kann auch variabel sein.\n",
    "    Die Reihenfolge der Parameter ist die selbe, in der die Zeichen vorkommen */\n",
    "    int breite = 10;\n",
    "    printf(\"Pi: \\\"%-*f\\\"\\n\", breite, pi);\n",
    "}"
   ]
  },
  {
   "cell_type": "markdown",
   "metadata": {
    "deletable": false,
    "editable": false,
    "run_control": {
     "frozen": true
    }
   },
   "source": [
    "### Ausgabe von Zeichen\n",
    "\n",
    "Einzelne Zeichen können mittels `%c` ausgegeben werden. Zeichenketten mittels `%s`:"
   ]
  },
  {
   "cell_type": "code",
   "execution_count": null,
   "metadata": {},
   "outputs": [],
   "source": [
    "{\n",
    "    /* Ein einzelnes Zeichen wird durch einfache Komma '' gekennzeichnet */\n",
    "    char attention = '!';\n",
    "    printf(\"Rufzeichen: %c\\n\", attention);\n",
    "}\n",
    "{\n",
    "    /* Zeichenketten mit doppelten Komma \"\" */\n",
    "    char name[12] = \"Beeblebrox\";\n",
    "    printf(\"Name: %s\\n\", name);\n",
    "    /* Auch hier kann die Ausgabebreite angegeben werden */\n",
    "    printf(\"Name: %20s\\n\", name);\n",
    "}"
   ]
  },
  {
   "cell_type": "markdown",
   "metadata": {
    "deletable": false,
    "editable": false,
    "run_control": {
     "frozen": true
    }
   },
   "source": [
    "## Einlesen von Variablen\n",
    "\n",
    "Genau wie Variablen ausgegeben werden können, können sie auch eingelesen werden. Die Funktion `scanf` liest hierfür den gefragten Wert von der Konsole ein. Die Platzhalter sind exakt die selben. Nur die übergebenen Variablen müssen geändert werden, da `scanf` die Speicheradresse der Variablen benötigt um den eingelesenen Wert dort zu speichern. Die Speicheradresse einer Variable kann durch den Operator `&` abgefragt werden."
   ]
  },
  {
   "cell_type": "code",
   "execution_count": null,
   "metadata": {},
   "outputs": [],
   "source": [
    "/* der & Operator gibt die Speicheradresse einer Variablen zurück */\n",
    "int a = 5;\n",
    "printf(\"Wert: %d\\n\", a);\n",
    "printf(\"Adresse: %p\\n\", &a);"
   ]
  },
  {
   "cell_type": "code",
   "execution_count": null,
   "metadata": {},
   "outputs": [],
   "source": [
    "/* Zunächst muss eine Variable deklariert werden in die Eingelesen werden kann. */\n",
    "long zahl = 0;\n",
    "/* scanf benötigt die Adresse, daher &zahl, NICHT zahl\n",
    "    Die Zeichenkette, die das Format bestimmt gibt vor was eingelesen werden kann.\n",
    "    Versuchen Sie in diesem Beispiel in der Eingabezeile Buchstaben statt Zahlen einzugeben! */\n",
    "printf(\"Geben Sie eine ganze Zahl ein: \");\n",
    "scanf(\"%ld\", &zahl);\n",
    "/* nun kann die Variable verwendet werden */\n",
    "printf(\"Gelesener Wert: %ld\\n\", zahl); /* kein & weil printf nur den Wert benötigt */"
   ]
  },
  {
   "cell_type": "code",
   "execution_count": null,
   "metadata": {},
   "outputs": [],
   "source": [
    "/* %f steht in printf für double, weil float keinen eigenen Platzhalter hat.\n",
    "    In scanf steht %f für float und %lf für double. */\n",
    "float zahl1;\n",
    "double zahl2;\n",
    "/* Zuerst wird die float Variable eingelesen */\n",
    "printf(\"Geben Sie eine Kommazahl ein: \");\n",
    "scanf(\"%f\", &zahl1);\n",
    "/* Jetzt die double Variable */\n",
    "printf(\"Nun die double Zahl: \");\n",
    "scanf(\"%lf\", &zahl2);\n",
    "\n",
    "printf(\"Ihre Eingabe: %f, %f\\n\", zahl1, zahl2); /* Hier wieder NUR %f */"
   ]
  },
  {
   "cell_type": "code",
   "execution_count": null,
   "metadata": {},
   "outputs": [],
   "source": [
    "/* Im Fall von Zeichenketten muss etwas beachtet werden: */\n",
    "char name[100]; /* name ist eine Zeichenkette */\n",
    "/* name[0] beschreibt das erste Element */\n",
    "/* name ohne Klammern beschreibt die Speicheradresse der Kette.\n",
    "    Die Kette beginnt mit dem ersten Element. Daher ist &name[0] gleichbedeutend mit name */\n",
    "printf(\"Geben Sie Ihren Namen ein: \");\n",
    "scanf(\"%s\", name); /* &name[0] ist hier genauso möglich, aber aufwändiger */\n",
    "printf(\"Hallo %s!\\n\", name);"
   ]
  },
  {
   "cell_type": "markdown",
   "metadata": {
    "deletable": false,
    "editable": false,
    "run_control": {
     "frozen": true
    }
   },
   "source": [
    "### Ein- und Ausgabe von einzelnen Zeichen\n",
    "\n",
    "Einzelne Zeichen können mit `putchar` ausgegeben und mit `getchar` eingelesen werden. Dies kann in Einzelfällen nützlich sein, eignet sich aber nicht um Zahlen einzulesen."
   ]
  },
  {
   "cell_type": "code",
   "execution_count": null,
   "metadata": {},
   "outputs": [],
   "source": [
    "/* Versuchen Sie beim Ausführen mehrere Zeichen einzugeben! */\n",
    "char zeichen;\n",
    "\n",
    "zeichen = getchar();\n",
    "\n",
    "printf(\"Folgendes Zeichen wurde eingelesen:\\n\");\n",
    "putchar(zeichen);"
   ]
  },
  {
   "cell_type": "markdown",
   "metadata": {
    "deletable": false,
    "editable": false,
    "run_control": {
     "frozen": true
    }
   },
   "source": [
    "Im obigen Beispiel wird immer nur ein Zeichen ausgegeben. Dies geschieht weil `getchar()` nur ein einziges Zeichen liest. Allerdings gehen die anderen eingegeben Zeichen nicht verloren. Sie bleiben im *Input Buffer* (siehe Vorlesung 10) zwischengespeichert bis sie gelesen werden. Daher sollte nach jedem Lesen von einzelnen Zeichen (sowohl `getchar()`, als auch `scanf(\"%c\")`), immer darauf geachtet werden, dass das Zeichen `\\n` noch gespeichert ist, weil die Eingabe mit Enter (also `\\n`) beendet wird. Das folgende Beispiel soll das verdeutlichen. Versuchen Sie sowohl nur ein Zeichen, als auch mehrere einzugeben. Der ASCII Wert von `\\n` ist `10`."
   ]
  },
  {
   "cell_type": "code",
   "execution_count": null,
   "metadata": {},
   "outputs": [],
   "source": [
    "/* Versuchen Sie beim Ausführen nur eines oder mehrere Zeichen einzugeben! */\n",
    "char zeichen;\n",
    "\n",
    "zeichen = getchar();\n",
    "\n",
    "printf(\"Folgendes Zeichen wurde eingelesen: \");\n",
    "putchar(zeichen);\n",
    "\n",
    "zeichen = getchar();\n",
    "\n",
    "printf(\"\\nDas zweite Zeichen ist: '%c', als Zahl: %d\\n\", zeichen, zeichen);"
   ]
  },
  {
   "cell_type": "code",
   "execution_count": null,
   "metadata": {},
   "outputs": [],
   "source": []
  }
 ],
 "metadata": {
  "kernelspec": {
   "display_name": "C",
   "language": "c",
   "name": "c"
  },
  "language_info": {
   "file_extension": ".c",
   "mimetype": "text/x-csrc",
   "name": "text/x-csrc"
  }
 },
 "nbformat": 4,
 "nbformat_minor": 4
}
